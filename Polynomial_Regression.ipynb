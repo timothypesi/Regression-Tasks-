{
  "nbformat": 4,
  "nbformat_minor": 2,
  "metadata": {
    "colab": {
      "name": "Polynomial Regression.ipynb",
      "provenance": [],
      "toc_visible": true
    },
    "kernelspec": {
      "name": "python3",
      "display_name": "Python 3.8.5 64-bit ('base': conda)"
    },
    "language_info": {
      "name": "python",
      "version": "3.8.5",
      "mimetype": "text/x-python",
      "codemirror_mode": {
        "name": "ipython",
        "version": 3
      },
      "pygments_lexer": "ipython3",
      "nbconvert_exporter": "python",
      "file_extension": ".py"
    },
    "interpreter": {
      "hash": "8e24f623c9d976e65e43b538ecbbc4d478524c94015e92b14b460358aba5245a"
    }
  },
  "cells": [
    {
      "cell_type": "markdown",
      "source": [
        "# <font color=\"green\">Polynomial Regression in Python</font>"
      ],
      "metadata": {
        "id": "X6fnxjPMh87f"
      }
    },
    {
      "cell_type": "markdown",
      "source": [
        "# <font color=\"green\">Example 1</font> \n"
      ],
      "metadata": {
        "id": "cQrBa1eIxgNj"
      }
    },
    {
      "cell_type": "markdown",
      "source": [
        "Let's look at a practical way of performing a polynomial regression.\n",
        "\n",
        "In this example we are going to predict the salary of a candidate given the experience the candidate has. The HR of Sanford and Sons Limited, is looking to hire for a senior postion in the company. As a policy, the company has a salary distribution dataset that they use to determine how much salary to give to their employees based on their experience. As a data scientist, you are tasked creating a model that will help them with making salary predictions given  years of experience. In this case, we want to predict the amount of salary a canditate with 6 and half years of experience should get. You are provided with following dataset.\n",
        "\n",
        "[Download Dataset](https://drive.google.com/file/d/153tLxmGZxDhVmh2o0wUP8UjFPZPmW0Ux/view?usp=sharing)"
      ],
      "metadata": {
        "id": "DONC8-1iyE9D"
      }
    },
    {
      "cell_type": "markdown",
      "source": [
        "**Import Libraries**"
      ],
      "metadata": {
        "id": "mJfuckv17tQQ"
      }
    },
    {
      "cell_type": "code",
      "execution_count": 1,
      "source": [
        "#Import libaries\r\n",
        "import numpy as np\r\n",
        "import pandas as pd\r\n",
        "import matplotlib.pyplot as plt\r\n",
        "\r\n",
        "from sklearn.preprocessing import PolynomialFeatures\r\n",
        "\r\n",
        "from sklearn.model_selection import train_test_split\r\n",
        "\r\n",
        "# Import LinearRegression method from sklearn linear_model library\r\n",
        "from sklearn.linear_model import LinearRegression\r\n"
      ],
      "outputs": [],
      "metadata": {
        "id": "hcEDgdZd72YS"
      }
    },
    {
      "cell_type": "markdown",
      "source": [
        "**Load data**"
      ],
      "metadata": {
        "id": "9xnxzHXf8ZTP"
      }
    },
    {
      "cell_type": "code",
      "execution_count": 2,
      "source": [
        "# Load the dataset\r\n",
        "dataset = pd.read_csv('data/position_salaries.csv')\r\n",
        "\r\n",
        "print(dataset)\r\n",
        "\r\n",
        "#Get the 2 and the last column from the dataset \r\n",
        "X = dataset.iloc[:, 1:2].values\r\n",
        "y = dataset.iloc[:, 2].values\r\n",
        "print(X)\r\n",
        "print(y)"
      ],
      "outputs": [
        {
          "output_type": "stream",
          "name": "stdout",
          "text": [
            "            Position  Level   Salary\n",
            "0   Business Analyst      1    45000\n",
            "1  Junior Consultant      2    50000\n",
            "2  Senior Consultant      3    60000\n",
            "3            Manager      4    80000\n",
            "4    Country Manager      5   110000\n",
            "5     Region Manager      6   150000\n",
            "6            Partner      7   200000\n",
            "7     Senior Partner      8   300000\n",
            "8            C-level      9   500000\n",
            "9                CEO     10  1000000\n",
            "[[ 1]\n",
            " [ 2]\n",
            " [ 3]\n",
            " [ 4]\n",
            " [ 5]\n",
            " [ 6]\n",
            " [ 7]\n",
            " [ 8]\n",
            " [ 9]\n",
            " [10]]\n",
            "[  45000   50000   60000   80000  110000  150000  200000  300000  500000\n",
            " 1000000]\n"
          ]
        }
      ],
      "metadata": {
        "id": "FUXiOEgg8jPp"
      }
    },
    {
      "cell_type": "markdown",
      "source": [
        "**Analysis of the data**"
      ],
      "metadata": {
        "id": "miJnKMeV9CTU"
      }
    },
    {
      "cell_type": "code",
      "execution_count": 3,
      "source": [
        "# Since our dataset is pretty clean, let's start by visualizing our dataset by plotting a scatter plot\r\n",
        "\r\n",
        "plt.scatter(X, y, color='blue') \r\n",
        "plt.title('Salary')\r\n",
        "plt.xlabel('Position Level')\r\n",
        "plt.ylabel('Salary')\r\n",
        "plt.show()"
      ],
      "outputs": [
        {
          "output_type": "display_data",
          "data": {
            "image/png": "[encoded data removed]",
            "text/plain": [
              "<Figure size 432x288 with 1 Axes>"
            ]
          },
          "metadata": {
            "needs_background": "light"
          }
        }
      ],
      "metadata": {
        "id": "eyc8b6Dq-FQC"
      }
    },
    {
      "cell_type": "markdown",
      "source": [
        "**Observation**\n",
        "\n",
        "From the scatter plot, the data does not appear to be linear. So if were to fit a simple linear straight line, it would not cover most of the points. Which is why applying Linear regression on this dataset would not give us the correct value.\n",
        "\n",
        "The other alternative we are left with is applying polynomial regression.\n",
        "\n",
        "**Manual prediction**\n",
        "\n",
        "Before we dive into polynomial regression, let's do some manual prediction of own and then we can compare the results we get to the results we'll get after doing polynomial regression in a short while.\n",
        "\n",
        "From our problem statement, we need to predict the salary of a candidate with 6.5 years of experience. From our dataset, we already know the salary for  candidates with 6 and 7 years of experience which is Ksh 150,000 and Ksh 200,000 respectively.This means that the salary for a candidate with 6.5 years of experience lies between this two years.Therefore, all we need to do is get the mean of this two years, right?\n",
        "\n",
        "(150,000 + 200,000)/ 2 = KSh 175,000\n",
        "\n",
        "From this, we can conclude that the desired salary is 175,000\n",
        "\n",
        "Now let's do it using polynomial regression "
      ],
      "metadata": {
        "id": "n3Nm7UEW_Zvz"
      }
    },
    {
      "cell_type": "markdown",
      "source": [
        "**Polynomial Regression**"
      ],
      "metadata": {
        "id": "wz5qKJgkFcZB"
      }
    },
    {
      "cell_type": "code",
      "execution_count": 8,
      "source": [
        "# Split the dataset into train and test sets\r\n",
        "X_train, Y_train, X_test, Y_test = train_test_split(X,y, test_size = 0.2, random_state=0)\r\n",
        "\r\n",
        "\r\n",
        "# Fit Linear Regression model to the dataset(this is optional. We are doing this for the sole purpose of comparing the linear regression model to the polynomial regression model)\r\n",
        "reg_line = LinearRegression()\r\n",
        "reg_line.fit(X,y)\r\n",
        "\r\n",
        "# Visualize the Linear Regression results\r\n",
        "plt.scatter(X, y, color='blue') # You can put any color you like. This just helps us highlight the data points\r\n",
        "plt.plot(X, reg_line.predict(X), color='red')\r\n",
        "plt.title('Salary Prediction(Linear Regression)')\r\n",
        "plt.xlabel('Position Level')\r\n",
        "plt.ylabel('Salary')\r\n",
        "plt.show()\r\n",
        "\r\n",
        "\r\n",
        "# Fit polynomial Regression to the dataset\r\n",
        "poly_reg = PolynomialFeatures(degree = 2) #With the degree of 1 its like linear\r\n",
        "X_poly = poly_reg.fit_transform(X)\r\n",
        "\r\n",
        "\r\n",
        "pol_reg = LinearRegression()\r\n",
        "pol_reg.fit(X_poly, y)\r\n",
        "\r\n",
        "#Visualize the Polynomial Regression results\r\n",
        "plt.scatter(X, y, color='blue') # You can put any color you like. This just helps us highlight the data points\r\n",
        "plt.plot(X, pol_reg.predict(X_poly), color='red')\r\n",
        "plt.title('Salary Prediction (Polynomial Regression)')\r\n",
        "plt.xlabel('Position Level')\r\n",
        "plt.ylabel('Salary')\r\n",
        "plt.show()\r\n",
        "\r\n",
        "# pol_reg.predict(poly_reg.fit_transform([[5.5]]))\r\n",
        "\r\n",
        "\r\n"
      ],
      "outputs": [
        {
          "output_type": "display_data",
          "data": {
            "image/png": "[encoded data removed]",
            "text/plain": [
              "<Figure size 432x288 with 1 Axes>"
            ]
          },
          "metadata": {
            "needs_background": "light"
          }
        },
        {
          "output_type": "display_data",
          "data": {
            "image/png": "[encoded data removed]",
            "text/plain": [
              "<Figure size 432x288 with 1 Axes>"
            ]
          },
          "metadata": {
            "needs_background": "light"
          }
        }
      ],
      "metadata": {
        "id": "eGVsFvrKKF9N"
      }
    },
    {
      "cell_type": "markdown",
      "source": [
        "**Code Explanation**\n",
        " \n",
        "Remember earlier on we said that a polynomial equation is written in the form;\n",
        "\n",
        "y = b0+b1x+b2x^2.....bnx^n\n",
        "\n",
        "Therefore,everytime we add an  nth degree of polynomial x its considered as though we are adding a feature.\n",
        "\n",
        "So the function \n",
        "\n",
        "\n",
        "```\n",
        "PolynomialFeatures(degree = 2)\n",
        "```\n",
        "\n",
        "\n",
        "helps us to add the degree polynomial x.For example, in our code we have specified the degree to be 2 hence the equation would look like this\n",
        "\n",
        "y = b0+b1x+b2x^2\n",
        "\n",
        "\n",
        "On the next line, we fit and transform our X independent variable into a format that has the polynomial features\n",
        "\n",
        "Next, we apply our polynomial feature to linear regression. \n",
        "\n"
      ],
      "metadata": {
        "id": "dC1ZQqSaIZoZ"
      }
    },
    {
      "cell_type": "markdown",
      "source": [
        "**Observation**\n",
        "\n",
        "Looking at the two graphs, we can clearly see that the polynomial graph has given us way better results than the simple linear one.\n",
        "\n",
        "Using the polynomial graph it becomes easier to draw meaningful conclusion from it. However, the curve is not passing through as many points as we'd want hence we can say that this graph is not fully optimized."
      ],
      "metadata": {
        "id": "kXwqH8BhW8OF"
      }
    },
    {
      "cell_type": "markdown",
      "source": [
        "**Optimization in Polynomial Regression**\n",
        "\n",
        "How do we choose an optimal model?\n",
        "\n",
        "For us to answer this question, we need to first understand this 3 very important terms\n",
        "\n",
        "\n",
        "1.   Bias\n",
        "2.   Variance\n",
        "\n",
        "\n",
        "**Bias**: This is the error we get due to the model's simplistic assumptions when fitting a dataset. In other words, a high bias translates to the model being unable to capture the pattern in a dataset. As a result, it leads to **under-fitting**. A perfect example is when we tried to use simple linear regression in our dataset.\n",
        "\n",
        "**Variance**: Unlike bias, this is the error we get due to trying to fit a complex model to our data. A high variance translates to the model passing through most of the data points, leading to **over-fitting**. This is not good because the model will fail to generalise on unseen data. This means that if we subject the model to another dataset it will fail to fit the pattern . \n",
        "\n",
        "Therefore, for us to choose an optimal model the model needs to have a low bias and a low varinace.That is to say the model should not capture too many data points and at the same time its should not capture very few data points. \n",
        "\n",
        "So now let's optimize our model\n",
        "\n",
        "\n",
        "\n"
      ],
      "metadata": {
        "id": "-sKhhgoCZN5Q"
      }
    },
    {
      "cell_type": "code",
      "execution_count": 9,
      "source": [
        "# To improve on the model, all we need to do is to increase degree of the polynomial\r\n",
        "# Let's increase the degree to 3\r\n",
        "\r\n",
        "# Fit polynomial Regression to the dataset\r\n",
        "poly_reg = PolynomialFeatures(degree = 3) \r\n",
        "X_poly = poly_reg.fit_transform(X)\r\n",
        "\r\n",
        "\r\n",
        "pol_reg = LinearRegression()\r\n",
        "pol_reg.fit(X_poly, y)\r\n",
        "\r\n",
        "#Visualize the Polynomial Regression results\r\n",
        "plt.scatter(X, y, color='blue') # You can put any color you like. This just helps us highlight the data points\r\n",
        "plt.plot(X, pol_reg.predict(X_poly), color='red')\r\n",
        "plt.title('Salary Prediction (Polynomial Regression)')\r\n",
        "plt.xlabel('Position Level')\r\n",
        "plt.ylabel('Salary')\r\n",
        "plt.show()"
      ],
      "outputs": [
        {
          "output_type": "display_data",
          "data": {
            "image/png": "[encoded data removed]",
            "text/plain": [
              "<Figure size 432x288 with 1 Axes>"
            ]
          },
          "metadata": {
            "needs_background": "light"
          }
        }
      ],
      "metadata": {
        "id": "p1IBBtLAg6RW"
      }
    },
    {
      "cell_type": "markdown",
      "source": [
        "**Observation**\n",
        "\n",
        "When we increase the degree to 3, the curve captures slightly more data points."
      ],
      "metadata": {
        "id": "7jmdajSDiq1m"
      }
    },
    {
      "cell_type": "code",
      "execution_count": 10,
      "source": [
        "# Let's improve it the model further\r\n",
        "\r\n",
        "# Fit polynomial Regression to the dataset\r\n",
        "poly_reg = PolynomialFeatures(degree = 6) \r\n",
        "X_poly = poly_reg.fit_transform(X)\r\n",
        "\r\n",
        "\r\n",
        "pol_reg = LinearRegression()\r\n",
        "pol_reg.fit(X_poly, y)\r\n",
        "\r\n",
        "#Visualize the Polynomial Regression results\r\n",
        "plt.scatter(X, y, color='blue') # You can put any color you like. This just helps us highlight the data points\r\n",
        "plt.plot(X, pol_reg.predict(X_poly), color='red')\r\n",
        "plt.title('Salary Prediction (Polynomial Regression)')\r\n",
        "plt.xlabel('Position Level')\r\n",
        "plt.ylabel('Salary')\r\n",
        "plt.show()"
      ],
      "outputs": [
        {
          "output_type": "display_data",
          "data": {
            "image/png": "[encoded data removed]",
            "text/plain": [
              "<Figure size 432x288 with 1 Axes>"
            ]
          },
          "metadata": {
            "needs_background": "light"
          }
        }
      ],
      "metadata": {
        "id": "cYNew_n7jL1d"
      }
    },
    {
      "cell_type": "markdown",
      "source": [
        "**Observation**\n",
        "\n",
        "When we increase the degree to 6, the model is able to capture all of the data points. This is an example of over-fitting. This model is simply too perfect which is not good for us when we using an unseen data."
      ],
      "metadata": {
        "id": "18OUnCvNjcm-"
      }
    },
    {
      "cell_type": "code",
      "execution_count": 11,
      "source": [
        "# Now we know where our cap is, let's decrease the degrees slightly \r\n",
        "\r\n",
        "# Fit polynomial Regression to the dataset\r\n",
        "poly_reg_4 = PolynomialFeatures(degree = 4) \r\n",
        "X_poly = poly_reg_4.fit_transform(X)\r\n",
        "\r\n",
        "\r\n",
        "pol_reg = LinearRegression()\r\n",
        "pol_reg.fit(X_poly, y)\r\n",
        "\r\n",
        "#Visualize the Polynomial Regression results\r\n",
        "plt.scatter(X, y, color='blue') # You can put any color you like. This just helps us highlight the data points\r\n",
        "plt.plot(X, pol_reg.predict(X_poly), color='red')\r\n",
        "plt.title('Salary Prediction (Polynomial Regression)')\r\n",
        "plt.xlabel('Position Level')\r\n",
        "plt.ylabel('Salary')\r\n",
        "plt.show()"
      ],
      "outputs": [
        {
          "output_type": "display_data",
          "data": {
            "image/png": "[encoded data removed]",
            "text/plain": [
              "<Figure size 432x288 with 1 Axes>"
            ]
          },
          "metadata": {
            "needs_background": "light"
          }
        }
      ],
      "metadata": {
        "id": "x77UTOG1kNN2"
      }
    },
    {
      "cell_type": "markdown",
      "source": [
        "**Obsevartion**\n",
        "\n",
        "We can conclude that this is a pretty good model because it passes just about the right amoung of points and also the  distance from the curve to the points that it does not pass through is at a minimum. Hence, we can use this model to make our predictions."
      ],
      "metadata": {
        "id": "OiQRbRSSk0EF"
      }
    },
    {
      "cell_type": "markdown",
      "source": [
        "**Making Predictions**\n",
        "\n",
        "The final step is use the model we created to make the our desired prediction.\n",
        "\n",
        "To check how accurate polynomial regression is, we are going to predict the salary using both linear regression and polynomial regression"
      ],
      "metadata": {
        "id": "8IABpBSZuW1g"
      }
    },
    {
      "cell_type": "code",
      "execution_count": 13,
      "source": [
        "# Predict using linear regression\r\n",
        "lin_pred = reg_line.predict([[6.5]])\r\n",
        "print('Linear prediction: %d' %lin_pred)\r\n",
        "\r\n",
        "# Predict using Polynomial Regression\r\n",
        "poly_pred = pol_reg.predict(poly_reg_4.fit_transform([[6.5]]))\r\n",
        "print('Polynomial prediction: %d' %poly_pred)\r\n",
        "\r\n",
        "# We can also get the predictions as an array\r\n",
        "poly_arr_pred = pol_reg.predict(poly_reg_4.fit_transform(X))"
      ],
      "outputs": [
        {
          "output_type": "stream",
          "name": "stdout",
          "text": [
            "Linear prediction: 330378\n",
            "Polynomial prediction: 158862\n"
          ]
        }
      ],
      "metadata": {
        "id": "kR-M0RXZweuX"
      }
    },
    {
      "cell_type": "markdown",
      "source": [
        "**Conclusion**\n",
        "\n",
        "The predicted salary using linear regression is Ksh 330,379. This is not accepteable because it falls out of the range Ksh 150,000 and 200,000.\n",
        "\n",
        "On the other hand,the predicted salary using polynomial regression is Ksh 158,862"
      ],
      "metadata": {
        "id": "7aKkBsgnFnNs"
      }
    },
    {
      "cell_type": "markdown",
      "source": [
        "# <font color=\"green\">Challenges</font>\n"
      ],
      "metadata": {
        "id": "fv9VRI1n9pIb"
      }
    },
    {
      "cell_type": "code",
      "execution_count": 15,
      "source": [
        "# Challenge 1\r\n",
        "# You are given a dataset that contains the prices and other attributes of diamonds. The dataset has 9 columns: Carat, color, cut, clarity, depth, table, price, x, y, z.\r\n",
        "# carat: Carat weight of the diamond\r\n",
        "# cut: Describes cut quality of the diamond. Quality in increasing order Fair, Good, Very Good, Premium, Ideal\r\n",
        "# color: Color of the diamond, with D being the best and J the worst\r\n",
        "# clarity: How obvious inclusions are within the diamond:(in order from best to worst, FL = flawless, I3= level 3 inclusions) FL,IF, VVS1, VVS2, VS1, VS2, SI1, SI2, I1, I2, I3\r\n",
        "# depth % :The height of a diamond, measured from the culet to the table, divided by its average girdle diameter\r\n",
        "# table %: The width of the diamond's table expressed as a percentage of its average diameter\r\n",
        "# price: The price of the diamond\r\n",
        "# x: length mm\r\n",
        "# y: width mm\r\n",
        "# z: depth mm\r\n",
        "# Your task is to predict the prices of diamonds given carat weight\r\n",
        "# Here is the dataset: https://drive.google.com/file/d/1lSgupNhVwXzR9aXbz2G0VwKQGEpx6pFl/view?usp=sharing\r\n",
        "\r\n",
        "diamond = pd.read_csv('data/diamonds.csv')\r\n",
        "diamond"
      ],
      "outputs": [
        {
          "output_type": "execute_result",
          "data": {
            "text/html": [
              "<div>\n",
              "<style scoped>\n",
              "    .dataframe tbody tr th:only-of-type {\n",
              "        vertical-align: middle;\n",
              "    }\n",
              "\n",
              "    .dataframe tbody tr th {\n",
              "        vertical-align: top;\n",
              "    }\n",
              "\n",
              "    .dataframe thead th {\n",
              "        text-align: right;\n",
              "    }\n",
              "</style>\n",
              "<table border=\"1\" class=\"dataframe\">\n",
              "  <thead>\n",
              "    <tr style=\"text-align: right;\">\n",
              "      <th></th>\n",
              "      <th>Unnamed: 0</th>\n",
              "      <th>carat</th>\n",
              "      <th>cut</th>\n",
              "      <th>color</th>\n",
              "      <th>clarity</th>\n",
              "      <th>depth</th>\n",
              "      <th>table</th>\n",
              "      <th>price</th>\n",
              "      <th>x</th>\n",
              "      <th>y</th>\n",
              "      <th>z</th>\n",
              "    </tr>\n",
              "  </thead>\n",
              "  <tbody>\n",
              "    <tr>\n",
              "      <th>0</th>\n",
              "      <td>1</td>\n",
              "      <td>0.23</td>\n",
              "      <td>Ideal</td>\n",
              "      <td>E</td>\n",
              "      <td>SI2</td>\n",
              "      <td>61.5</td>\n",
              "      <td>55.0</td>\n",
              "      <td>326</td>\n",
              "      <td>3.95</td>\n",
              "      <td>3.98</td>\n",
              "      <td>2.43</td>\n",
              "    </tr>\n",
              "    <tr>\n",
              "      <th>1</th>\n",
              "      <td>2</td>\n",
              "      <td>0.21</td>\n",
              "      <td>Premium</td>\n",
              "      <td>E</td>\n",
              "      <td>SI1</td>\n",
              "      <td>59.8</td>\n",
              "      <td>61.0</td>\n",
              "      <td>326</td>\n",
              "      <td>3.89</td>\n",
              "      <td>3.84</td>\n",
              "      <td>2.31</td>\n",
              "    </tr>\n",
              "    <tr>\n",
              "      <th>2</th>\n",
              "      <td>3</td>\n",
              "      <td>0.23</td>\n",
              "      <td>Good</td>\n",
              "      <td>E</td>\n",
              "      <td>VS1</td>\n",
              "      <td>56.9</td>\n",
              "      <td>65.0</td>\n",
              "      <td>327</td>\n",
              "      <td>4.05</td>\n",
              "      <td>4.07</td>\n",
              "      <td>2.31</td>\n",
              "    </tr>\n",
              "    <tr>\n",
              "      <th>3</th>\n",
              "      <td>4</td>\n",
              "      <td>0.29</td>\n",
              "      <td>Premium</td>\n",
              "      <td>I</td>\n",
              "      <td>VS2</td>\n",
              "      <td>62.4</td>\n",
              "      <td>58.0</td>\n",
              "      <td>334</td>\n",
              "      <td>4.20</td>\n",
              "      <td>4.23</td>\n",
              "      <td>2.63</td>\n",
              "    </tr>\n",
              "    <tr>\n",
              "      <th>4</th>\n",
              "      <td>5</td>\n",
              "      <td>0.31</td>\n",
              "      <td>Good</td>\n",
              "      <td>J</td>\n",
              "      <td>SI2</td>\n",
              "      <td>63.3</td>\n",
              "      <td>58.0</td>\n",
              "      <td>335</td>\n",
              "      <td>4.34</td>\n",
              "      <td>4.35</td>\n",
              "      <td>2.75</td>\n",
              "    </tr>\n",
              "    <tr>\n",
              "      <th>...</th>\n",
              "      <td>...</td>\n",
              "      <td>...</td>\n",
              "      <td>...</td>\n",
              "      <td>...</td>\n",
              "      <td>...</td>\n",
              "      <td>...</td>\n",
              "      <td>...</td>\n",
              "      <td>...</td>\n",
              "      <td>...</td>\n",
              "      <td>...</td>\n",
              "      <td>...</td>\n",
              "    </tr>\n",
              "    <tr>\n",
              "      <th>53935</th>\n",
              "      <td>53936</td>\n",
              "      <td>0.72</td>\n",
              "      <td>Ideal</td>\n",
              "      <td>D</td>\n",
              "      <td>SI1</td>\n",
              "      <td>60.8</td>\n",
              "      <td>57.0</td>\n",
              "      <td>2757</td>\n",
              "      <td>5.75</td>\n",
              "      <td>5.76</td>\n",
              "      <td>3.50</td>\n",
              "    </tr>\n",
              "    <tr>\n",
              "      <th>53936</th>\n",
              "      <td>53937</td>\n",
              "      <td>0.72</td>\n",
              "      <td>Good</td>\n",
              "      <td>D</td>\n",
              "      <td>SI1</td>\n",
              "      <td>63.1</td>\n",
              "      <td>55.0</td>\n",
              "      <td>2757</td>\n",
              "      <td>5.69</td>\n",
              "      <td>5.75</td>\n",
              "      <td>3.61</td>\n",
              "    </tr>\n",
              "    <tr>\n",
              "      <th>53937</th>\n",
              "      <td>53938</td>\n",
              "      <td>0.70</td>\n",
              "      <td>Very Good</td>\n",
              "      <td>D</td>\n",
              "      <td>SI1</td>\n",
              "      <td>62.8</td>\n",
              "      <td>60.0</td>\n",
              "      <td>2757</td>\n",
              "      <td>5.66</td>\n",
              "      <td>5.68</td>\n",
              "      <td>3.56</td>\n",
              "    </tr>\n",
              "    <tr>\n",
              "      <th>53938</th>\n",
              "      <td>53939</td>\n",
              "      <td>0.86</td>\n",
              "      <td>Premium</td>\n",
              "      <td>H</td>\n",
              "      <td>SI2</td>\n",
              "      <td>61.0</td>\n",
              "      <td>58.0</td>\n",
              "      <td>2757</td>\n",
              "      <td>6.15</td>\n",
              "      <td>6.12</td>\n",
              "      <td>3.74</td>\n",
              "    </tr>\n",
              "    <tr>\n",
              "      <th>53939</th>\n",
              "      <td>53940</td>\n",
              "      <td>0.75</td>\n",
              "      <td>Ideal</td>\n",
              "      <td>D</td>\n",
              "      <td>SI2</td>\n",
              "      <td>62.2</td>\n",
              "      <td>55.0</td>\n",
              "      <td>2757</td>\n",
              "      <td>5.83</td>\n",
              "      <td>5.87</td>\n",
              "      <td>3.64</td>\n",
              "    </tr>\n",
              "  </tbody>\n",
              "</table>\n",
              "<p>53940 rows × 11 columns</p>\n",
              "</div>"
            ],
            "text/plain": [
              "       Unnamed: 0  carat        cut color clarity  depth  table  price     x  \\\n",
              "0               1   0.23      Ideal     E     SI2   61.5   55.0    326  3.95   \n",
              "1               2   0.21    Premium     E     SI1   59.8   61.0    326  3.89   \n",
              "2               3   0.23       Good     E     VS1   56.9   65.0    327  4.05   \n",
              "3               4   0.29    Premium     I     VS2   62.4   58.0    334  4.20   \n",
              "4               5   0.31       Good     J     SI2   63.3   58.0    335  4.34   \n",
              "...           ...    ...        ...   ...     ...    ...    ...    ...   ...   \n",
              "53935       53936   0.72      Ideal     D     SI1   60.8   57.0   2757  5.75   \n",
              "53936       53937   0.72       Good     D     SI1   63.1   55.0   2757  5.69   \n",
              "53937       53938   0.70  Very Good     D     SI1   62.8   60.0   2757  5.66   \n",
              "53938       53939   0.86    Premium     H     SI2   61.0   58.0   2757  6.15   \n",
              "53939       53940   0.75      Ideal     D     SI2   62.2   55.0   2757  5.83   \n",
              "\n",
              "          y     z  \n",
              "0      3.98  2.43  \n",
              "1      3.84  2.31  \n",
              "2      4.07  2.31  \n",
              "3      4.23  2.63  \n",
              "4      4.35  2.75  \n",
              "...     ...   ...  \n",
              "53935  5.76  3.50  \n",
              "53936  5.75  3.61  \n",
              "53937  5.68  3.56  \n",
              "53938  6.12  3.74  \n",
              "53939  5.87  3.64  \n",
              "\n",
              "[53940 rows x 11 columns]"
            ]
          },
          "metadata": {},
          "execution_count": 15
        }
      ],
      "metadata": {
        "id": "gHJa-iFU91TH"
      }
    },
    {
      "cell_type": "code",
      "execution_count": 21,
      "source": [
        "X = diamond['carat'].values.reshape(-1,1)\r\n",
        "y = diamond['price'].values\r\n",
        "y"
      ],
      "outputs": [
        {
          "output_type": "execute_result",
          "data": {
            "text/plain": [
              "array([ 326,  326,  327, ..., 2757, 2757, 2757], dtype=int64)"
            ]
          },
          "metadata": {},
          "execution_count": 21
        }
      ],
      "metadata": {}
    },
    {
      "cell_type": "code",
      "execution_count": 29,
      "source": [
        "# Fit polynomial Regression to the dataset\r\n",
        "poly_reg_10 = PolynomialFeatures(degree = 10) #With the degree of 1 its like linear\r\n",
        "X_poly = poly_reg.fit_transform(X)\r\n",
        "\r\n",
        "\r\n",
        "pol_reg = LinearRegression()\r\n",
        "pol_reg.fit(X_poly, y)\r\n",
        "\r\n",
        "#Visualize the Polynomial Regression results\r\n",
        "plt.scatter(X, y, color='blue') # You can put any color you like. This just helps us highlight the data points\r\n",
        "plt.plot(X, pol_reg.predict(X_poly), color='red')\r\n",
        "plt.title('House price (Polynomial Regression)')\r\n",
        "plt.xlabel('Position Level')\r\n",
        "plt.ylabel('Salary')\r\n",
        "plt.show()\r\n",
        "\r\n",
        "# pol_reg.predict(poly_reg.fit_transform([[5.5]]))\r\n"
      ],
      "outputs": [
        {
          "output_type": "display_data",
          "data": {
            "image/png": "[encoded data removed]",
            "text/plain": [
              "<Figure size 432x288 with 1 Axes>"
            ]
          },
          "metadata": {
            "needs_background": "light"
          }
        }
      ],
      "metadata": {}
    },
    {
      "cell_type": "code",
      "execution_count": 35,
      "source": [
        "# Predict using Polynomial Regression\r\n",
        "poly_pred = pol_reg.predict(poly_reg_10.fit_transform([[0.75]]))\r\n",
        "print('Polynomial prediction: %d' %poly_pred)"
      ],
      "outputs": [
        {
          "output_type": "stream",
          "name": "stdout",
          "text": [
            "Polynomial prediction: 2945\n"
          ]
        }
      ],
      "metadata": {}
    },
    {
      "cell_type": "code",
      "execution_count": null,
      "source": [],
      "outputs": [],
      "metadata": {}
    },
    {
      "cell_type": "code",
      "execution_count": null,
      "source": [],
      "outputs": [],
      "metadata": {}
    },
    {
      "cell_type": "code",
      "execution_count": null,
      "source": [
        "# Challenge 2\r\n",
        "# The dataset for this challenge represents the physicochemical tests of wine and the quality of wine as a result of these physicochemical tests. Here's a brief description of the columns\r\n",
        "# volatile acidity: The amount of acetic acid in wine, which at too high of levels can lead to an unpleasant, vinegar taste\r\n",
        "# citric acid: Found in small quantities, citric acid can add 'freshness' and flavor to wines\r\n",
        "# residual sugar: The amount of sugar remaining after fermentation stops, it's rare to find wines with less than 1 gram/liter and wines with greater than 45 grams/liter are considered sweet\r\n",
        "# chlorides: The amount of salt in the wine\r\n",
        "# free sulfur dioxide: The free form of SO2 exists in equilibrium between molecular SO2 (as a dissolved gas) and bisulfite ion; it prevents microbial growth and the oxidation of wine\r\n",
        "# total sulfur dioxide: Amount of free and bound forms of S02; in low concentrations, SO2 is mostly undetectable in wine, but at free SO2 concentrations over 50 ppm, SO2 becomes evident in the nose and taste of wine\r\n",
        "# density: The density of water is close to that of water depending on the percent alcohol and sugar content\r\n",
        "# pH: Describes how acidic or basic a wine is on a scale from 0 (very acidic) to 14 (very basic); most wines are between 3-4 on the pH scale\r\n",
        "# sulphates: A wine additive which can contribute to sulfur dioxide gas (S02) levels, wich acts as an antimicrobial and antioxidant\r\n",
        "# alcohol: The percent alcohol content of the wine\r\n",
        "# quality: Output variable (based on sensory data, score between 0 and 10)\r\n",
        "\r\n",
        "# Here is a link to the dataset: https://drive.google.com/open?id=1cctsp46KVzNKGAK0kLl3mY6wRTDlUBp4\r\n",
        "\r\n",
        "# Use polynomial regression to predict quality of wine using the physiochemical tests\r\n",
        "\r\n",
        "# Hint:Try to get how well your model has been fitted using RMSE without necessarily plotting a graph\r\n",
        "\r\n",
        "Your code goes here"
      ],
      "outputs": [],
      "metadata": {
        "id": "Ezh0hqhRNSwE"
      }
    }
  ]
}