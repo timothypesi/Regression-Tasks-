{
  "nbformat": 4,
  "nbformat_minor": 2,
  "metadata": {
    "colab": {
      "name": "Python Programming: Logistic Regression",
      "provenance": [],
      "collapsed_sections": [
        "XezjT3fkhCBs",
        "pKsPC3hxK_NG",
        "EFzrLVNDLIjx",
        "7dGKfT3sdqSX",
        "Iyd4WJf4dsbc",
        "xjgM28PXduDp",
        "1z5z5tXCdv0t"
      ],
      "toc_visible": true
    },
    "kernelspec": {
      "name": "python3",
      "display_name": "Python 3.8.5 64-bit ('base': conda)"
    },
    "language_info": {
      "name": "python",
      "version": "3.8.5",
      "mimetype": "text/x-python",
      "codemirror_mode": {
        "name": "ipython",
        "version": 3
      },
      "pygments_lexer": "ipython3",
      "nbconvert_exporter": "python",
      "file_extension": ".py"
    },
    "interpreter": {
      "hash": "8e24f623c9d976e65e43b538ecbbc4d478524c94015e92b14b460358aba5245a"
    }
  },
  "cells": [
    {
      "cell_type": "markdown",
      "source": [
        "<font color=\"green\">*To start working on this notebook, or any other notebook that we will use in the Moringa Data Science Course, we will need to save our own copy of it. We can do this by clicking File > Save a Copy in Drive. We will then be able to make edits to our own copy of this notebook.*</font>"
      ],
      "metadata": {
        "id": "cRpCSZaVdjKL"
      }
    },
    {
      "cell_type": "markdown",
      "source": [
        "# Python Programming: Logistic Regression"
      ],
      "metadata": {
        "id": "9emVViDxK-Dv"
      }
    },
    {
      "cell_type": "markdown",
      "source": [
        "## Importing Our Libraries"
      ],
      "metadata": {
        "id": "XezjT3fkhCBs"
      }
    },
    {
      "cell_type": "code",
      "execution_count": 2,
      "source": [
        "# Importing our libraries\r\n",
        "#\r\n",
        "import pandas as pd\r\n",
        "import seaborn as sb"
      ],
      "outputs": [],
      "metadata": {
        "id": "dF59ltu_d53K"
      }
    },
    {
      "cell_type": "markdown",
      "source": [
        "## Example "
      ],
      "metadata": {
        "id": "pKsPC3hxK_NG"
      }
    },
    {
      "cell_type": "code",
      "execution_count": null,
      "source": [
        "# Example 1\r\n",
        "# ---\r\n",
        "# You are tasked to complete the analysis of what sorts of people were likely to survive the titanic. \r\n",
        "# Specifically you are requested to apply logistic regression modelining \r\n",
        "# to predict which passengers survived the tragedy.\r\n",
        "# ---\r\n",
        "# Dataset url = http://bit.ly/TitanicTrainDataset\r\n",
        "# ---\r\n",
        "# Survived - Survival (0 = No; 1 = Yes)\r\n",
        "# Pclass - Passenger Class (1 = 1st; 2 = 2nd; 3 = 3rd)\r\n",
        "# Name - Name\r\n",
        "# Sex - Sex\r\n",
        "# Age - Age\r\n",
        "# SibSp - Number of Siblings/Spouses Aboard\r\n",
        "# Parch - Number of Parents/Children Aboard\r\n",
        "# Ticket - Ticket Number\r\n",
        "# Fare - Passenger Fare (British pound)\r\n",
        "# Cabin - Cabin\r\n",
        "# Embarked - Port of Embarkation (C = Cherbourg; Q = Queenstown; S = Southampton)"
      ],
      "outputs": [],
      "metadata": {
        "id": "Z-mNUTwkLOHG"
      }
    },
    {
      "cell_type": "code",
      "execution_count": 3,
      "source": [
        "# Reading in the dataset using the Pandas\r\n",
        "# \r\n",
        "titanic = pd.read_csv(\"http://bit.ly/TitanicTrainDataset\")\r\n",
        "titanic.columns = ['PassengerId','Survived','Pclass','Name','Sex','Age','SibSp','Parch','Ticket','Fare','Cabin','Embarked']\r\n",
        "titanic.head()"
      ],
      "outputs": [
        {
          "output_type": "execute_result",
          "data": {
            "text/html": [
              "<div>\n",
              "<style scoped>\n",
              "    .dataframe tbody tr th:only-of-type {\n",
              "        vertical-align: middle;\n",
              "    }\n",
              "\n",
              "    .dataframe tbody tr th {\n",
              "        vertical-align: top;\n",
              "    }\n",
              "\n",
              "    .dataframe thead th {\n",
              "        text-align: right;\n",
              "    }\n",
              "</style>\n",
              "<table border=\"1\" class=\"dataframe\">\n",
              "  <thead>\n",
              "    <tr style=\"text-align: right;\">\n",
              "      <th></th>\n",
              "      <th>PassengerId</th>\n",
              "      <th>Survived</th>\n",
              "      <th>Pclass</th>\n",
              "      <th>Name</th>\n",
              "      <th>Sex</th>\n",
              "      <th>Age</th>\n",
              "      <th>SibSp</th>\n",
              "      <th>Parch</th>\n",
              "      <th>Ticket</th>\n",
              "      <th>Fare</th>\n",
              "      <th>Cabin</th>\n",
              "      <th>Embarked</th>\n",
              "    </tr>\n",
              "  </thead>\n",
              "  <tbody>\n",
              "    <tr>\n",
              "      <th>0</th>\n",
              "      <td>1</td>\n",
              "      <td>0</td>\n",
              "      <td>3</td>\n",
              "      <td>Braund, Mr. Owen Harris</td>\n",
              "      <td>male</td>\n",
              "      <td>22.0</td>\n",
              "      <td>1</td>\n",
              "      <td>0</td>\n",
              "      <td>A/5 21171</td>\n",
              "      <td>7.2500</td>\n",
              "      <td>NaN</td>\n",
              "      <td>S</td>\n",
              "    </tr>\n",
              "    <tr>\n",
              "      <th>1</th>\n",
              "      <td>2</td>\n",
              "      <td>1</td>\n",
              "      <td>1</td>\n",
              "      <td>Cumings, Mrs. John Bradley (Florence Briggs Th...</td>\n",
              "      <td>female</td>\n",
              "      <td>38.0</td>\n",
              "      <td>1</td>\n",
              "      <td>0</td>\n",
              "      <td>PC 17599</td>\n",
              "      <td>71.2833</td>\n",
              "      <td>C85</td>\n",
              "      <td>C</td>\n",
              "    </tr>\n",
              "    <tr>\n",
              "      <th>2</th>\n",
              "      <td>3</td>\n",
              "      <td>1</td>\n",
              "      <td>3</td>\n",
              "      <td>Heikkinen, Miss. Laina</td>\n",
              "      <td>female</td>\n",
              "      <td>26.0</td>\n",
              "      <td>0</td>\n",
              "      <td>0</td>\n",
              "      <td>STON/O2. 3101282</td>\n",
              "      <td>7.9250</td>\n",
              "      <td>NaN</td>\n",
              "      <td>S</td>\n",
              "    </tr>\n",
              "    <tr>\n",
              "      <th>3</th>\n",
              "      <td>4</td>\n",
              "      <td>1</td>\n",
              "      <td>1</td>\n",
              "      <td>Futrelle, Mrs. Jacques Heath (Lily May Peel)</td>\n",
              "      <td>female</td>\n",
              "      <td>35.0</td>\n",
              "      <td>1</td>\n",
              "      <td>0</td>\n",
              "      <td>113803</td>\n",
              "      <td>53.1000</td>\n",
              "      <td>C123</td>\n",
              "      <td>S</td>\n",
              "    </tr>\n",
              "    <tr>\n",
              "      <th>4</th>\n",
              "      <td>5</td>\n",
              "      <td>0</td>\n",
              "      <td>3</td>\n",
              "      <td>Allen, Mr. William Henry</td>\n",
              "      <td>male</td>\n",
              "      <td>35.0</td>\n",
              "      <td>0</td>\n",
              "      <td>0</td>\n",
              "      <td>373450</td>\n",
              "      <td>8.0500</td>\n",
              "      <td>NaN</td>\n",
              "      <td>S</td>\n",
              "    </tr>\n",
              "  </tbody>\n",
              "</table>\n",
              "</div>"
            ],
            "text/plain": [
              "   PassengerId  Survived  Pclass  \\\n",
              "0            1         0       3   \n",
              "1            2         1       1   \n",
              "2            3         1       3   \n",
              "3            4         1       1   \n",
              "4            5         0       3   \n",
              "\n",
              "                                                Name     Sex   Age  SibSp  \\\n",
              "0                            Braund, Mr. Owen Harris    male  22.0      1   \n",
              "1  Cumings, Mrs. John Bradley (Florence Briggs Th...  female  38.0      1   \n",
              "2                             Heikkinen, Miss. Laina  female  26.0      0   \n",
              "3       Futrelle, Mrs. Jacques Heath (Lily May Peel)  female  35.0      1   \n",
              "4                           Allen, Mr. William Henry    male  35.0      0   \n",
              "\n",
              "   Parch            Ticket     Fare Cabin Embarked  \n",
              "0      0         A/5 21171   7.2500   NaN        S  \n",
              "1      0          PC 17599  71.2833   C85        C  \n",
              "2      0  STON/O2. 3101282   7.9250   NaN        S  \n",
              "3      0            113803  53.1000  C123        S  \n",
              "4      0            373450   8.0500   NaN        S  "
            ]
          },
          "metadata": {},
          "execution_count": 3
        }
      ],
      "metadata": {
        "id": "sk2xQb4NO8uG"
      }
    },
    {
      "cell_type": "code",
      "execution_count": null,
      "source": [
        "# Checking that our target variable is binary\r\n",
        "# Since we are building a model to predict survival of passangers from the Titanic, \r\n",
        "# our target is going to be \"Survived\" variable from the titanic dataframe. \r\n",
        "# To make sure that it's a binary variable, let's use Seaborn's countplot() function.\r\n",
        "# \r\n",
        "sb.countplot(x='Survived',data=titanic, palette='hls')\r\n",
        "\r\n",
        "# from the output we see that the Survived variable is binary (0 - did not survive / 1 - survived)"
      ],
      "outputs": [],
      "metadata": {
        "id": "a4sN9vgZPm_0"
      }
    },
    {
      "cell_type": "code",
      "execution_count": null,
      "source": [
        "# Checking for missing values\r\n",
        "# \r\n",
        "titanic.isnull().sum()"
      ],
      "outputs": [],
      "metadata": {
        "id": "5iVwmLx4P6O0"
      }
    },
    {
      "cell_type": "code",
      "execution_count": null,
      "source": [
        "# Understanding the dataset abit more\r\n",
        "# \r\n",
        "titanic.info()\r\n",
        "\r\n",
        "# Ok, so there are only 891 rows in the titanic data frame. \r\n",
        "# Cabin is almost all missing values, so we can drop that variable completely, \r\n",
        "# but what about age? Age seems like a relevant predictor for survival right? \r\n",
        "# We'd want to keep the variables, but it has 177 missing values.\r\n",
        "# We are going to need to find a way to approximate for those missing values!"
      ],
      "outputs": [],
      "metadata": {
        "id": "9MpmIAioQAoW"
      }
    },
    {
      "cell_type": "code",
      "execution_count": null,
      "source": [
        "# Taking care of missing values\r\n",
        "# So let's just go ahead and drop all the variables that aren't relevant for predicting survival. We should at least keep the following:\r\n",
        "# ---\r\n",
        "# Survived - This variable is obviously relevant.\r\n",
        "# Pclass - Does a passenger's class on the boat affect their survivability?\r\n",
        "# Sex - Could a passenger's gender impact their survival rate?\r\n",
        "# Age - Does a person's age impact their survival rate?\r\n",
        "# SibSp - Does the number of relatives on the boat (that are siblings or a spouse) affect a person survivability? Probability\r\n",
        "# Parch - Does the number of relatives on the boat (that are children or parents) affect a person survivability? Probability\r\n",
        "# Fare - Does the fare a person paid effect his survivability? Maybe - let's keep it.\r\n",
        "# Embarked - Does a person's point of embarkation matter? It depends on how the boat was filled... Let's keep it.\r\n",
        "# What about a person's name, ticket number, and passenger ID number? They're irrelavant for predicting survivability. \r\n",
        "# And as we recall, the cabin variable is almost all missing values, so we can just drop all of these.\r\n",
        "# \r\n",
        "titanic_data = titanic.drop(['PassengerId','Name','Ticket','Cabin'], 1)\r\n",
        "titanic_data.head()\r\n",
        "\r\n",
        "# Now we have the dataframe reduced down to only relevant variables, but now we need to deal with the missing values in the age variable."
      ],
      "outputs": [],
      "metadata": {
        "id": "oA0DcqdUQNeP"
      }
    },
    {
      "cell_type": "code",
      "execution_count": null,
      "source": [
        "# Imputing missing values\r\n",
        "# ---\r\n",
        "# Let's look at how passenger age is related to their class as a passenger on the boat.\r\n",
        "# \r\n",
        "sb.boxplot(x='Pclass', y='Age', data=titanic_data, palette='hls')"
      ],
      "outputs": [],
      "metadata": {
        "id": "KLwcKTchQsyb"
      }
    },
    {
      "cell_type": "code",
      "execution_count": null,
      "source": [
        "titanic_data.head()\r\n",
        "\r\n",
        "# Speaking roughly, we could say that the younger a passenger is, the more likely it is for them to be in 3rd class. \r\n",
        "# The older a passenger is, the more likely it is for them to be in 1st class. \r\n",
        "# So there is a loose relationship between these variables. \r\n",
        "# So, let's write a function that approximates a passengers age, based on their class. \r\n",
        "# From the box plot, it looks like the average age of 1st class passengers \r\n",
        "# is about 37, 2nd class passengers is 29, and 3rd class pasengers is 24."
      ],
      "outputs": [],
      "metadata": {
        "id": "oj8v7S1zRruW"
      }
    },
    {
      "cell_type": "code",
      "execution_count": null,
      "source": [
        "# So let's write a function that finds each null value in the Age variable, and for each null, \r\n",
        "# checks the value of the Pclass and assigns an age value according to the average age of passengers in that class.\r\n",
        "#\r\n",
        "def age_approx(cols):\r\n",
        "    Age = cols[0]\r\n",
        "    Pclass = cols[1]\r\n",
        "    \r\n",
        "    if pd.isnull(Age):\r\n",
        "        if Pclass == 1:\r\n",
        "            return 37\r\n",
        "        elif Pclass == 2:\r\n",
        "            return 29\r\n",
        "        else:\r\n",
        "            return 24\r\n",
        "    else:\r\n",
        "        return Age"
      ],
      "outputs": [],
      "metadata": {
        "id": "SedrD9NKR600"
      }
    },
    {
      "cell_type": "code",
      "execution_count": null,
      "source": [
        "# When we apply the function and check again for null values, we see that there are no more null values in the age variable.\r\n",
        "#\r\n",
        "titanic_data['Age'] = titanic_data[['Age', 'Pclass']].apply(age_approx, axis=1)\r\n",
        "titanic_data.isnull().sum()"
      ],
      "outputs": [],
      "metadata": {
        "id": "YXkyX36GSPif"
      }
    },
    {
      "cell_type": "code",
      "execution_count": null,
      "source": [
        "# There are 2 null values in the embarked variable. We can drop those 2 records \r\n",
        "# without loosing too much important information from our dataset, so we will do that.\r\n",
        "#\r\n",
        "titanic_data.dropna(inplace=True)\r\n",
        "titanic_data.isnull().sum()"
      ],
      "outputs": [],
      "metadata": {
        "id": "MwNxUew_SaR-"
      }
    },
    {
      "cell_type": "code",
      "execution_count": null,
      "source": [
        "# Converting categorical variables to a dummy indicators\r\n",
        "# ---\r\n",
        "# The next thing we need to do is reformat our variables so that they work with the model. \r\n",
        "# Specifically, we need to reformat the Sex and Embarked variables into numeric variables.\r\n",
        "#\r\n",
        "gender = pd.get_dummies(titanic_data['Sex'],drop_first=True)\r\n",
        "gender.head()"
      ],
      "outputs": [],
      "metadata": {
        "id": "6jhIXEFoSoUm"
      }
    },
    {
      "cell_type": "code",
      "execution_count": null,
      "source": [
        "embark_location = pd.get_dummies(titanic_data['Embarked'],drop_first=True)\r\n",
        "embark_location.head()"
      ],
      "outputs": [],
      "metadata": {
        "id": "H0r2ChhLS-ZB"
      }
    },
    {
      "cell_type": "code",
      "execution_count": null,
      "source": [
        "titanic_data.head()"
      ],
      "outputs": [],
      "metadata": {
        "id": "Hwg1_Md9S_GP"
      }
    },
    {
      "cell_type": "code",
      "execution_count": null,
      "source": [
        "titanic_data.drop(['Sex', 'Embarked'],axis=1,inplace=True)\r\n",
        "titanic_data.head()"
      ],
      "outputs": [],
      "metadata": {
        "id": "RezYZSHpTCLb"
      }
    },
    {
      "cell_type": "code",
      "execution_count": null,
      "source": [
        "titanic_dmy = pd.concat([titanic_data,gender,embark_location],axis=1)\r\n",
        "titanic_dmy.head()\r\n",
        "\r\n",
        "# Now we have a dataset with all the variables in the correct format!"
      ],
      "outputs": [],
      "metadata": {
        "id": "hmT38it8TLnZ"
      }
    },
    {
      "cell_type": "code",
      "execution_count": null,
      "source": [
        "# Checking for independence between features¶\r\n",
        "# \r\n",
        "sb.heatmap(titanic_dmy.corr())  "
      ],
      "outputs": [],
      "metadata": {
        "id": "iRnGw9P5TUHn"
      }
    },
    {
      "cell_type": "code",
      "execution_count": null,
      "source": [
        "# Fare and Pclass are not independent of each other, so I am going to drop these.\r\n",
        "# \r\n",
        "titanic_dmy.drop(['Fare', 'Pclass'],axis=1,inplace=True)\r\n",
        "titanic_dmy.head()"
      ],
      "outputs": [],
      "metadata": {
        "id": "SdoW2nFfTgGv"
      }
    },
    {
      "cell_type": "code",
      "execution_count": null,
      "source": [
        "# Checking that your dataset size is sufficient\r\n",
        "# We have 6 predictive features that remain. The rule of thumb is 50 records per feature \r\n",
        "# so we need to have at least 300 records in this dataset. Let's check again.\r\n",
        "#\r\n",
        "titanic_dmy.info()\r\n",
        "\r\n",
        "              \r\n",
        "# From the output we have 889 records so we are fine."
      ],
      "outputs": [],
      "metadata": {
        "id": "xl8GC-m9TrxR"
      }
    },
    {
      "cell_type": "code",
      "execution_count": null,
      "source": [
        "# Splitting our dataset\r\n",
        "#\r\n",
        "X = titanic_dmy.drop(\"Survived\",axis=1)\r\n",
        "y = titanic_dmy[\"Survived\"]\r\n",
        "\r\n",
        "from sklearn.model_selection import train_test_split\r\n",
        "X_train, X_test, y_train, y_test = train_test_split(X, y, test_size = .3, random_state=25)"
      ],
      "outputs": [],
      "metadata": {
        "id": "WhQRrUBIUeyb"
      }
    },
    {
      "cell_type": "code",
      "execution_count": null,
      "source": [
        "# Fitting our model\r\n",
        "# \r\n",
        "from sklearn.linear_model import LogisticRegression\r\n",
        "\r\n",
        "LogReg = LogisticRegression()\r\n",
        "LogReg.fit(X_train, y_train)"
      ],
      "outputs": [],
      "metadata": {
        "id": "UZszdX9MU1Dl"
      }
    },
    {
      "cell_type": "code",
      "execution_count": null,
      "source": [
        "# Using our model to make a prediction\r\n",
        "#\r\n",
        "y_pred = LogReg.predict(X_test)"
      ],
      "outputs": [],
      "metadata": {
        "id": "hLPYeh2_VHVP"
      }
    },
    {
      "cell_type": "code",
      "execution_count": null,
      "source": [
        "# Evaluating the model\r\n",
        "#\r\n",
        "from sklearn.metrics import confusion_matrix\r\n",
        "confusion_matrix = confusion_matrix(y_test, y_pred)\r\n",
        "confusion_matrix\r\n",
        "\r\n",
        "# The results from the confusion matrix tell us that 137 and 69 are the number of correct predictions. \r\n",
        "# 34 and 27 are the number of incorrect predictions."
      ],
      "outputs": [],
      "metadata": {
        "id": "f7ZstfD8VKM_"
      }
    },
    {
      "cell_type": "markdown",
      "source": [
        "## <font color=\"green\">Challenge 1</font>"
      ],
      "metadata": {
        "id": "EFzrLVNDLIjx"
      }
    },
    {
      "cell_type": "code",
      "execution_count": null,
      "source": [
        "# Challenge 1\r\n",
        "# ---\r\n",
        "# Question: Use the Iris dataset to build a regression model to predict the type of iris flower\r\n",
        "# ---\r\n",
        "# Dataset url = http://bit.ly/IrisDataset\r\n",
        "# ---\r\n",
        "#\r\n",
        "OUR CODE GOES HERE"
      ],
      "outputs": [],
      "metadata": {
        "id": "wdxxtSRnK2_o"
      }
    },
    {
      "cell_type": "markdown",
      "source": [
        "## <font color=\"green\">Challenge 2</font>"
      ],
      "metadata": {
        "id": "7dGKfT3sdqSX"
      }
    },
    {
      "cell_type": "code",
      "execution_count": null,
      "source": [
        "# Challenge 2\r\n",
        "# ---\r\n",
        "# Question: Create a regression model that can predict whether an application will be admitted to the university or not.\r\n",
        "# ---\r\n",
        "# Dataset url = http://bit.ly/MarksDataset\r\n",
        "# ---\r\n",
        "#\r\n",
        "OUR CODE GOES HERE"
      ],
      "outputs": [],
      "metadata": {
        "id": "6ViMfWEMLWDG"
      }
    },
    {
      "cell_type": "markdown",
      "source": [
        "## <font color=\"green\">Challenge 3</font>"
      ],
      "metadata": {
        "id": "Iyd4WJf4dsbc"
      }
    },
    {
      "cell_type": "code",
      "execution_count": null,
      "source": [
        "# Challenge 3\r\n",
        "# ---\r\n",
        "# Question: Predict if the client will subscribe a term deposit (variable y).\r\n",
        "# ---\r\n",
        "# Dataset url = http://bit.ly/BankingDataset\r\n",
        "# ---\r\n",
        "# \r\n",
        "OUR CODE GOES HERE"
      ],
      "outputs": [],
      "metadata": {
        "id": "N4mB1XxvLYAY"
      }
    },
    {
      "cell_type": "markdown",
      "source": [
        "## <font color=\"green\">Challenge 4</font>"
      ],
      "metadata": {
        "id": "xjgM28PXduDp"
      }
    },
    {
      "cell_type": "code",
      "execution_count": null,
      "source": [
        "# Challenge 4\r\n",
        "# ---\r\n",
        "# Question: Create a logistic regression model determine whether a user purchased a particular product.\r\n",
        "# ---\r\n",
        "# Dataset url = http://bit.ly/SocialNetworkAdsDataset\r\n",
        "# ---\r\n",
        "#\r\n",
        "OUR CODE GOES HERE"
      ],
      "outputs": [],
      "metadata": {
        "id": "Cjm8P2ynLZbt"
      }
    },
    {
      "cell_type": "markdown",
      "source": [
        "## <font color=\"green\">Challenge 5</font>"
      ],
      "metadata": {
        "id": "1z5z5tXCdv0t"
      }
    },
    {
      "cell_type": "code",
      "execution_count": null,
      "source": [
        "# Challenge 5\r\n",
        "# ---\r\n",
        "# Question: Create model to determine whether a student will default on their student loans.\r\n",
        "# ---\r\n",
        "# Dataset url = http://bit.ly/StudentDefaultDataset\r\n",
        "# ---\r\n",
        "OUR CODE GOES HERE"
      ],
      "outputs": [],
      "metadata": {
        "id": "B3gw8LlVLapg"
      }
    }
  ]
}