{
  "nbformat": 4,
  "nbformat_minor": 2,
  "metadata": {
    "colab": {
      "name": "Creating Train and Test Datasets Example.ipynb",
      "provenance": [],
      "toc_visible": true
    },
    "kernelspec": {
      "name": "python3",
      "display_name": "Python 3.8.5 64-bit ('base': conda)"
    },
    "language_info": {
      "name": "python",
      "version": "3.8.5",
      "mimetype": "text/x-python",
      "codemirror_mode": {
        "name": "ipython",
        "version": 3
      },
      "pygments_lexer": "ipython3",
      "nbconvert_exporter": "python",
      "file_extension": ".py"
    },
    "interpreter": {
      "hash": "8e24f623c9d976e65e43b538ecbbc4d478524c94015e92b14b460358aba5245a"
    }
  },
  "cells": [
    {
      "cell_type": "markdown",
      "source": [
        "# **Creating Train and Test Datasets Example**"
      ],
      "metadata": {
        "id": "hV51dSte7Bxb"
      }
    },
    {
      "cell_type": "markdown",
      "source": [
        "# Example\n"
      ],
      "metadata": {
        "id": "yZKrJC5QLkje"
      }
    },
    {
      "cell_type": "markdown",
      "source": [
        "Our major goal here, is to predict how a student will perform in the national exam by using their mock exam scores.There's a few steps we need to do to achieve this.\n",
        "\n",
        "First, we need split the dataset into training and test datasets so that we can train the model to predict our desired outcome\n",
        "\n",
        "After splitting the dataset , we are going to employ a method for training the datasets.\n",
        "\n",
        "The following example will be split into two parts; the first being how to split the dataset into train and test datasets. The second part is how to train the data using linear regression.\n",
        "\n",
        "\n",
        "In this example, we are going to learn how to split a dataset into train and test sets so that we can start training our model. We will first show a naive way of splitting a dataset then continue to show different ways of efficiently splitting the dataset.\n",
        "\n",
        "The dataset we are going to use will comprise of 1000 students exam data from both public and private schools in Kenya. 50% of this data is from public school and the other 50% is from private schools. We need to maintain this proportion when creating our sample dataset.\n",
        "\n",
        "[Download dataset](https://drive.google.com/file/d/12OGVlkFkLwycegmG5zkdDfzoxCJ3qU_k/view?usp=sharing)"
      ],
      "metadata": {
        "id": "rpfcuXFjLxAX"
      }
    },
    {
      "cell_type": "markdown",
      "source": [
        "**Naive splitting:**\n",
        "\n",
        "- Show a simple 3 column table, with 1 dependent 1 independent variable. The independent variable is the Mock exam column and the dependent variable is National exam column.\n",
        "- use simple splits to create 2 datasets, one for train, one for test"
      ],
      "metadata": {
        "id": "lX2hGBv7Gr_m"
      }
    },
    {
      "cell_type": "markdown",
      "source": [
        "**Import the Relevant Libraries**"
      ],
      "metadata": {
        "id": "g4gP2CXbamL8"
      }
    },
    {
      "cell_type": "code",
      "execution_count": 1,
      "source": [
        "import numpy as np\r\n",
        "import pandas as pd\r\n",
        "from sklearn.model_selection import train_test_split\r\n"
      ],
      "outputs": [],
      "metadata": {
        "id": "4uuTY3-1av98"
      }
    },
    {
      "cell_type": "markdown",
      "source": [
        "**Load the data**\n",
        "\n"
      ],
      "metadata": {
        "id": "Z8coNT0Lbgh-"
      }
    },
    {
      "cell_type": "code",
      "execution_count": 2,
      "source": [
        "#Load the dataset\r\n",
        "data = pd.read_csv('data/student_exam_data.csv')\r\n",
        "\r\n",
        "\r\n",
        "#displaying the dataset\r\n",
        "data\r\n"
      ],
      "outputs": [
        {
          "output_type": "execute_result",
          "data": {
            "text/html": [
              "<div>\n",
              "<style scoped>\n",
              "    .dataframe tbody tr th:only-of-type {\n",
              "        vertical-align: middle;\n",
              "    }\n",
              "\n",
              "    .dataframe tbody tr th {\n",
              "        vertical-align: top;\n",
              "    }\n",
              "\n",
              "    .dataframe thead th {\n",
              "        text-align: right;\n",
              "    }\n",
              "</style>\n",
              "<table border=\"1\" class=\"dataframe\">\n",
              "  <thead>\n",
              "    <tr style=\"text-align: right;\">\n",
              "      <th></th>\n",
              "      <th>mock_result</th>\n",
              "      <th>school_type</th>\n",
              "      <th>national_result</th>\n",
              "    </tr>\n",
              "  </thead>\n",
              "  <tbody>\n",
              "    <tr>\n",
              "      <th>0</th>\n",
              "      <td>27</td>\n",
              "      <td>PUBLIC</td>\n",
              "      <td>55</td>\n",
              "    </tr>\n",
              "    <tr>\n",
              "      <th>1</th>\n",
              "      <td>60</td>\n",
              "      <td>PRIVATE</td>\n",
              "      <td>35</td>\n",
              "    </tr>\n",
              "    <tr>\n",
              "      <th>2</th>\n",
              "      <td>57</td>\n",
              "      <td>PUBLIC</td>\n",
              "      <td>39</td>\n",
              "    </tr>\n",
              "    <tr>\n",
              "      <th>3</th>\n",
              "      <td>52</td>\n",
              "      <td>PUBLIC</td>\n",
              "      <td>39</td>\n",
              "    </tr>\n",
              "    <tr>\n",
              "      <th>4</th>\n",
              "      <td>44</td>\n",
              "      <td>PUBLIC</td>\n",
              "      <td>63</td>\n",
              "    </tr>\n",
              "    <tr>\n",
              "      <th>...</th>\n",
              "      <td>...</td>\n",
              "      <td>...</td>\n",
              "      <td>...</td>\n",
              "    </tr>\n",
              "    <tr>\n",
              "      <th>995</th>\n",
              "      <td>30</td>\n",
              "      <td>PRIVATE</td>\n",
              "      <td>59</td>\n",
              "    </tr>\n",
              "    <tr>\n",
              "      <th>996</th>\n",
              "      <td>51</td>\n",
              "      <td>PRIVATE</td>\n",
              "      <td>64</td>\n",
              "    </tr>\n",
              "    <tr>\n",
              "      <th>997</th>\n",
              "      <td>30</td>\n",
              "      <td>PRIVATE</td>\n",
              "      <td>41</td>\n",
              "    </tr>\n",
              "    <tr>\n",
              "      <th>998</th>\n",
              "      <td>66</td>\n",
              "      <td>PRIVATE</td>\n",
              "      <td>63</td>\n",
              "    </tr>\n",
              "    <tr>\n",
              "      <th>999</th>\n",
              "      <td>40</td>\n",
              "      <td>PUBLIC</td>\n",
              "      <td>22</td>\n",
              "    </tr>\n",
              "  </tbody>\n",
              "</table>\n",
              "<p>1000 rows × 3 columns</p>\n",
              "</div>"
            ],
            "text/plain": [
              "     mock_result school_type  national_result\n",
              "0             27      PUBLIC               55\n",
              "1             60     PRIVATE               35\n",
              "2             57      PUBLIC               39\n",
              "3             52      PUBLIC               39\n",
              "4             44      PUBLIC               63\n",
              "..           ...         ...              ...\n",
              "995           30     PRIVATE               59\n",
              "996           51     PRIVATE               64\n",
              "997           30     PRIVATE               41\n",
              "998           66     PRIVATE               63\n",
              "999           40      PUBLIC               22\n",
              "\n",
              "[1000 rows x 3 columns]"
            ]
          },
          "metadata": {},
          "execution_count": 2
        }
      ],
      "metadata": {
        "id": "KW9mi-ZSQb2x"
      }
    },
    {
      "cell_type": "code",
      "execution_count": 10,
      "source": [
        "#Split the dataset into train and test sets.\r\n",
        "# we will split the dataset such that we have the first 700 entries of our dataset as train and the rest 300 entries as test\r\n",
        "\r\n",
        "train = data[:700] \r\n",
        "\r\n",
        "# Drop all the indexes of the train data we created above from the main data set then store the remaining data in a variable called test\r\n",
        "test = data.drop(train.index)\r\n",
        "\r\n",
        "# Confirm that the train and test dataset have out desired length\r\n",
        "print(\"train:\" + str(len(train)))\r\n",
        "print(\"test:\"+ str(len(test)))\r\n",
        "\r\n"
      ],
      "outputs": [
        {
          "output_type": "stream",
          "name": "stdout",
          "text": [
            "train:700\n",
            "test:300\n"
          ]
        }
      ],
      "metadata": {
        "id": "CHMbEFpkWT4X"
      }
    },
    {
      "cell_type": "markdown",
      "source": [
        "**Analyzing the sets**:\n",
        "\n",
        "\n",
        "How similar are the training and test datasets?\n"
      ],
      "metadata": {
        "id": "hw6QWkjKMA6e"
      }
    },
    {
      "cell_type": "code",
      "execution_count": 11,
      "source": [
        "# Let's analyse the training and the test dataset and see if the right proportions. \r\n",
        "# Ideally, we want both of our training and test datasets to have a 50-50 apportionment of private and public schools\r\n",
        "\r\n",
        "# Check the apportionment of Private and Public schools in the train data set\r\n",
        "train_count=train['school_type'].value_counts()\r\n",
        "\r\n",
        "# Check the apportionment of Private and Public in the test data set\r\n",
        "test_count=test['school_type'].value_counts()\r\n",
        "\r\n",
        "# Print out the apportionment of private and public schools in both train and test dataset\r\n",
        "print(train_count)\r\n",
        "print('*************************')\r\n",
        "print(test_count)"
      ],
      "outputs": [
        {
          "output_type": "stream",
          "name": "stdout",
          "text": [
            "PUBLIC     450\n",
            "PRIVATE    250\n",
            "Name: school_type, dtype: int64\n",
            "*************************\n",
            "PRIVATE    250\n",
            "PUBLIC      50\n",
            "Name: school_type, dtype: int64\n"
          ]
        }
      ],
      "metadata": {
        "id": "wU4hiPUdQ7l1"
      }
    },
    {
      "cell_type": "markdown",
      "source": [
        "As you can see,  the number of public schools in the train dataset is 450 while that of private schools is 250.This translates to 65% and 35%  respectively, which is not the proportion we are aiming for.\n",
        "\n",
        "Similarly, in the test dataset there are 250 public schools and 50 private schools. This in turn translates to 84% and 16% respectively. Again, this is not quite the proportion we were aiming for.\n",
        "\n",
        "In conclusion this differs greatly from what we are aiming for, which is to have an equal proportion of private schools and public school in both the train/test dataset.That is, to have 50% of public school and 50% of private school in both the train and test dataset.\n",
        "\n",
        "This is why we termed this as a naive way of splitting the dataset because it does not reflect the populations initial proportion.\n",
        "\n",
        "To achieve the proportion we want, we will employ one of the sampling techniques we covered in module 1"
      ],
      "metadata": {
        "id": "CX_ZCLc_eNBJ"
      }
    },
    {
      "cell_type": "markdown",
      "source": [
        "**Sampling**:\n",
        "\n",
        "Remember module 1 stuff, let's do some stratified sampling, and see that our test / train are now similar to each other (public VS private student representation)"
      ],
      "metadata": {
        "id": "wO_NJ1d_Q8kk"
      }
    },
    {
      "cell_type": "code",
      "execution_count": 12,
      "source": [
        "# Using the Stratified technique we want to split the dataset in such a way that 70% of our dataset will be train set and 30% will be test set. Furthermore, the proportion of public and private schools should be equal in both the train and test dataset. For example, in train dataset we should have 350 public schools and 350 private schools represented. The same goes for the test dataset, we expect to have 150 private schools and 150 private schools.\r\n",
        "\r\n",
        "# Stratified train sample\r\n",
        "train_strat_datset = data.groupby('school_type', group_keys=False).apply(lambda grouped_subset : grouped_subset.sample(frac=0.7))\r\n",
        "\r\n",
        "# preview the stratified train dataset\r\n",
        "train_strat_datset\r\n",
        "\r\n",
        "# Stratified test sample\r\n",
        "test_strat_dataset = data.drop(train_strat_datset.index)\r\n",
        "\r\n",
        "# Preview the stratified test dataset\r\n",
        "test_strat_dataset\r\n",
        "\r\n",
        "# Print out the proprortion of private vs public schools in both train and test dataset\r\n",
        "test_strat_count=test_strat_dataset['school_type'].value_counts()\r\n",
        "train_strat_count=train_strat_datset['school_type'].value_counts()\r\n",
        "\r\n",
        "print(train_strat_count)\r\n",
        "print('*************************************************')\r\n",
        "print(test_strat_count)\r\n"
      ],
      "outputs": [
        {
          "output_type": "stream",
          "name": "stdout",
          "text": [
            "PRIVATE    350\n",
            "PUBLIC     350\n",
            "Name: school_type, dtype: int64\n",
            "*************************************************\n",
            "PUBLIC     150\n",
            "PRIVATE    150\n",
            "Name: school_type, dtype: int64\n"
          ]
        }
      ],
      "metadata": {
        "id": "CRAKHxiJRGZe"
      }
    },
    {
      "cell_type": "markdown",
      "source": [
        "**train_test_split and it options**\n",
        "\n",
        "Next, we are going to demonstrate another way you can achieve similar results using sklearn library"
      ],
      "metadata": {
        "id": "CCha1fX_RHbO"
      }
    },
    {
      "cell_type": "code",
      "execution_count": 13,
      "source": [
        "# Now we will use sklearn library to split the data set into train and test datasets.Additionally, We will make use of the train_test_split method\r\n",
        "# The method takes in an dataframe, test_size or train_size as arguments. The dataframe signifies the dataframe we want to split and the test_size/train_size indicates the size of either the train or test dataset we want to have\r\n",
        "# We'll also use a third argument called stratify which will help us stratifiy the data once we split it.\r\n",
        "# You can read more on this method through this link https://scikit-learn.org/stable/modules/generated/sklearn.model_selection.train_test_split.html\r\n",
        "\r\n",
        "# Split our datset into train_data and test_data using sklearn's train_test_split method\r\n",
        "train_data, test_data = train_test_split(data, test_size=0.3,stratify=data['school_type'])\r\n",
        "\r\n",
        "# Preview the train dataset\r\n",
        "print(train_data)\r\n",
        "\r\n",
        "# Preview the test dataset\r\n",
        "print(test_data)\r\n",
        "\r\n",
        "# Print out the proprortion of private vs public schools in both train and test dataset\r\n",
        "train_data['school_type'].value_counts()\r\n",
        "\r\n",
        "test_data['school_type'].value_counts()\r\n",
        "\r\n",
        "print(train_strat_count)\r\n",
        "print('*************************************************')\r\n",
        "print(test_strat_count)"
      ],
      "outputs": [
        {
          "output_type": "stream",
          "name": "stdout",
          "text": [
            "     mock_result school_type  national_result\n",
            "528           69     PRIVATE               48\n",
            "173           45     PRIVATE               65\n",
            "764           63     PRIVATE               49\n",
            "452           35      PUBLIC               46\n",
            "359           46      PUBLIC               62\n",
            "..           ...         ...              ...\n",
            "785           26     PRIVATE               50\n",
            "108           28      PUBLIC               75\n",
            "687           40     PRIVATE               95\n",
            "353           25      PUBLIC               63\n",
            "96            43      PUBLIC               50\n",
            "\n",
            "[700 rows x 3 columns]\n",
            "     mock_result school_type  national_result\n",
            "609           73     PRIVATE               54\n",
            "130           68     PRIVATE               76\n",
            "493           54     PRIVATE               69\n",
            "14            44      PUBLIC               27\n",
            "86            66      PUBLIC               68\n",
            "..           ...         ...              ...\n",
            "61            33      PUBLIC               44\n",
            "441           62     PRIVATE               68\n",
            "73            80     PRIVATE               49\n",
            "288           69      PUBLIC               56\n",
            "931           56      PUBLIC               58\n",
            "\n",
            "[300 rows x 3 columns]\n",
            "PRIVATE    350\n",
            "PUBLIC     350\n",
            "Name: school_type, dtype: int64\n",
            "*************************************************\n",
            "PUBLIC     150\n",
            "PRIVATE    150\n",
            "Name: school_type, dtype: int64\n"
          ]
        }
      ],
      "metadata": {
        "id": "NCkXyvKgSSq3"
      }
    }
  ]
}