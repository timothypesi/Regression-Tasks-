{
  "nbformat": 4,
  "nbformat_minor": 2,
  "metadata": {
    "colab": {
      "name": "Linear regression intro I.ipynb",
      "provenance": [],
      "collapsed_sections": []
    },
    "kernelspec": {
      "name": "python3",
      "display_name": "Python 3.8.5 64-bit ('base': conda)"
    },
    "language_info": {
      "name": "python",
      "version": "3.8.5",
      "mimetype": "text/x-python",
      "codemirror_mode": {
        "name": "ipython",
        "version": 3
      },
      "pygments_lexer": "ipython3",
      "nbconvert_exporter": "python",
      "file_extension": ".py"
    },
    "interpreter": {
      "hash": "8e24f623c9d976e65e43b538ecbbc4d478524c94015e92b14b460358aba5245a"
    }
  },
  "cells": [
    {
      "cell_type": "markdown",
      "source": [
        "# Examples\n",
        "We will now perform our first predictions. Consider [this data set](https://drive.google.com/file/d/13HPgfc4HP9UP-gHM2lutJ7MXSt-dAL1d/view?usp=sharing) which tracks various information about grad school applicants, as well as their percentage chance of admission to grad school.\n",
        "\n",
        "Our aim will be to predict one's chance of getting into grad school. Let's begin by taking a look at the data\n"
      ],
      "metadata": {
        "id": "KBZ6gDzJnhsr"
      }
    },
    {
      "cell_type": "code",
      "execution_count": 55,
      "source": [
        "import numpy as np\r\n",
        "import pandas as pd\r\n",
        "import seaborn as sns\r\n",
        "\r\n",
        "#load the data\r\n",
        "data = pd.read_csv('data/uni_admission.csv')\r\n",
        "\r\n",
        "#displaying the dataset\r\n",
        "data.shape"
      ],
      "outputs": [
        {
          "output_type": "execute_result",
          "data": {
            "text/plain": [
              "(500, 9)"
            ]
          },
          "metadata": {},
          "execution_count": 55
        }
      ],
      "metadata": {
        "id": "xXWDOqQ5nesd"
      }
    },
    {
      "cell_type": "markdown",
      "source": [
        "You should see 500 entries, and 9 columns. Let's also get a description of the data"
      ],
      "metadata": {
        "id": "JYrtTrgiqai1"
      }
    },
    {
      "cell_type": "code",
      "execution_count": 56,
      "source": [
        "data.describe()"
      ],
      "outputs": [
        {
          "output_type": "execute_result",
          "data": {
            "text/html": [
              "<div>\n",
              "<style scoped>\n",
              "    .dataframe tbody tr th:only-of-type {\n",
              "        vertical-align: middle;\n",
              "    }\n",
              "\n",
              "    .dataframe tbody tr th {\n",
              "        vertical-align: top;\n",
              "    }\n",
              "\n",
              "    .dataframe thead th {\n",
              "        text-align: right;\n",
              "    }\n",
              "</style>\n",
              "<table border=\"1\" class=\"dataframe\">\n",
              "  <thead>\n",
              "    <tr style=\"text-align: right;\">\n",
              "      <th></th>\n",
              "      <th>Serial No.</th>\n",
              "      <th>GRE</th>\n",
              "      <th>TOEFL</th>\n",
              "      <th>uni_rating</th>\n",
              "      <th>SOP</th>\n",
              "      <th>LOR</th>\n",
              "      <th>CGPA</th>\n",
              "      <th>publications</th>\n",
              "      <th>admit_chance</th>\n",
              "    </tr>\n",
              "  </thead>\n",
              "  <tbody>\n",
              "    <tr>\n",
              "      <th>count</th>\n",
              "      <td>500.000000</td>\n",
              "      <td>500.000000</td>\n",
              "      <td>500.000000</td>\n",
              "      <td>500.000000</td>\n",
              "      <td>500.000000</td>\n",
              "      <td>500.00000</td>\n",
              "      <td>500.000000</td>\n",
              "      <td>500.000000</td>\n",
              "      <td>500.00000</td>\n",
              "    </tr>\n",
              "    <tr>\n",
              "      <th>mean</th>\n",
              "      <td>250.500000</td>\n",
              "      <td>316.472000</td>\n",
              "      <td>107.192000</td>\n",
              "      <td>3.114000</td>\n",
              "      <td>3.374000</td>\n",
              "      <td>3.48400</td>\n",
              "      <td>8.576440</td>\n",
              "      <td>0.560000</td>\n",
              "      <td>0.72174</td>\n",
              "    </tr>\n",
              "    <tr>\n",
              "      <th>std</th>\n",
              "      <td>144.481833</td>\n",
              "      <td>11.295148</td>\n",
              "      <td>6.081868</td>\n",
              "      <td>1.143512</td>\n",
              "      <td>0.991004</td>\n",
              "      <td>0.92545</td>\n",
              "      <td>0.604813</td>\n",
              "      <td>0.496884</td>\n",
              "      <td>0.14114</td>\n",
              "    </tr>\n",
              "    <tr>\n",
              "      <th>min</th>\n",
              "      <td>1.000000</td>\n",
              "      <td>290.000000</td>\n",
              "      <td>92.000000</td>\n",
              "      <td>1.000000</td>\n",
              "      <td>1.000000</td>\n",
              "      <td>1.00000</td>\n",
              "      <td>6.800000</td>\n",
              "      <td>0.000000</td>\n",
              "      <td>0.34000</td>\n",
              "    </tr>\n",
              "    <tr>\n",
              "      <th>25%</th>\n",
              "      <td>125.750000</td>\n",
              "      <td>308.000000</td>\n",
              "      <td>103.000000</td>\n",
              "      <td>2.000000</td>\n",
              "      <td>2.500000</td>\n",
              "      <td>3.00000</td>\n",
              "      <td>8.127500</td>\n",
              "      <td>0.000000</td>\n",
              "      <td>0.63000</td>\n",
              "    </tr>\n",
              "    <tr>\n",
              "      <th>50%</th>\n",
              "      <td>250.500000</td>\n",
              "      <td>317.000000</td>\n",
              "      <td>107.000000</td>\n",
              "      <td>3.000000</td>\n",
              "      <td>3.500000</td>\n",
              "      <td>3.50000</td>\n",
              "      <td>8.560000</td>\n",
              "      <td>1.000000</td>\n",
              "      <td>0.72000</td>\n",
              "    </tr>\n",
              "    <tr>\n",
              "      <th>75%</th>\n",
              "      <td>375.250000</td>\n",
              "      <td>325.000000</td>\n",
              "      <td>112.000000</td>\n",
              "      <td>4.000000</td>\n",
              "      <td>4.000000</td>\n",
              "      <td>4.00000</td>\n",
              "      <td>9.040000</td>\n",
              "      <td>1.000000</td>\n",
              "      <td>0.82000</td>\n",
              "    </tr>\n",
              "    <tr>\n",
              "      <th>max</th>\n",
              "      <td>500.000000</td>\n",
              "      <td>340.000000</td>\n",
              "      <td>120.000000</td>\n",
              "      <td>5.000000</td>\n",
              "      <td>5.000000</td>\n",
              "      <td>5.00000</td>\n",
              "      <td>9.920000</td>\n",
              "      <td>1.000000</td>\n",
              "      <td>0.97000</td>\n",
              "    </tr>\n",
              "  </tbody>\n",
              "</table>\n",
              "</div>"
            ],
            "text/plain": [
              "       Serial No.         GRE       TOEFL  uni_rating         SOP        LOR  \\\n",
              "count  500.000000  500.000000  500.000000  500.000000  500.000000  500.00000   \n",
              "mean   250.500000  316.472000  107.192000    3.114000    3.374000    3.48400   \n",
              "std    144.481833   11.295148    6.081868    1.143512    0.991004    0.92545   \n",
              "min      1.000000  290.000000   92.000000    1.000000    1.000000    1.00000   \n",
              "25%    125.750000  308.000000  103.000000    2.000000    2.500000    3.00000   \n",
              "50%    250.500000  317.000000  107.000000    3.000000    3.500000    3.50000   \n",
              "75%    375.250000  325.000000  112.000000    4.000000    4.000000    4.00000   \n",
              "max    500.000000  340.000000  120.000000    5.000000    5.000000    5.00000   \n",
              "\n",
              "             CGPA  publications  admit_chance  \n",
              "count  500.000000    500.000000     500.00000  \n",
              "mean     8.576440      0.560000       0.72174  \n",
              "std      0.604813      0.496884       0.14114  \n",
              "min      6.800000      0.000000       0.34000  \n",
              "25%      8.127500      0.000000       0.63000  \n",
              "50%      8.560000      1.000000       0.72000  \n",
              "75%      9.040000      1.000000       0.82000  \n",
              "max      9.920000      1.000000       0.97000  "
            ]
          },
          "metadata": {},
          "execution_count": 56
        }
      ],
      "metadata": {
        "id": "IG6jgowUqgY0"
      }
    },
    {
      "cell_type": "markdown",
      "source": [
        "Let's start by focusing on a single variable: the GRE score "
      ],
      "metadata": {
        "id": "ep0G7T0lqqIL"
      }
    },
    {
      "cell_type": "code",
      "execution_count": 57,
      "source": [
        "import matplotlib.pyplot as plt\r\n",
        "\r\n",
        "data.plot(x='GRE', y='admit_chance', style='o')\r\n",
        "plt.title('GRE Score VS Chance of admission')\r\n",
        "plt.xlabel('GRE score')\r\n",
        "plt.ylabel('chance of admission')\r\n",
        "plt.show()\r\n",
        "\r\n"
      ],
      "outputs": [
        {
          "output_type": "display_data",
          "data": {
            "image/png": "[encoded data removed]",
            "text/plain": [
              "<Figure size 432x288 with 1 Axes>"
            ]
          },
          "metadata": {
            "needs_background": "light"
          }
        }
      ],
      "metadata": {
        "id": "ahImJveoq71L",
        "colab": {
          "base_uri": "https://localhost:8080/",
          "height": 295
        },
        "outputId": "31844e73-263a-4223-edd6-4b30f7f025d1"
      }
    },
    {
      "cell_type": "markdown",
      "source": [
        "We can clearly see that there is a relationship between GRE scores and chances of admission. While there are some outliers, we will now build a linear regression model to predict admission chance based on GRE results. First, we set up our train and test datasets"
      ],
      "metadata": {
        "id": "oRXHOZUKtdup"
      }
    },
    {
      "cell_type": "code",
      "execution_count": 58,
      "source": [
        "from sklearn.model_selection import train_test_split\r\n",
        "\r\n",
        "X = data['GRE'].values.reshape(-1, 1) #WHy are we reshaping \r\n",
        "y = data['admit_chance'].values#.reshape(-1, 1)\r\n",
        "\r\n",
        "# Use 20% of the data as test\r\n",
        "# The rest will be our training set\r\n",
        "GRE_train, GRE_test, admit_train, admit_test = train_test_split(X, y, test_size=0.2, random_state=0)\r\n",
        "\r\n"
      ],
      "outputs": [],
      "metadata": {
        "id": "mvoObvLatwKz"
      }
    },
    {
      "cell_type": "markdown",
      "source": [
        "This should be familiar so far, time to actually create the model. We will create a regressor object, and train it using our train data"
      ],
      "metadata": {
        "id": "etuGnzXivAvZ"
      }
    },
    {
      "cell_type": "code",
      "execution_count": 59,
      "source": [
        "from sklearn.linear_model import LinearRegression\r\n",
        "\r\n",
        "regressor = LinearRegression()\r\n",
        "\r\n",
        "regressor.fit(GRE_train, admit_train)\r\n",
        "\r\n",
        "#The fit method will look for our optimal line. More info on this method and others\r\n",
        "# at the official documentation https://scikit-learn.org/stable/modules/generated/sklearn.linear_model.LinearRegression.html#sklearn.linear_model.LinearRegression.fit\r\n",
        "\r\n",
        "#display the intercept / bias\r\n",
        "print(regressor.intercept_)\r\n",
        "\r\n",
        "#display the coefficient\r\n",
        "print(regressor.coef_)"
      ],
      "outputs": [
        {
          "output_type": "stream",
          "name": "stdout",
          "text": [
            "-2.548812692408458\n",
            "[0.01033718]\n"
          ]
        }
      ],
      "metadata": {
        "id": "zfMGlFRJvKRs"
      }
    },
    {
      "cell_type": "markdown",
      "source": [
        "How good is our newly fitted model? Let's feed it the data we saved for testing. We will have the model predict chances of admission based on those GRE scores we set aside, then compare that to the actual chances from the original dataset."
      ],
      "metadata": {
        "id": "xB6v_bDowz5-"
      }
    },
    {
      "cell_type": "code",
      "execution_count": 60,
      "source": [
        "admit_predict = regressor.predict(GRE_test)\r\n",
        "\r\n",
        "comparison_frame = pd.DataFrame({'Actual': admit_test.flatten(), 'Predicted': admit_predict.flatten()})\r\n",
        "\r\n",
        "comparison_frame.describe()\r\n",
        "  "
      ],
      "outputs": [
        {
          "output_type": "execute_result",
          "data": {
            "text/html": [
              "<div>\n",
              "<style scoped>\n",
              "    .dataframe tbody tr th:only-of-type {\n",
              "        vertical-align: middle;\n",
              "    }\n",
              "\n",
              "    .dataframe tbody tr th {\n",
              "        vertical-align: top;\n",
              "    }\n",
              "\n",
              "    .dataframe thead th {\n",
              "        text-align: right;\n",
              "    }\n",
              "</style>\n",
              "<table border=\"1\" class=\"dataframe\">\n",
              "  <thead>\n",
              "    <tr style=\"text-align: right;\">\n",
              "      <th></th>\n",
              "      <th>Actual</th>\n",
              "      <th>Predicted</th>\n",
              "    </tr>\n",
              "  </thead>\n",
              "  <tbody>\n",
              "    <tr>\n",
              "      <th>count</th>\n",
              "      <td>100.00000</td>\n",
              "      <td>100.000000</td>\n",
              "    </tr>\n",
              "    <tr>\n",
              "      <th>mean</th>\n",
              "      <td>0.70250</td>\n",
              "      <td>0.706884</td>\n",
              "    </tr>\n",
              "    <tr>\n",
              "      <th>std</th>\n",
              "      <td>0.13282</td>\n",
              "      <td>0.115189</td>\n",
              "    </tr>\n",
              "    <tr>\n",
              "      <th>min</th>\n",
              "      <td>0.39000</td>\n",
              "      <td>0.500657</td>\n",
              "    </tr>\n",
              "    <tr>\n",
              "      <th>25%</th>\n",
              "      <td>0.60000</td>\n",
              "      <td>0.614366</td>\n",
              "    </tr>\n",
              "    <tr>\n",
              "      <th>50%</th>\n",
              "      <td>0.70500</td>\n",
              "      <td>0.717738</td>\n",
              "    </tr>\n",
              "    <tr>\n",
              "      <th>75%</th>\n",
              "      <td>0.80000</td>\n",
              "      <td>0.800435</td>\n",
              "    </tr>\n",
              "    <tr>\n",
              "      <th>max</th>\n",
              "      <td>0.96000</td>\n",
              "      <td>0.945156</td>\n",
              "    </tr>\n",
              "  </tbody>\n",
              "</table>\n",
              "</div>"
            ],
            "text/plain": [
              "          Actual   Predicted\n",
              "count  100.00000  100.000000\n",
              "mean     0.70250    0.706884\n",
              "std      0.13282    0.115189\n",
              "min      0.39000    0.500657\n",
              "25%      0.60000    0.614366\n",
              "50%      0.70500    0.717738\n",
              "75%      0.80000    0.800435\n",
              "max      0.96000    0.945156"
            ]
          },
          "metadata": {},
          "execution_count": 60
        }
      ],
      "metadata": {
        "id": "v8WebJOuxH0M"
      }
    },
    {
      "cell_type": "markdown",
      "source": [
        "Our model is not too bad, although you can see that it can be off, as with the min value. Let's visualize it for a better intuition"
      ],
      "metadata": {
        "id": "stGyM9xxx4ET"
      }
    },
    {
      "cell_type": "code",
      "execution_count": 61,
      "source": [
        "plt.scatter(GRE_test, admit_test, color='red')\r\n",
        "plt.plot(GRE_test, admit_predict, color='black', linewidth=2)\r\n",
        "plt.show()"
      ],
      "outputs": [
        {
          "output_type": "display_data",
          "data": {
            "image/png": "[encoded data removed]",
            "text/plain": [
              "<Figure size 432x288 with 1 Axes>"
            ]
          },
          "metadata": {
            "needs_background": "light"
          }
        }
      ],
      "metadata": {
        "id": "z8PfFME6yK51"
      }
    },
    {
      "cell_type": "markdown",
      "source": [
        "We have some outliers, but our line is nicely centered. While visualizations like this are helpful in assessing our line of best fit, sklearn comes with some crucial metrics for linear regressions"
      ],
      "metadata": {
        "id": "xGm6EgXNyuTd"
      }
    },
    {
      "cell_type": "code",
      "execution_count": 62,
      "source": [
        "from sklearn import metrics\r\n",
        "\r\n",
        "# Our first metric is MAE - Mean absolute error\r\n",
        "print('Mean Absolute Error:', metrics.mean_absolute_error(admit_test, admit_predict))\r\n",
        "\r\n",
        "# We can also use MSE - Mean squared error\r\n",
        "print('Mean Squared Error:', metrics.mean_squared_error(admit_test, admit_predict))  \r\n",
        "\r\n",
        "# Finally, the most popular metric: RMSE - Root mean squared error\r\n",
        "print('Root Mean Squared Error:', np.sqrt(metrics.mean_squared_error(admit_test, admit_predict)))  \r\n"
      ],
      "outputs": [
        {
          "output_type": "stream",
          "name": "stdout",
          "text": [
            "Mean Absolute Error: 0.06369849100330709\n",
            "Mean Squared Error: 0.007267459430926822\n",
            "Root Mean Squared Error: 0.08524939548716355\n"
          ]
        }
      ],
      "metadata": {
        "id": "_DAEo_J2zPD7"
      }
    },
    {
      "cell_type": "markdown",
      "source": [
        "How do we make sense of the numbers above? You shoud read through [this article](https://medium.com/human-in-a-machine-world/mae-and-rmse-which-metric-is-better-e60ac3bde13d) for formal definitions of the metrics above, but bear in mind the following:\n",
        "\n",
        "\n",
        "\n",
        "*   We will use these metrics (particularly RMSE) to compare models to each other. The lower the value the better.\n",
        "*   These values are relative to our dependent variable, i.e our dependent variable ranges from 0.39 to 0.96, with a mean of 0.7 and standard deviation of 0.13. This makes an RMSE of 0.085 somewhat acceptable. If our data ranged from 0 to 10, an RMSE of 0.085 would be incredible!\n",
        "\n",
        "Let's see if we can improve our model by bringing in new independent variables. Let's start by plotting TOEFL scores against admission chance\n",
        "\n"
      ],
      "metadata": {
        "id": "X-tKHtao036U"
      }
    },
    {
      "cell_type": "code",
      "execution_count": 63,
      "source": [
        "import matplotlib.pyplot as plt\r\n",
        "\r\n",
        "data.plot(x='TOEFL', y='admit_chance', style='o')\r\n",
        "plt.title('TOEFL Score VS Chance of admission')\r\n",
        "plt.xlabel('TOEFL score')\r\n",
        "plt.ylabel('chance of admission')\r\n",
        "plt.show()\r\n"
      ],
      "outputs": [
        {
          "output_type": "display_data",
          "data": {
            "image/png": "[encoded data removed]",
            "text/plain": [
              "<Figure size 432x288 with 1 Axes>"
            ]
          },
          "metadata": {
            "needs_background": "light"
          }
        }
      ],
      "metadata": {
        "id": "VuYx5_7l1I-j"
      }
    },
    {
      "cell_type": "markdown",
      "source": [
        "Once again, we can see that there is a relationship between TOEFL score and chance of admission. Let's perform a multivariate linear regression using both GRE and TOEFL scores as independent variables."
      ],
      "metadata": {
        "id": "P9EZDGNG4xwo"
      }
    },
    {
      "cell_type": "code",
      "execution_count": 64,
      "source": [
        "X = data[['GRE', 'TOEFL']].values\r\n",
        "y = data['admit_chance'].values\r\n",
        "\r\n",
        "# Train using 80% of the data.\r\n",
        "X_train, X_test, y_train, y_test = train_test_split(X, y, test_size=0.2, random_state=0)\r\n",
        "\r\n",
        "# find optimal coefficients and intercept\r\n",
        "regressor = LinearRegression()  \r\n",
        "regressor.fit(X_train, y_train)\r\n"
      ],
      "outputs": [
        {
          "output_type": "execute_result",
          "data": {
            "text/plain": [
              "LinearRegression()"
            ]
          },
          "metadata": {},
          "execution_count": 64
        }
      ],
      "metadata": {
        "id": "OpZNLpS80uCg"
      }
    },
    {
      "cell_type": "markdown",
      "source": [
        "It is interesting at this point to check the coefficients used by our model, as they indicate how heavily each independent variable contributes to the dependent variable"
      ],
      "metadata": {
        "id": "ReWYBvB65ndt"
      }
    },
    {
      "cell_type": "code",
      "execution_count": 65,
      "source": [
        "regressor.coef_\r\n"
      ],
      "outputs": [
        {
          "output_type": "execute_result",
          "data": {
            "text/plain": [
              "array([0.00641501, 0.00867603])"
            ]
          },
          "metadata": {},
          "execution_count": 65
        }
      ],
      "metadata": {
        "id": "Ei3mNi-Q5_fj"
      }
    },
    {
      "cell_type": "markdown",
      "source": [
        "In this case, we can see that a single point change in your Toefl score would influence your chances slightly more than a similar 1 point change in GRE scores. \n",
        "\n",
        "At this point, let's compare our predicted results to the actual data from the test set:\n"
      ],
      "metadata": {
        "id": "fTGtl0Dx6Byd"
      }
    },
    {
      "cell_type": "code",
      "execution_count": 66,
      "source": [
        "y_pred = regressor.predict(X_test)\r\n",
        "comparison_frame = pd.DataFrame({'Actual': y_test.flatten(), 'Predicted': y_pred.flatten()})\r\n",
        "\r\n",
        "comparison_frame#.describe()\r\n"
      ],
      "outputs": [
        {
          "output_type": "execute_result",
          "data": {
            "text/html": [
              "<div>\n",
              "<style scoped>\n",
              "    .dataframe tbody tr th:only-of-type {\n",
              "        vertical-align: middle;\n",
              "    }\n",
              "\n",
              "    .dataframe tbody tr th {\n",
              "        vertical-align: top;\n",
              "    }\n",
              "\n",
              "    .dataframe thead th {\n",
              "        text-align: right;\n",
              "    }\n",
              "</style>\n",
              "<table border=\"1\" class=\"dataframe\">\n",
              "  <thead>\n",
              "    <tr style=\"text-align: right;\">\n",
              "      <th></th>\n",
              "      <th>Actual</th>\n",
              "      <th>Predicted</th>\n",
              "    </tr>\n",
              "  </thead>\n",
              "  <tbody>\n",
              "    <tr>\n",
              "      <th>0</th>\n",
              "      <td>0.64</td>\n",
              "      <td>0.722459</td>\n",
              "    </tr>\n",
              "    <tr>\n",
              "      <th>1</th>\n",
              "      <td>0.85</td>\n",
              "      <td>0.811112</td>\n",
              "    </tr>\n",
              "    <tr>\n",
              "      <th>2</th>\n",
              "      <td>0.80</td>\n",
              "      <td>0.785084</td>\n",
              "    </tr>\n",
              "    <tr>\n",
              "      <th>3</th>\n",
              "      <td>0.91</td>\n",
              "      <td>0.873369</td>\n",
              "    </tr>\n",
              "    <tr>\n",
              "      <th>4</th>\n",
              "      <td>0.68</td>\n",
              "      <td>0.578700</td>\n",
              "    </tr>\n",
              "    <tr>\n",
              "      <th>...</th>\n",
              "      <td>...</td>\n",
              "      <td>...</td>\n",
              "    </tr>\n",
              "    <tr>\n",
              "      <th>95</th>\n",
              "      <td>0.95</td>\n",
              "      <td>0.950717</td>\n",
              "    </tr>\n",
              "    <tr>\n",
              "      <th>96</th>\n",
              "      <td>0.64</td>\n",
              "      <td>0.674925</td>\n",
              "    </tr>\n",
              "    <tr>\n",
              "      <th>97</th>\n",
              "      <td>0.53</td>\n",
              "      <td>0.621712</td>\n",
              "    </tr>\n",
              "    <tr>\n",
              "      <th>98</th>\n",
              "      <td>0.48</td>\n",
              "      <td>0.612668</td>\n",
              "    </tr>\n",
              "    <tr>\n",
              "      <th>99</th>\n",
              "      <td>0.64</td>\n",
              "      <td>0.639064</td>\n",
              "    </tr>\n",
              "  </tbody>\n",
              "</table>\n",
              "<p>100 rows × 2 columns</p>\n",
              "</div>"
            ],
            "text/plain": [
              "    Actual  Predicted\n",
              "0     0.64   0.722459\n",
              "1     0.85   0.811112\n",
              "2     0.80   0.785084\n",
              "3     0.91   0.873369\n",
              "4     0.68   0.578700\n",
              "..     ...        ...\n",
              "95    0.95   0.950717\n",
              "96    0.64   0.674925\n",
              "97    0.53   0.621712\n",
              "98    0.48   0.612668\n",
              "99    0.64   0.639064\n",
              "\n",
              "[100 rows x 2 columns]"
            ]
          },
          "metadata": {},
          "execution_count": 66
        }
      ],
      "metadata": {
        "id": "glAxJvoR7Nw0"
      }
    },
    {
      "cell_type": "markdown",
      "source": [
        "Slight improvements! This should be echoed in our key metrics being smaller than our single variable linear model"
      ],
      "metadata": {
        "id": "9_5XgSj27GA9"
      }
    },
    {
      "cell_type": "code",
      "execution_count": 67,
      "source": [
        "y_pred = regressor.predict(X_test)\r\n",
        "\r\n",
        "print('Mean Absolute Error:', metrics.mean_absolute_error(y_test, y_pred))  \r\n",
        "print('Mean Squared Error:', metrics.mean_squared_error(y_test, y_pred))  \r\n",
        "print('Root Mean Squared Error:', np.sqrt(metrics.mean_squared_error(y_test, y_pred)))\r\n"
      ],
      "outputs": [
        {
          "output_type": "stream",
          "name": "stdout",
          "text": [
            "Mean Absolute Error: 0.05848723572540899\n",
            "Mean Squared Error: 0.006246893942643229\n",
            "Root Mean Squared Error: 0.07903729463135253\n"
          ]
        }
      ],
      "metadata": {
        "id": "y65oIbO36V2I"
      }
    },
    {
      "cell_type": "code",
      "execution_count": 68,
      "source": [
        "X_test"
      ],
      "outputs": [
        {
          "output_type": "execute_result",
          "data": {
            "text/plain": [
              "array([[318, 106],\n",
              "       [321, 114],\n",
              "       [321, 111],\n",
              "       [328, 116],\n",
              "       [301, 102],\n",
              "       [314, 105],\n",
              "       [298, 101],\n",
              "       [302, 110],\n",
              "       [297, 100],\n",
              "       [324, 105],\n",
              "       [317, 103],\n",
              "       [320, 104],\n",
              "       [314, 102],\n",
              "       [313, 109],\n",
              "       [334, 117],\n",
              "       [297,  96],\n",
              "       [323, 110],\n",
              "       [317, 106],\n",
              "       [326, 108],\n",
              "       [300, 105],\n",
              "       [295,  99],\n",
              "       [320, 104],\n",
              "       [296, 101],\n",
              "       [331, 116],\n",
              "       [322, 110],\n",
              "       [318, 110],\n",
              "       [325, 114],\n",
              "       [311,  98],\n",
              "       [306, 100],\n",
              "       [304, 100],\n",
              "       [316, 103],\n",
              "       [296,  99],\n",
              "       [301, 106],\n",
              "       [323, 110],\n",
              "       [315, 105],\n",
              "       [298, 101],\n",
              "       [328, 108],\n",
              "       [324, 113],\n",
              "       [300, 102],\n",
              "       [310, 104],\n",
              "       [314, 107],\n",
              "       [329, 114],\n",
              "       [330, 116],\n",
              "       [316, 110],\n",
              "       [327, 112],\n",
              "       [324, 107],\n",
              "       [333, 119],\n",
              "       [326, 116],\n",
              "       [309, 111],\n",
              "       [314, 106],\n",
              "       [306, 103],\n",
              "       [312, 101],\n",
              "       [305, 103],\n",
              "       [325, 112],\n",
              "       [309, 105],\n",
              "       [328, 112],\n",
              "       [295, 101],\n",
              "       [323, 113],\n",
              "       [305, 105],\n",
              "       [308, 106],\n",
              "       [296,  95],\n",
              "       [329, 113],\n",
              "       [307, 105],\n",
              "       [323, 111],\n",
              "       [319, 108],\n",
              "       [306, 105],\n",
              "       [325, 106],\n",
              "       [326, 114],\n",
              "       [299,  96],\n",
              "       [329, 114],\n",
              "       [331, 115],\n",
              "       [325, 112],\n",
              "       [312, 107],\n",
              "       [317, 106],\n",
              "       [320, 111],\n",
              "       [338, 115],\n",
              "       [325, 110],\n",
              "       [322, 107],\n",
              "       [297,  99],\n",
              "       [317, 100],\n",
              "       [309, 106],\n",
              "       [326, 111],\n",
              "       [300, 101],\n",
              "       [312, 104],\n",
              "       [327, 113],\n",
              "       [299, 100],\n",
              "       [321, 112],\n",
              "       [309, 104],\n",
              "       [302,  99],\n",
              "       [322, 110],\n",
              "       [313, 103],\n",
              "       [324, 109],\n",
              "       [311,  99],\n",
              "       [317, 103],\n",
              "       [307, 102],\n",
              "       [336, 119],\n",
              "       [316, 102],\n",
              "       [305, 104],\n",
              "       [309, 100],\n",
              "       [305, 106]], dtype=int64)"
            ]
          },
          "metadata": {},
          "execution_count": 68
        }
      ],
      "metadata": {}
    },
    {
      "cell_type": "code",
      "execution_count": 69,
      "source": [
        "# plt.scatter(X_test.shape, y_test, color='red')\r\n",
        "# plt.plot(X_test, y_pred, color='black', linewidth=2)\r\n",
        "# plt.show()\r\n",
        "data.head()"
      ],
      "outputs": [
        {
          "output_type": "execute_result",
          "data": {
            "text/html": [
              "<div>\n",
              "<style scoped>\n",
              "    .dataframe tbody tr th:only-of-type {\n",
              "        vertical-align: middle;\n",
              "    }\n",
              "\n",
              "    .dataframe tbody tr th {\n",
              "        vertical-align: top;\n",
              "    }\n",
              "\n",
              "    .dataframe thead th {\n",
              "        text-align: right;\n",
              "    }\n",
              "</style>\n",
              "<table border=\"1\" class=\"dataframe\">\n",
              "  <thead>\n",
              "    <tr style=\"text-align: right;\">\n",
              "      <th></th>\n",
              "      <th>Serial No.</th>\n",
              "      <th>GRE</th>\n",
              "      <th>TOEFL</th>\n",
              "      <th>uni_rating</th>\n",
              "      <th>SOP</th>\n",
              "      <th>LOR</th>\n",
              "      <th>CGPA</th>\n",
              "      <th>publications</th>\n",
              "      <th>admit_chance</th>\n",
              "    </tr>\n",
              "  </thead>\n",
              "  <tbody>\n",
              "    <tr>\n",
              "      <th>0</th>\n",
              "      <td>1</td>\n",
              "      <td>337</td>\n",
              "      <td>118</td>\n",
              "      <td>4</td>\n",
              "      <td>4.5</td>\n",
              "      <td>4.5</td>\n",
              "      <td>9.65</td>\n",
              "      <td>1</td>\n",
              "      <td>0.92</td>\n",
              "    </tr>\n",
              "    <tr>\n",
              "      <th>1</th>\n",
              "      <td>2</td>\n",
              "      <td>324</td>\n",
              "      <td>107</td>\n",
              "      <td>4</td>\n",
              "      <td>4.0</td>\n",
              "      <td>4.5</td>\n",
              "      <td>8.87</td>\n",
              "      <td>1</td>\n",
              "      <td>0.76</td>\n",
              "    </tr>\n",
              "    <tr>\n",
              "      <th>2</th>\n",
              "      <td>3</td>\n",
              "      <td>316</td>\n",
              "      <td>104</td>\n",
              "      <td>3</td>\n",
              "      <td>3.0</td>\n",
              "      <td>3.5</td>\n",
              "      <td>8.00</td>\n",
              "      <td>1</td>\n",
              "      <td>0.72</td>\n",
              "    </tr>\n",
              "    <tr>\n",
              "      <th>3</th>\n",
              "      <td>4</td>\n",
              "      <td>322</td>\n",
              "      <td>110</td>\n",
              "      <td>3</td>\n",
              "      <td>3.5</td>\n",
              "      <td>2.5</td>\n",
              "      <td>8.67</td>\n",
              "      <td>1</td>\n",
              "      <td>0.80</td>\n",
              "    </tr>\n",
              "    <tr>\n",
              "      <th>4</th>\n",
              "      <td>5</td>\n",
              "      <td>314</td>\n",
              "      <td>103</td>\n",
              "      <td>2</td>\n",
              "      <td>2.0</td>\n",
              "      <td>3.0</td>\n",
              "      <td>8.21</td>\n",
              "      <td>0</td>\n",
              "      <td>0.65</td>\n",
              "    </tr>\n",
              "  </tbody>\n",
              "</table>\n",
              "</div>"
            ],
            "text/plain": [
              "   Serial No.  GRE  TOEFL  uni_rating  SOP  LOR  CGPA  publications  \\\n",
              "0           1  337    118           4  4.5  4.5  9.65             1   \n",
              "1           2  324    107           4  4.0  4.5  8.87             1   \n",
              "2           3  316    104           3  3.0  3.5  8.00             1   \n",
              "3           4  322    110           3  3.5  2.5  8.67             1   \n",
              "4           5  314    103           2  2.0  3.0  8.21             0   \n",
              "\n",
              "   admit_chance  \n",
              "0          0.92  \n",
              "1          0.76  \n",
              "2          0.72  \n",
              "3          0.80  \n",
              "4          0.65  "
            ]
          },
          "metadata": {},
          "execution_count": 69
        }
      ],
      "metadata": {}
    },
    {
      "cell_type": "markdown",
      "source": [
        "It is now time for some challenges!"
      ],
      "metadata": {
        "id": "R-Mn8eIc7cYt"
      }
    },
    {
      "cell_type": "markdown",
      "source": [
        "# Challenge 1\n",
        "\n",
        "Using the same dataset, find out which of the available variables has the largest **weight** in predicting acceptance into university.\n",
        "\n"
      ],
      "metadata": {
        "id": "HJno-sha7fL0"
      }
    },
    {
      "cell_type": "code",
      "execution_count": 70,
      "source": [
        "Data = data[['GRE', 'TOEFL','uni_rating','SOP','LOR','CGPA','publications']].values\r\n",
        "y = data['admit_chance'].values\r\n",
        "\r\n",
        "# Train using 80% of the data.\r\n",
        "X_train, X_test, y_train, y_test = train_test_split(X, y, test_size=0.2, random_state=0)\r\n",
        "\r\n",
        "# find optimal coefficients and intercept\r\n",
        "regressor = LinearRegression()  \r\n",
        "regressor.fit(X_train, y_train)"
      ],
      "outputs": [
        {
          "output_type": "execute_result",
          "data": {
            "text/plain": [
              "LinearRegression()"
            ]
          },
          "metadata": {},
          "execution_count": 70
        }
      ],
      "metadata": {
        "id": "OpEoLRvY8pRv"
      }
    },
    {
      "cell_type": "code",
      "execution_count": 71,
      "source": [
        "from statsmodels.stats.outliers_influence import variance_inflation_factor\r\n",
        "X=data\r\n",
        "vif = pd.DataFrame()\r\n",
        "vif[\"features\"] = X.columns\r\n",
        "vif[\"vif_Factor\"] = [variance_inflation_factor(X.values, i) for i in range(X.shape[1])]\r\n",
        "print(vif)"
      ],
      "outputs": [
        {
          "output_type": "stream",
          "name": "stdout",
          "text": [
            "       features   vif_Factor\n",
            "0    Serial No.     4.215632\n",
            "1           GRE  1542.687799\n",
            "2         TOEFL  1263.620398\n",
            "3    uni_rating    21.595270\n",
            "4           SOP    36.442724\n",
            "5           LOR    31.949796\n",
            "6          CGPA  1238.355223\n",
            "7  publications     3.254613\n",
            "8  admit_chance   118.691315\n"
          ]
        }
      ],
      "metadata": {}
    },
    {
      "cell_type": "code",
      "execution_count": 72,
      "source": [
        "X=data.drop(['Serial No.','uni_rating','CGPA','publications','admit_chance'],axis=1)\r\n",
        "vif = pd.DataFrame()\r\n",
        "vif[\"features\"] = X.columns\r\n",
        "vif[\"vif_Factor\"] = [variance_inflation_factor(X.values, i) for i in range(X.shape[1])]\r\n",
        "print(vif)"
      ],
      "outputs": [
        {
          "output_type": "stream",
          "name": "stdout",
          "text": [
            "  features   vif_Factor\n",
            "0      GRE   975.761797\n",
            "1    TOEFL  1082.144707\n",
            "2      SOP    25.552870\n",
            "3      LOR    28.033030\n"
          ]
        }
      ],
      "metadata": {}
    },
    {
      "cell_type": "code",
      "execution_count": 73,
      "source": [
        "#Find the coef\r\n",
        "regressor.coef_"
      ],
      "outputs": [
        {
          "output_type": "execute_result",
          "data": {
            "text/plain": [
              "array([0.00641501, 0.00867603])"
            ]
          },
          "metadata": {},
          "execution_count": 73
        }
      ],
      "metadata": {}
    },
    {
      "cell_type": "markdown",
      "source": [
        "# Challenge 2\n",
        "\n",
        "Take a look at this [dataset](https://drive.google.com/file/d/1cctsp46KVzNKGAK0kLl3mY6wRTDlUBp4/view?usp=sharing) on wine quality. You will have to build a multivariate model that predicts the **quality** of the wine, but with a key constraint: you may only use 4 variables from the 11 independent variables available to you. \n",
        "\n",
        "How can you pick the 4 most relevant independent variables? recall your learnings from module 1.\n",
        "\n",
        "Compute your metrics, and compare with your peers. How did each of you achieve their results? \n",
        "\n",
        "Hint: recall reduction techniques, you want to pick independent variables that are as unrelated to each other as possible"
      ],
      "metadata": {
        "id": "-erZrimA8qNm"
      }
    },
    {
      "cell_type": "code",
      "execution_count": 74,
      "source": [
        "wine = pd.read_csv('data/winequality-red.csv')\r\n",
        "wine #.describe()\r\n",
        "#we will use this reading to remove feaures not"
      ],
      "outputs": [
        {
          "output_type": "execute_result",
          "data": {
            "text/html": [
              "<div>\n",
              "<style scoped>\n",
              "    .dataframe tbody tr th:only-of-type {\n",
              "        vertical-align: middle;\n",
              "    }\n",
              "\n",
              "    .dataframe tbody tr th {\n",
              "        vertical-align: top;\n",
              "    }\n",
              "\n",
              "    .dataframe thead th {\n",
              "        text-align: right;\n",
              "    }\n",
              "</style>\n",
              "<table border=\"1\" class=\"dataframe\">\n",
              "  <thead>\n",
              "    <tr style=\"text-align: right;\">\n",
              "      <th></th>\n",
              "      <th>fixed acidity</th>\n",
              "      <th>volatile acidity</th>\n",
              "      <th>citric acid</th>\n",
              "      <th>residual sugar</th>\n",
              "      <th>chlorides</th>\n",
              "      <th>free sulfur dioxide</th>\n",
              "      <th>total sulfur dioxide</th>\n",
              "      <th>density</th>\n",
              "      <th>pH</th>\n",
              "      <th>sulphates</th>\n",
              "      <th>alcohol</th>\n",
              "      <th>quality</th>\n",
              "    </tr>\n",
              "  </thead>\n",
              "  <tbody>\n",
              "    <tr>\n",
              "      <th>0</th>\n",
              "      <td>7.4</td>\n",
              "      <td>0.700</td>\n",
              "      <td>0.00</td>\n",
              "      <td>1.9</td>\n",
              "      <td>0.076</td>\n",
              "      <td>11.0</td>\n",
              "      <td>34.0</td>\n",
              "      <td>0.99780</td>\n",
              "      <td>3.51</td>\n",
              "      <td>0.56</td>\n",
              "      <td>9.4</td>\n",
              "      <td>5</td>\n",
              "    </tr>\n",
              "    <tr>\n",
              "      <th>1</th>\n",
              "      <td>7.8</td>\n",
              "      <td>0.880</td>\n",
              "      <td>0.00</td>\n",
              "      <td>2.6</td>\n",
              "      <td>0.098</td>\n",
              "      <td>25.0</td>\n",
              "      <td>67.0</td>\n",
              "      <td>0.99680</td>\n",
              "      <td>3.20</td>\n",
              "      <td>0.68</td>\n",
              "      <td>9.8</td>\n",
              "      <td>5</td>\n",
              "    </tr>\n",
              "    <tr>\n",
              "      <th>2</th>\n",
              "      <td>7.8</td>\n",
              "      <td>0.760</td>\n",
              "      <td>0.04</td>\n",
              "      <td>2.3</td>\n",
              "      <td>0.092</td>\n",
              "      <td>15.0</td>\n",
              "      <td>54.0</td>\n",
              "      <td>0.99700</td>\n",
              "      <td>3.26</td>\n",
              "      <td>0.65</td>\n",
              "      <td>9.8</td>\n",
              "      <td>5</td>\n",
              "    </tr>\n",
              "    <tr>\n",
              "      <th>3</th>\n",
              "      <td>11.2</td>\n",
              "      <td>0.280</td>\n",
              "      <td>0.56</td>\n",
              "      <td>1.9</td>\n",
              "      <td>0.075</td>\n",
              "      <td>17.0</td>\n",
              "      <td>60.0</td>\n",
              "      <td>0.99800</td>\n",
              "      <td>3.16</td>\n",
              "      <td>0.58</td>\n",
              "      <td>9.8</td>\n",
              "      <td>6</td>\n",
              "    </tr>\n",
              "    <tr>\n",
              "      <th>4</th>\n",
              "      <td>7.4</td>\n",
              "      <td>0.700</td>\n",
              "      <td>0.00</td>\n",
              "      <td>1.9</td>\n",
              "      <td>0.076</td>\n",
              "      <td>11.0</td>\n",
              "      <td>34.0</td>\n",
              "      <td>0.99780</td>\n",
              "      <td>3.51</td>\n",
              "      <td>0.56</td>\n",
              "      <td>9.4</td>\n",
              "      <td>5</td>\n",
              "    </tr>\n",
              "    <tr>\n",
              "      <th>...</th>\n",
              "      <td>...</td>\n",
              "      <td>...</td>\n",
              "      <td>...</td>\n",
              "      <td>...</td>\n",
              "      <td>...</td>\n",
              "      <td>...</td>\n",
              "      <td>...</td>\n",
              "      <td>...</td>\n",
              "      <td>...</td>\n",
              "      <td>...</td>\n",
              "      <td>...</td>\n",
              "      <td>...</td>\n",
              "    </tr>\n",
              "    <tr>\n",
              "      <th>1594</th>\n",
              "      <td>6.2</td>\n",
              "      <td>0.600</td>\n",
              "      <td>0.08</td>\n",
              "      <td>2.0</td>\n",
              "      <td>0.090</td>\n",
              "      <td>32.0</td>\n",
              "      <td>44.0</td>\n",
              "      <td>0.99490</td>\n",
              "      <td>3.45</td>\n",
              "      <td>0.58</td>\n",
              "      <td>10.5</td>\n",
              "      <td>5</td>\n",
              "    </tr>\n",
              "    <tr>\n",
              "      <th>1595</th>\n",
              "      <td>5.9</td>\n",
              "      <td>0.550</td>\n",
              "      <td>0.10</td>\n",
              "      <td>2.2</td>\n",
              "      <td>0.062</td>\n",
              "      <td>39.0</td>\n",
              "      <td>51.0</td>\n",
              "      <td>0.99512</td>\n",
              "      <td>3.52</td>\n",
              "      <td>0.76</td>\n",
              "      <td>11.2</td>\n",
              "      <td>6</td>\n",
              "    </tr>\n",
              "    <tr>\n",
              "      <th>1596</th>\n",
              "      <td>6.3</td>\n",
              "      <td>0.510</td>\n",
              "      <td>0.13</td>\n",
              "      <td>2.3</td>\n",
              "      <td>0.076</td>\n",
              "      <td>29.0</td>\n",
              "      <td>40.0</td>\n",
              "      <td>0.99574</td>\n",
              "      <td>3.42</td>\n",
              "      <td>0.75</td>\n",
              "      <td>11.0</td>\n",
              "      <td>6</td>\n",
              "    </tr>\n",
              "    <tr>\n",
              "      <th>1597</th>\n",
              "      <td>5.9</td>\n",
              "      <td>0.645</td>\n",
              "      <td>0.12</td>\n",
              "      <td>2.0</td>\n",
              "      <td>0.075</td>\n",
              "      <td>32.0</td>\n",
              "      <td>44.0</td>\n",
              "      <td>0.99547</td>\n",
              "      <td>3.57</td>\n",
              "      <td>0.71</td>\n",
              "      <td>10.2</td>\n",
              "      <td>5</td>\n",
              "    </tr>\n",
              "    <tr>\n",
              "      <th>1598</th>\n",
              "      <td>6.0</td>\n",
              "      <td>0.310</td>\n",
              "      <td>0.47</td>\n",
              "      <td>3.6</td>\n",
              "      <td>0.067</td>\n",
              "      <td>18.0</td>\n",
              "      <td>42.0</td>\n",
              "      <td>0.99549</td>\n",
              "      <td>3.39</td>\n",
              "      <td>0.66</td>\n",
              "      <td>11.0</td>\n",
              "      <td>6</td>\n",
              "    </tr>\n",
              "  </tbody>\n",
              "</table>\n",
              "<p>1599 rows × 12 columns</p>\n",
              "</div>"
            ],
            "text/plain": [
              "      fixed acidity  volatile acidity  citric acid  residual sugar  chlorides  \\\n",
              "0               7.4             0.700         0.00             1.9      0.076   \n",
              "1               7.8             0.880         0.00             2.6      0.098   \n",
              "2               7.8             0.760         0.04             2.3      0.092   \n",
              "3              11.2             0.280         0.56             1.9      0.075   \n",
              "4               7.4             0.700         0.00             1.9      0.076   \n",
              "...             ...               ...          ...             ...        ...   \n",
              "1594            6.2             0.600         0.08             2.0      0.090   \n",
              "1595            5.9             0.550         0.10             2.2      0.062   \n",
              "1596            6.3             0.510         0.13             2.3      0.076   \n",
              "1597            5.9             0.645         0.12             2.0      0.075   \n",
              "1598            6.0             0.310         0.47             3.6      0.067   \n",
              "\n",
              "      free sulfur dioxide  total sulfur dioxide  density    pH  sulphates  \\\n",
              "0                    11.0                  34.0  0.99780  3.51       0.56   \n",
              "1                    25.0                  67.0  0.99680  3.20       0.68   \n",
              "2                    15.0                  54.0  0.99700  3.26       0.65   \n",
              "3                    17.0                  60.0  0.99800  3.16       0.58   \n",
              "4                    11.0                  34.0  0.99780  3.51       0.56   \n",
              "...                   ...                   ...      ...   ...        ...   \n",
              "1594                 32.0                  44.0  0.99490  3.45       0.58   \n",
              "1595                 39.0                  51.0  0.99512  3.52       0.76   \n",
              "1596                 29.0                  40.0  0.99574  3.42       0.75   \n",
              "1597                 32.0                  44.0  0.99547  3.57       0.71   \n",
              "1598                 18.0                  42.0  0.99549  3.39       0.66   \n",
              "\n",
              "      alcohol  quality  \n",
              "0         9.4        5  \n",
              "1         9.8        5  \n",
              "2         9.8        5  \n",
              "3         9.8        6  \n",
              "4         9.4        5  \n",
              "...       ...      ...  \n",
              "1594     10.5        5  \n",
              "1595     11.2        6  \n",
              "1596     11.0        6  \n",
              "1597     10.2        5  \n",
              "1598     11.0        6  \n",
              "\n",
              "[1599 rows x 12 columns]"
            ]
          },
          "metadata": {},
          "execution_count": 74
        }
      ],
      "metadata": {
        "id": "dEADFT8A_arz"
      }
    },
    {
      "cell_type": "code",
      "execution_count": 75,
      "source": [
        "wine['quality'].unique()"
      ],
      "outputs": [
        {
          "output_type": "execute_result",
          "data": {
            "text/plain": [
              "array([5, 6, 7, 4, 8, 3], dtype=int64)"
            ]
          },
          "metadata": {},
          "execution_count": 75
        }
      ],
      "metadata": {}
    },
    {
      "cell_type": "code",
      "execution_count": 76,
      "source": [
        "sns.heatmap(wine.corr(), annot=True, cmap=\"YlGnBu\")\r\n",
        "plt.show()"
      ],
      "outputs": [
        {
          "output_type": "display_data",
          "data": {
            "image/png": "[encoded data removed]",
            "text/plain": [
              "<Figure size 432x288 with 2 Axes>"
            ]
          },
          "metadata": {
            "needs_background": "light"
          }
        }
      ],
      "metadata": {}
    },
    {
      "cell_type": "code",
      "execution_count": 77,
      "source": [
        "wine.describe()"
      ],
      "outputs": [
        {
          "output_type": "execute_result",
          "data": {
            "text/html": [
              "<div>\n",
              "<style scoped>\n",
              "    .dataframe tbody tr th:only-of-type {\n",
              "        vertical-align: middle;\n",
              "    }\n",
              "\n",
              "    .dataframe tbody tr th {\n",
              "        vertical-align: top;\n",
              "    }\n",
              "\n",
              "    .dataframe thead th {\n",
              "        text-align: right;\n",
              "    }\n",
              "</style>\n",
              "<table border=\"1\" class=\"dataframe\">\n",
              "  <thead>\n",
              "    <tr style=\"text-align: right;\">\n",
              "      <th></th>\n",
              "      <th>fixed acidity</th>\n",
              "      <th>volatile acidity</th>\n",
              "      <th>citric acid</th>\n",
              "      <th>residual sugar</th>\n",
              "      <th>chlorides</th>\n",
              "      <th>free sulfur dioxide</th>\n",
              "      <th>total sulfur dioxide</th>\n",
              "      <th>density</th>\n",
              "      <th>pH</th>\n",
              "      <th>sulphates</th>\n",
              "      <th>alcohol</th>\n",
              "      <th>quality</th>\n",
              "    </tr>\n",
              "  </thead>\n",
              "  <tbody>\n",
              "    <tr>\n",
              "      <th>count</th>\n",
              "      <td>1599.000000</td>\n",
              "      <td>1599.000000</td>\n",
              "      <td>1599.000000</td>\n",
              "      <td>1599.000000</td>\n",
              "      <td>1599.000000</td>\n",
              "      <td>1599.000000</td>\n",
              "      <td>1599.000000</td>\n",
              "      <td>1599.000000</td>\n",
              "      <td>1599.000000</td>\n",
              "      <td>1599.000000</td>\n",
              "      <td>1599.000000</td>\n",
              "      <td>1599.000000</td>\n",
              "    </tr>\n",
              "    <tr>\n",
              "      <th>mean</th>\n",
              "      <td>8.319637</td>\n",
              "      <td>0.527821</td>\n",
              "      <td>0.270976</td>\n",
              "      <td>2.538806</td>\n",
              "      <td>0.087467</td>\n",
              "      <td>15.874922</td>\n",
              "      <td>46.467792</td>\n",
              "      <td>0.996747</td>\n",
              "      <td>3.311113</td>\n",
              "      <td>0.658149</td>\n",
              "      <td>10.422983</td>\n",
              "      <td>5.636023</td>\n",
              "    </tr>\n",
              "    <tr>\n",
              "      <th>std</th>\n",
              "      <td>1.741096</td>\n",
              "      <td>0.179060</td>\n",
              "      <td>0.194801</td>\n",
              "      <td>1.409928</td>\n",
              "      <td>0.047065</td>\n",
              "      <td>10.460157</td>\n",
              "      <td>32.895324</td>\n",
              "      <td>0.001887</td>\n",
              "      <td>0.154386</td>\n",
              "      <td>0.169507</td>\n",
              "      <td>1.065668</td>\n",
              "      <td>0.807569</td>\n",
              "    </tr>\n",
              "    <tr>\n",
              "      <th>min</th>\n",
              "      <td>4.600000</td>\n",
              "      <td>0.120000</td>\n",
              "      <td>0.000000</td>\n",
              "      <td>0.900000</td>\n",
              "      <td>0.012000</td>\n",
              "      <td>1.000000</td>\n",
              "      <td>6.000000</td>\n",
              "      <td>0.990070</td>\n",
              "      <td>2.740000</td>\n",
              "      <td>0.330000</td>\n",
              "      <td>8.400000</td>\n",
              "      <td>3.000000</td>\n",
              "    </tr>\n",
              "    <tr>\n",
              "      <th>25%</th>\n",
              "      <td>7.100000</td>\n",
              "      <td>0.390000</td>\n",
              "      <td>0.090000</td>\n",
              "      <td>1.900000</td>\n",
              "      <td>0.070000</td>\n",
              "      <td>7.000000</td>\n",
              "      <td>22.000000</td>\n",
              "      <td>0.995600</td>\n",
              "      <td>3.210000</td>\n",
              "      <td>0.550000</td>\n",
              "      <td>9.500000</td>\n",
              "      <td>5.000000</td>\n",
              "    </tr>\n",
              "    <tr>\n",
              "      <th>50%</th>\n",
              "      <td>7.900000</td>\n",
              "      <td>0.520000</td>\n",
              "      <td>0.260000</td>\n",
              "      <td>2.200000</td>\n",
              "      <td>0.079000</td>\n",
              "      <td>14.000000</td>\n",
              "      <td>38.000000</td>\n",
              "      <td>0.996750</td>\n",
              "      <td>3.310000</td>\n",
              "      <td>0.620000</td>\n",
              "      <td>10.200000</td>\n",
              "      <td>6.000000</td>\n",
              "    </tr>\n",
              "    <tr>\n",
              "      <th>75%</th>\n",
              "      <td>9.200000</td>\n",
              "      <td>0.640000</td>\n",
              "      <td>0.420000</td>\n",
              "      <td>2.600000</td>\n",
              "      <td>0.090000</td>\n",
              "      <td>21.000000</td>\n",
              "      <td>62.000000</td>\n",
              "      <td>0.997835</td>\n",
              "      <td>3.400000</td>\n",
              "      <td>0.730000</td>\n",
              "      <td>11.100000</td>\n",
              "      <td>6.000000</td>\n",
              "    </tr>\n",
              "    <tr>\n",
              "      <th>max</th>\n",
              "      <td>15.900000</td>\n",
              "      <td>1.580000</td>\n",
              "      <td>1.000000</td>\n",
              "      <td>15.500000</td>\n",
              "      <td>0.611000</td>\n",
              "      <td>72.000000</td>\n",
              "      <td>289.000000</td>\n",
              "      <td>1.003690</td>\n",
              "      <td>4.010000</td>\n",
              "      <td>2.000000</td>\n",
              "      <td>14.900000</td>\n",
              "      <td>8.000000</td>\n",
              "    </tr>\n",
              "  </tbody>\n",
              "</table>\n",
              "</div>"
            ],
            "text/plain": [
              "       fixed acidity  volatile acidity  citric acid  residual sugar  \\\n",
              "count    1599.000000       1599.000000  1599.000000     1599.000000   \n",
              "mean        8.319637          0.527821     0.270976        2.538806   \n",
              "std         1.741096          0.179060     0.194801        1.409928   \n",
              "min         4.600000          0.120000     0.000000        0.900000   \n",
              "25%         7.100000          0.390000     0.090000        1.900000   \n",
              "50%         7.900000          0.520000     0.260000        2.200000   \n",
              "75%         9.200000          0.640000     0.420000        2.600000   \n",
              "max        15.900000          1.580000     1.000000       15.500000   \n",
              "\n",
              "         chlorides  free sulfur dioxide  total sulfur dioxide      density  \\\n",
              "count  1599.000000          1599.000000           1599.000000  1599.000000   \n",
              "mean      0.087467            15.874922             46.467792     0.996747   \n",
              "std       0.047065            10.460157             32.895324     0.001887   \n",
              "min       0.012000             1.000000              6.000000     0.990070   \n",
              "25%       0.070000             7.000000             22.000000     0.995600   \n",
              "50%       0.079000            14.000000             38.000000     0.996750   \n",
              "75%       0.090000            21.000000             62.000000     0.997835   \n",
              "max       0.611000            72.000000            289.000000     1.003690   \n",
              "\n",
              "                pH    sulphates      alcohol      quality  \n",
              "count  1599.000000  1599.000000  1599.000000  1599.000000  \n",
              "mean      3.311113     0.658149    10.422983     5.636023  \n",
              "std       0.154386     0.169507     1.065668     0.807569  \n",
              "min       2.740000     0.330000     8.400000     3.000000  \n",
              "25%       3.210000     0.550000     9.500000     5.000000  \n",
              "50%       3.310000     0.620000    10.200000     6.000000  \n",
              "75%       3.400000     0.730000    11.100000     6.000000  \n",
              "max       4.010000     2.000000    14.900000     8.000000  "
            ]
          },
          "metadata": {},
          "execution_count": 77
        }
      ],
      "metadata": {}
    },
    {
      "cell_type": "code",
      "execution_count": 78,
      "source": [
        "from statsmodels.stats.outliers_influence import variance_inflation_factor\r\n",
        "X=wine\r\n",
        "vif = pd.DataFrame()\r\n",
        "vif[\"features\"] = X.columns\r\n",
        "vif[\"vif_Factor\"] = [variance_inflation_factor(X.values, i) for i in range(X.shape[1])]\r\n",
        "print(vif)"
      ],
      "outputs": [
        {
          "output_type": "stream",
          "name": "stdout",
          "text": [
            "                features   vif_Factor\n",
            "0          fixed acidity    74.455312\n",
            "1       volatile acidity    17.960867\n",
            "2            citric acid     9.192549\n",
            "3         residual sugar     4.664003\n",
            "4              chlorides     6.641291\n",
            "5    free sulfur dioxide     6.460603\n",
            "6   total sulfur dioxide     6.605274\n",
            "7                density  1528.154302\n",
            "8                     pH  1078.171089\n",
            "9              sulphates    22.462103\n",
            "10               alcohol   147.616345\n",
            "11               quality    77.728259\n"
          ]
        }
      ],
      "metadata": {}
    },
    {
      "cell_type": "code",
      "execution_count": 79,
      "source": [
        "X=wine.drop(['quality','density','pH','alcohol','fixed acidity','volatile acidity','sulphates'],axis=1)\r\n",
        "vif = pd.DataFrame()\r\n",
        "vif[\"features\"] = X.columns\r\n",
        "vif[\"vif_Factor\"] = [variance_inflation_factor(X.values, i) for i in range(X.shape[1])]\r\n",
        "print(vif)"
      ],
      "outputs": [
        {
          "output_type": "stream",
          "name": "stdout",
          "text": [
            "               features  vif_Factor\n",
            "0           citric acid    2.898228\n",
            "1        residual sugar    3.802914\n",
            "2             chlorides    3.522388\n",
            "3   free sulfur dioxide    5.652490\n",
            "4  total sulfur dioxide    5.494266\n"
          ]
        }
      ],
      "metadata": {}
    },
    {
      "cell_type": "code",
      "execution_count": 80,
      "source": [
        "#cols = list(vif['features'])\r\n",
        "cols = ['volatile acidity','citric acid','alcohol','sulphates']\r\n",
        "cols"
      ],
      "outputs": [
        {
          "output_type": "execute_result",
          "data": {
            "text/plain": [
              "['volatile acidity', 'citric acid', 'alcohol', 'sulphates']"
            ]
          },
          "metadata": {},
          "execution_count": 80
        }
      ],
      "metadata": {}
    },
    {
      "cell_type": "code",
      "execution_count": 81,
      "source": [
        "X = wine[cols]\r\n",
        "y = wine['quality']\r\n",
        "y"
      ],
      "outputs": [
        {
          "output_type": "execute_result",
          "data": {
            "text/plain": [
              "0       5\n",
              "1       5\n",
              "2       5\n",
              "3       6\n",
              "4       5\n",
              "       ..\n",
              "1594    5\n",
              "1595    6\n",
              "1596    6\n",
              "1597    5\n",
              "1598    6\n",
              "Name: quality, Length: 1599, dtype: int64"
            ]
          },
          "metadata": {},
          "execution_count": 81
        }
      ],
      "metadata": {}
    },
    {
      "cell_type": "code",
      "execution_count": 82,
      "source": [
        "# Train using 80% of the data.\r\n",
        "X_train, X_test, y_train, y_test = train_test_split(X, y, test_size=0.2, random_state=0)\r\n",
        "\r\n",
        "# find optimal coefficients and intercept\r\n",
        "regressor = LinearRegression()  \r\n",
        "regressor.fit(X_train, y_train)\r\n"
      ],
      "outputs": [
        {
          "output_type": "execute_result",
          "data": {
            "text/plain": [
              "LinearRegression()"
            ]
          },
          "metadata": {},
          "execution_count": 82
        }
      ],
      "metadata": {}
    },
    {
      "cell_type": "code",
      "execution_count": 83,
      "source": [
        "y_pred = regressor.predict(X_test)\r\n",
        "\r\n",
        "print('Mean Absolute Error:', metrics.mean_absolute_error(y_test, y_pred))  \r\n",
        "print('Mean Squared Error:', metrics.mean_squared_error(y_test, y_pred))  \r\n",
        "print('Root Mean Squared Error:', np.sqrt(metrics.mean_squared_error(y_test, y_pred)))\r\n",
        "\r\n",
        "#At which RMSE is the model well\r\n"
      ],
      "outputs": [
        {
          "output_type": "stream",
          "name": "stdout",
          "text": [
            "Mean Absolute Error: 0.48176850659876125\n",
            "Mean Squared Error: 0.4009263029232798\n",
            "Root Mean Squared Error: 0.6331874153228882\n"
          ]
        }
      ],
      "metadata": {}
    },
    {
      "cell_type": "code",
      "execution_count": 84,
      "source": [
        "wine.corr()\r\n",
        "cols = ['volatile acidity','citric acid','alcohol','sulphates']"
      ],
      "outputs": [],
      "metadata": {}
    },
    {
      "cell_type": "code",
      "execution_count": 85,
      "source": [
        "#Check the accuracy \r\n",
        "# from sklearn.metrics import confusion_matrix\r\n",
        "# from sklearn.metrics import accuracy_score\r\n",
        "\r\n",
        "\r\n",
        "\r\n",
        "# print('Accuracy' , accuracy_score(y_test, y_pred))"
      ],
      "outputs": [],
      "metadata": {}
    },
    {
      "cell_type": "code",
      "execution_count": 86,
      "source": [
        "regressor.coef_"
      ],
      "outputs": [
        {
          "output_type": "execute_result",
          "data": {
            "text/plain": [
              "array([-1.33440129, -0.07662679,  0.31487593,  0.67128956])"
            ]
          },
          "metadata": {},
          "execution_count": 86
        }
      ],
      "metadata": {}
    },
    {
      "cell_type": "code",
      "execution_count": 87,
      "source": [
        "frame = pd.DataFrame({'Actual': y_test, 'Predicted': y_pred})\r\n",
        "frame.head()"
      ],
      "outputs": [
        {
          "output_type": "execute_result",
          "data": {
            "text/html": [
              "<div>\n",
              "<style scoped>\n",
              "    .dataframe tbody tr th:only-of-type {\n",
              "        vertical-align: middle;\n",
              "    }\n",
              "\n",
              "    .dataframe tbody tr th {\n",
              "        vertical-align: top;\n",
              "    }\n",
              "\n",
              "    .dataframe thead th {\n",
              "        text-align: right;\n",
              "    }\n",
              "</style>\n",
              "<table border=\"1\" class=\"dataframe\">\n",
              "  <thead>\n",
              "    <tr style=\"text-align: right;\">\n",
              "      <th></th>\n",
              "      <th>Actual</th>\n",
              "      <th>Predicted</th>\n",
              "    </tr>\n",
              "  </thead>\n",
              "  <tbody>\n",
              "    <tr>\n",
              "      <th>1109</th>\n",
              "      <td>6</td>\n",
              "      <td>5.903862</td>\n",
              "    </tr>\n",
              "    <tr>\n",
              "      <th>1032</th>\n",
              "      <td>5</td>\n",
              "      <td>4.937523</td>\n",
              "    </tr>\n",
              "    <tr>\n",
              "      <th>1002</th>\n",
              "      <td>7</td>\n",
              "      <td>6.488808</td>\n",
              "    </tr>\n",
              "    <tr>\n",
              "      <th>487</th>\n",
              "      <td>6</td>\n",
              "      <td>5.195566</td>\n",
              "    </tr>\n",
              "    <tr>\n",
              "      <th>979</th>\n",
              "      <td>5</td>\n",
              "      <td>5.712734</td>\n",
              "    </tr>\n",
              "  </tbody>\n",
              "</table>\n",
              "</div>"
            ],
            "text/plain": [
              "      Actual  Predicted\n",
              "1109       6   5.903862\n",
              "1032       5   4.937523\n",
              "1002       7   6.488808\n",
              "487        6   5.195566\n",
              "979        5   5.712734"
            ]
          },
          "metadata": {},
          "execution_count": 87
        }
      ],
      "metadata": {}
    },
    {
      "cell_type": "code",
      "execution_count": 88,
      "source": [
        "frame.describe()"
      ],
      "outputs": [
        {
          "output_type": "execute_result",
          "data": {
            "text/html": [
              "<div>\n",
              "<style scoped>\n",
              "    .dataframe tbody tr th:only-of-type {\n",
              "        vertical-align: middle;\n",
              "    }\n",
              "\n",
              "    .dataframe tbody tr th {\n",
              "        vertical-align: top;\n",
              "    }\n",
              "\n",
              "    .dataframe thead th {\n",
              "        text-align: right;\n",
              "    }\n",
              "</style>\n",
              "<table border=\"1\" class=\"dataframe\">\n",
              "  <thead>\n",
              "    <tr style=\"text-align: right;\">\n",
              "      <th></th>\n",
              "      <th>Actual</th>\n",
              "      <th>Predicted</th>\n",
              "    </tr>\n",
              "  </thead>\n",
              "  <tbody>\n",
              "    <tr>\n",
              "      <th>count</th>\n",
              "      <td>320.000000</td>\n",
              "      <td>320.000000</td>\n",
              "    </tr>\n",
              "    <tr>\n",
              "      <th>mean</th>\n",
              "      <td>5.593750</td>\n",
              "      <td>5.672620</td>\n",
              "    </tr>\n",
              "    <tr>\n",
              "      <th>std</th>\n",
              "      <td>0.757796</td>\n",
              "      <td>0.482444</td>\n",
              "    </tr>\n",
              "    <tr>\n",
              "      <th>min</th>\n",
              "      <td>3.000000</td>\n",
              "      <td>4.556792</td>\n",
              "    </tr>\n",
              "    <tr>\n",
              "      <th>25%</th>\n",
              "      <td>5.000000</td>\n",
              "      <td>5.296395</td>\n",
              "    </tr>\n",
              "    <tr>\n",
              "      <th>50%</th>\n",
              "      <td>6.000000</td>\n",
              "      <td>5.639756</td>\n",
              "    </tr>\n",
              "    <tr>\n",
              "      <th>75%</th>\n",
              "      <td>6.000000</td>\n",
              "      <td>6.015406</td>\n",
              "    </tr>\n",
              "    <tr>\n",
              "      <th>max</th>\n",
              "      <td>8.000000</td>\n",
              "      <td>7.138025</td>\n",
              "    </tr>\n",
              "  </tbody>\n",
              "</table>\n",
              "</div>"
            ],
            "text/plain": [
              "           Actual   Predicted\n",
              "count  320.000000  320.000000\n",
              "mean     5.593750    5.672620\n",
              "std      0.757796    0.482444\n",
              "min      3.000000    4.556792\n",
              "25%      5.000000    5.296395\n",
              "50%      6.000000    5.639756\n",
              "75%      6.000000    6.015406\n",
              "max      8.000000    7.138025"
            ]
          },
          "metadata": {},
          "execution_count": 88
        }
      ],
      "metadata": {}
    },
    {
      "cell_type": "code",
      "execution_count": 89,
      "source": [
        "from sklearn.preprocessing import StandardScaler\r\n",
        "\r\n",
        "sc = StandardScaler()\r\n",
        "X_train = sc.fit_transform(X_train)\r\n",
        "X_test = sc.transform(X_test)"
      ],
      "outputs": [],
      "metadata": {}
    },
    {
      "cell_type": "code",
      "execution_count": 90,
      "source": [
        "from sklearn.decomposition import PCA\r\n",
        "\r\n",
        "pca = PCA()\r\n",
        "X_train = pca.fit_transform(X_train)\r\n",
        "X_test = pca.transform(X_test)"
      ],
      "outputs": [],
      "metadata": {}
    },
    {
      "cell_type": "code",
      "execution_count": 91,
      "source": [
        "explained_variance = pca.explained_variance_ratio_\r\n",
        "\r\n",
        "# The explained_variance variable is now a float type array which contains variance ratios for each principal component. \r\n",
        "# The values for the explained_variance variable looks like what is shown in the output. \r\n",
        "# It can be seen that first principal component is responsible for 72.22% variance. \r\n",
        "# Similarly, the second principal component causes 23.9% variance in the dataset. \r\n",
        "# Collectively we can say that (72.22 + 23.9) 96.21% percent of the classification information contained \r\n",
        "# in the feature set is captured by the first two principal components.\r\n",
        "explained_variance"
      ],
      "outputs": [
        {
          "output_type": "execute_result",
          "data": {
            "text/plain": [
              "array([0.45587928, 0.23659579, 0.19737778, 0.11014714])"
            ]
          },
          "metadata": {},
          "execution_count": 91
        }
      ],
      "metadata": {}
    },
    {
      "cell_type": "code",
      "execution_count": 92,
      "source": [
        "from sklearn.decomposition import PCA\r\n",
        "\r\n",
        "pca = PCA(n_components=4)\r\n",
        "X_train = pca.fit_transform(X_train)\r\n",
        "X_test = pca.transform(X_test)"
      ],
      "outputs": [],
      "metadata": {}
    },
    {
      "cell_type": "code",
      "execution_count": 93,
      "source": [
        "from sklearn.ensemble import RandomForestClassifier\r\n",
        "\r\n",
        "classifier = RandomForestClassifier(max_depth=2, random_state=0)\r\n",
        "classifier.fit(X_train, y_train)\r\n",
        "\r\n",
        "# Predicting the Test set results\r\n",
        "y_pred = classifier.predict(X_test)"
      ],
      "outputs": [],
      "metadata": {}
    },
    {
      "cell_type": "code",
      "execution_count": 94,
      "source": [
        "from sklearn.metrics import confusion_matrix\r\n",
        "from sklearn.metrics import accuracy_score\r\n",
        "\r\n",
        "cm = confusion_matrix(y_test, y_pred)\r\n",
        "print(cm)\r\n",
        "print('Accuracy' , accuracy_score(y_test, y_pred))"
      ],
      "outputs": [
        {
          "output_type": "stream",
          "name": "stdout",
          "text": [
            "[[  0   0   2   0   0   0]\n",
            " [  0   0   7   4   0   0]\n",
            " [  0   0 106  29   0   0]\n",
            " [  0   0  51  91   0   0]\n",
            " [  0   0   3  24   0   0]\n",
            " [  0   0   0   3   0   0]]\n",
            "Accuracy 0.615625\n"
          ]
        }
      ],
      "metadata": {}
    },
    {
      "cell_type": "code",
      "execution_count": 95,
      "source": [
        "pcaframe = pd.DataFrame({'Actual': y_test, 'Predicted': y_pred})\r\n",
        "pcaframe.head()"
      ],
      "outputs": [
        {
          "output_type": "execute_result",
          "data": {
            "text/html": [
              "<div>\n",
              "<style scoped>\n",
              "    .dataframe tbody tr th:only-of-type {\n",
              "        vertical-align: middle;\n",
              "    }\n",
              "\n",
              "    .dataframe tbody tr th {\n",
              "        vertical-align: top;\n",
              "    }\n",
              "\n",
              "    .dataframe thead th {\n",
              "        text-align: right;\n",
              "    }\n",
              "</style>\n",
              "<table border=\"1\" class=\"dataframe\">\n",
              "  <thead>\n",
              "    <tr style=\"text-align: right;\">\n",
              "      <th></th>\n",
              "      <th>Actual</th>\n",
              "      <th>Predicted</th>\n",
              "    </tr>\n",
              "  </thead>\n",
              "  <tbody>\n",
              "    <tr>\n",
              "      <th>1109</th>\n",
              "      <td>6</td>\n",
              "      <td>5</td>\n",
              "    </tr>\n",
              "    <tr>\n",
              "      <th>1032</th>\n",
              "      <td>5</td>\n",
              "      <td>5</td>\n",
              "    </tr>\n",
              "    <tr>\n",
              "      <th>1002</th>\n",
              "      <td>7</td>\n",
              "      <td>6</td>\n",
              "    </tr>\n",
              "    <tr>\n",
              "      <th>487</th>\n",
              "      <td>6</td>\n",
              "      <td>5</td>\n",
              "    </tr>\n",
              "    <tr>\n",
              "      <th>979</th>\n",
              "      <td>5</td>\n",
              "      <td>5</td>\n",
              "    </tr>\n",
              "  </tbody>\n",
              "</table>\n",
              "</div>"
            ],
            "text/plain": [
              "      Actual  Predicted\n",
              "1109       6          5\n",
              "1032       5          5\n",
              "1002       7          6\n",
              "487        6          5\n",
              "979        5          5"
            ]
          },
          "metadata": {},
          "execution_count": 95
        }
      ],
      "metadata": {}
    },
    {
      "cell_type": "code",
      "execution_count": 96,
      "source": [
        "y_pred = regressor.predict(X_test)\r\n",
        "\r\n",
        "print('Mean Absolute Error:', metrics.mean_absolute_error(y_test, y_pred))  \r\n",
        "print('Mean Squared Error:', metrics.mean_squared_error(y_test, y_pred))  \r\n",
        "print('Root Mean Squared Error:', np.sqrt(metrics.mean_squared_error(y_test, y_pred)))\r\n"
      ],
      "outputs": [
        {
          "output_type": "stream",
          "name": "stdout",
          "text": [
            "Mean Absolute Error: 3.1445820250460033\n",
            "Mean Squared Error: 13.940344257824302\n",
            "Root Mean Squared Error: 3.733677042517778\n"
          ]
        }
      ],
      "metadata": {}
    }
  ]
}