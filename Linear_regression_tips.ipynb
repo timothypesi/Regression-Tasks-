{
  "nbformat": 4,
  "nbformat_minor": 2,
  "metadata": {
    "colab": {
      "name": "Linear regression tips.ipynb",
      "provenance": [],
      "collapsed_sections": [],
      "toc_visible": true
    },
    "kernelspec": {
      "name": "python3",
      "display_name": "Python 3.8.5 64-bit ('base': conda)"
    },
    "language_info": {
      "name": "python",
      "version": "3.8.5",
      "mimetype": "text/x-python",
      "codemirror_mode": {
        "name": "ipython",
        "version": 3
      },
      "pygments_lexer": "ipython3",
      "nbconvert_exporter": "python",
      "file_extension": ".py"
    },
    "interpreter": {
      "hash": "8e24f623c9d976e65e43b538ecbbc4d478524c94015e92b14b460358aba5245a"
    }
  },
  "cells": [
    {
      "cell_type": "markdown",
      "source": [
        "# Example: Detecting multicollinearity\n",
        "\n",
        "We will once again use our university admission [dataset](https://drive.google.com/file/d/13HPgfc4HP9UP-gHM2lutJ7MXSt-dAL1d/view)\n",
        "\n",
        "First, let's understand how our independent variables are correlated to each other"
      ],
      "metadata": {
        "id": "oxXI2w6xSCxt"
      }
    },
    {
      "cell_type": "code",
      "execution_count": 1,
      "source": [
        "import numpy as np\r\n",
        "import pandas as pd\r\n",
        "\r\n",
        "# Load the dataset\r\n",
        "data = pd.read_csv('data/uni_admission.csv')\r\n",
        "\r\n",
        "# Remove the serial and admit chance columns, we want to focus on our independent variables only.\r\n",
        "independent_only = data.drop(columns=['Serial No.', 'admit_chance'])\r\n",
        "\r\n",
        "# Let's display the correlations between the variables\r\n",
        "correlations = independent_only.corr()\r\n",
        "\r\n",
        "correlations"
      ],
      "outputs": [
        {
          "output_type": "execute_result",
          "data": {
            "text/html": [
              "<div>\n",
              "<style scoped>\n",
              "    .dataframe tbody tr th:only-of-type {\n",
              "        vertical-align: middle;\n",
              "    }\n",
              "\n",
              "    .dataframe tbody tr th {\n",
              "        vertical-align: top;\n",
              "    }\n",
              "\n",
              "    .dataframe thead th {\n",
              "        text-align: right;\n",
              "    }\n",
              "</style>\n",
              "<table border=\"1\" class=\"dataframe\">\n",
              "  <thead>\n",
              "    <tr style=\"text-align: right;\">\n",
              "      <th></th>\n",
              "      <th>GRE</th>\n",
              "      <th>TOEFL</th>\n",
              "      <th>uni_rating</th>\n",
              "      <th>SOP</th>\n",
              "      <th>LOR</th>\n",
              "      <th>CGPA</th>\n",
              "      <th>publications</th>\n",
              "    </tr>\n",
              "  </thead>\n",
              "  <tbody>\n",
              "    <tr>\n",
              "      <th>GRE</th>\n",
              "      <td>1.000000</td>\n",
              "      <td>0.827200</td>\n",
              "      <td>0.635376</td>\n",
              "      <td>0.613498</td>\n",
              "      <td>0.524679</td>\n",
              "      <td>0.825878</td>\n",
              "      <td>0.563398</td>\n",
              "    </tr>\n",
              "    <tr>\n",
              "      <th>TOEFL</th>\n",
              "      <td>0.827200</td>\n",
              "      <td>1.000000</td>\n",
              "      <td>0.649799</td>\n",
              "      <td>0.644410</td>\n",
              "      <td>0.541563</td>\n",
              "      <td>0.810574</td>\n",
              "      <td>0.467012</td>\n",
              "    </tr>\n",
              "    <tr>\n",
              "      <th>uni_rating</th>\n",
              "      <td>0.635376</td>\n",
              "      <td>0.649799</td>\n",
              "      <td>1.000000</td>\n",
              "      <td>0.728024</td>\n",
              "      <td>0.608651</td>\n",
              "      <td>0.705254</td>\n",
              "      <td>0.427047</td>\n",
              "    </tr>\n",
              "    <tr>\n",
              "      <th>SOP</th>\n",
              "      <td>0.613498</td>\n",
              "      <td>0.644410</td>\n",
              "      <td>0.728024</td>\n",
              "      <td>1.000000</td>\n",
              "      <td>0.663707</td>\n",
              "      <td>0.712154</td>\n",
              "      <td>0.408116</td>\n",
              "    </tr>\n",
              "    <tr>\n",
              "      <th>LOR</th>\n",
              "      <td>0.524679</td>\n",
              "      <td>0.541563</td>\n",
              "      <td>0.608651</td>\n",
              "      <td>0.663707</td>\n",
              "      <td>1.000000</td>\n",
              "      <td>0.637469</td>\n",
              "      <td>0.372526</td>\n",
              "    </tr>\n",
              "    <tr>\n",
              "      <th>CGPA</th>\n",
              "      <td>0.825878</td>\n",
              "      <td>0.810574</td>\n",
              "      <td>0.705254</td>\n",
              "      <td>0.712154</td>\n",
              "      <td>0.637469</td>\n",
              "      <td>1.000000</td>\n",
              "      <td>0.501311</td>\n",
              "    </tr>\n",
              "    <tr>\n",
              "      <th>publications</th>\n",
              "      <td>0.563398</td>\n",
              "      <td>0.467012</td>\n",
              "      <td>0.427047</td>\n",
              "      <td>0.408116</td>\n",
              "      <td>0.372526</td>\n",
              "      <td>0.501311</td>\n",
              "      <td>1.000000</td>\n",
              "    </tr>\n",
              "  </tbody>\n",
              "</table>\n",
              "</div>"
            ],
            "text/plain": [
              "                   GRE     TOEFL  uni_rating       SOP       LOR      CGPA  \\\n",
              "GRE           1.000000  0.827200    0.635376  0.613498  0.524679  0.825878   \n",
              "TOEFL         0.827200  1.000000    0.649799  0.644410  0.541563  0.810574   \n",
              "uni_rating    0.635376  0.649799    1.000000  0.728024  0.608651  0.705254   \n",
              "SOP           0.613498  0.644410    0.728024  1.000000  0.663707  0.712154   \n",
              "LOR           0.524679  0.541563    0.608651  0.663707  1.000000  0.637469   \n",
              "CGPA          0.825878  0.810574    0.705254  0.712154  0.637469  1.000000   \n",
              "publications  0.563398  0.467012    0.427047  0.408116  0.372526  0.501311   \n",
              "\n",
              "              publications  \n",
              "GRE               0.563398  \n",
              "TOEFL             0.467012  \n",
              "uni_rating        0.427047  \n",
              "SOP               0.408116  \n",
              "LOR               0.372526  \n",
              "CGPA              0.501311  \n",
              "publications      1.000000  "
            ]
          },
          "metadata": {},
          "execution_count": 1
        }
      ],
      "metadata": {
        "id": "3myU4PcKSB9V",
        "colab": {
          "base_uri": "https://localhost:8080/",
          "height": 254
        },
        "outputId": "e9e4a86f-0d5c-4904-c849-4e5f974f8dc3"
      }
    },
    {
      "cell_type": "code",
      "execution_count": 19,
      "source": [
        "data.describe()"
      ],
      "outputs": [
        {
          "output_type": "execute_result",
          "data": {
            "text/html": [
              "<div>\n",
              "<style scoped>\n",
              "    .dataframe tbody tr th:only-of-type {\n",
              "        vertical-align: middle;\n",
              "    }\n",
              "\n",
              "    .dataframe tbody tr th {\n",
              "        vertical-align: top;\n",
              "    }\n",
              "\n",
              "    .dataframe thead th {\n",
              "        text-align: right;\n",
              "    }\n",
              "</style>\n",
              "<table border=\"1\" class=\"dataframe\">\n",
              "  <thead>\n",
              "    <tr style=\"text-align: right;\">\n",
              "      <th></th>\n",
              "      <th>Serial No.</th>\n",
              "      <th>GRE</th>\n",
              "      <th>TOEFL</th>\n",
              "      <th>uni_rating</th>\n",
              "      <th>SOP</th>\n",
              "      <th>LOR</th>\n",
              "      <th>CGPA</th>\n",
              "      <th>publications</th>\n",
              "      <th>admit_chance</th>\n",
              "    </tr>\n",
              "  </thead>\n",
              "  <tbody>\n",
              "    <tr>\n",
              "      <th>count</th>\n",
              "      <td>500.000000</td>\n",
              "      <td>500.000000</td>\n",
              "      <td>500.000000</td>\n",
              "      <td>500.000000</td>\n",
              "      <td>500.000000</td>\n",
              "      <td>500.00000</td>\n",
              "      <td>500.000000</td>\n",
              "      <td>500.000000</td>\n",
              "      <td>500.00000</td>\n",
              "    </tr>\n",
              "    <tr>\n",
              "      <th>mean</th>\n",
              "      <td>250.500000</td>\n",
              "      <td>316.472000</td>\n",
              "      <td>107.192000</td>\n",
              "      <td>3.114000</td>\n",
              "      <td>3.374000</td>\n",
              "      <td>3.48400</td>\n",
              "      <td>8.576440</td>\n",
              "      <td>0.560000</td>\n",
              "      <td>0.72174</td>\n",
              "    </tr>\n",
              "    <tr>\n",
              "      <th>std</th>\n",
              "      <td>144.481833</td>\n",
              "      <td>11.295148</td>\n",
              "      <td>6.081868</td>\n",
              "      <td>1.143512</td>\n",
              "      <td>0.991004</td>\n",
              "      <td>0.92545</td>\n",
              "      <td>0.604813</td>\n",
              "      <td>0.496884</td>\n",
              "      <td>0.14114</td>\n",
              "    </tr>\n",
              "    <tr>\n",
              "      <th>min</th>\n",
              "      <td>1.000000</td>\n",
              "      <td>290.000000</td>\n",
              "      <td>92.000000</td>\n",
              "      <td>1.000000</td>\n",
              "      <td>1.000000</td>\n",
              "      <td>1.00000</td>\n",
              "      <td>6.800000</td>\n",
              "      <td>0.000000</td>\n",
              "      <td>0.34000</td>\n",
              "    </tr>\n",
              "    <tr>\n",
              "      <th>25%</th>\n",
              "      <td>125.750000</td>\n",
              "      <td>308.000000</td>\n",
              "      <td>103.000000</td>\n",
              "      <td>2.000000</td>\n",
              "      <td>2.500000</td>\n",
              "      <td>3.00000</td>\n",
              "      <td>8.127500</td>\n",
              "      <td>0.000000</td>\n",
              "      <td>0.63000</td>\n",
              "    </tr>\n",
              "    <tr>\n",
              "      <th>50%</th>\n",
              "      <td>250.500000</td>\n",
              "      <td>317.000000</td>\n",
              "      <td>107.000000</td>\n",
              "      <td>3.000000</td>\n",
              "      <td>3.500000</td>\n",
              "      <td>3.50000</td>\n",
              "      <td>8.560000</td>\n",
              "      <td>1.000000</td>\n",
              "      <td>0.72000</td>\n",
              "    </tr>\n",
              "    <tr>\n",
              "      <th>75%</th>\n",
              "      <td>375.250000</td>\n",
              "      <td>325.000000</td>\n",
              "      <td>112.000000</td>\n",
              "      <td>4.000000</td>\n",
              "      <td>4.000000</td>\n",
              "      <td>4.00000</td>\n",
              "      <td>9.040000</td>\n",
              "      <td>1.000000</td>\n",
              "      <td>0.82000</td>\n",
              "    </tr>\n",
              "    <tr>\n",
              "      <th>max</th>\n",
              "      <td>500.000000</td>\n",
              "      <td>340.000000</td>\n",
              "      <td>120.000000</td>\n",
              "      <td>5.000000</td>\n",
              "      <td>5.000000</td>\n",
              "      <td>5.00000</td>\n",
              "      <td>9.920000</td>\n",
              "      <td>1.000000</td>\n",
              "      <td>0.97000</td>\n",
              "    </tr>\n",
              "  </tbody>\n",
              "</table>\n",
              "</div>"
            ],
            "text/plain": [
              "       Serial No.         GRE       TOEFL  uni_rating         SOP        LOR  \\\n",
              "count  500.000000  500.000000  500.000000  500.000000  500.000000  500.00000   \n",
              "mean   250.500000  316.472000  107.192000    3.114000    3.374000    3.48400   \n",
              "std    144.481833   11.295148    6.081868    1.143512    0.991004    0.92545   \n",
              "min      1.000000  290.000000   92.000000    1.000000    1.000000    1.00000   \n",
              "25%    125.750000  308.000000  103.000000    2.000000    2.500000    3.00000   \n",
              "50%    250.500000  317.000000  107.000000    3.000000    3.500000    3.50000   \n",
              "75%    375.250000  325.000000  112.000000    4.000000    4.000000    4.00000   \n",
              "max    500.000000  340.000000  120.000000    5.000000    5.000000    5.00000   \n",
              "\n",
              "             CGPA  publications  admit_chance  \n",
              "count  500.000000    500.000000     500.00000  \n",
              "mean     8.576440      0.560000       0.72174  \n",
              "std      0.604813      0.496884       0.14114  \n",
              "min      6.800000      0.000000       0.34000  \n",
              "25%      8.127500      0.000000       0.63000  \n",
              "50%      8.560000      1.000000       0.72000  \n",
              "75%      9.040000      1.000000       0.82000  \n",
              "max      9.920000      1.000000       0.97000  "
            ]
          },
          "metadata": {},
          "execution_count": 19
        }
      ],
      "metadata": {}
    },
    {
      "cell_type": "markdown",
      "source": [
        "The tabe above shows us how each variable relates to another. The coefficient of 1 across the diagonal makes sense, as a variable is perfectly correlated to itself. Let's use these correlations to compute the VIF score for each variable. This will require a little bit of linear algebra, but the approach is straightforward: we create a new dataframe with the *inverse* of the matrix above."
      ],
      "metadata": {
        "id": "l3mXiNPXcMeF"
      }
    },
    {
      "cell_type": "code",
      "execution_count": 2,
      "source": [
        "pd.DataFrame(np.linalg.inv(correlations.values), index = correlations.index, columns=correlations.columns)\r\n"
      ],
      "outputs": [
        {
          "output_type": "execute_result",
          "data": {
            "text/html": [
              "<div>\n",
              "<style scoped>\n",
              "    .dataframe tbody tr th:only-of-type {\n",
              "        vertical-align: middle;\n",
              "    }\n",
              "\n",
              "    .dataframe tbody tr th {\n",
              "        vertical-align: top;\n",
              "    }\n",
              "\n",
              "    .dataframe thead th {\n",
              "        text-align: right;\n",
              "    }\n",
              "</style>\n",
              "<table border=\"1\" class=\"dataframe\">\n",
              "  <thead>\n",
              "    <tr style=\"text-align: right;\">\n",
              "      <th></th>\n",
              "      <th>GRE</th>\n",
              "      <th>TOEFL</th>\n",
              "      <th>uni_rating</th>\n",
              "      <th>SOP</th>\n",
              "      <th>LOR</th>\n",
              "      <th>CGPA</th>\n",
              "      <th>publications</th>\n",
              "    </tr>\n",
              "  </thead>\n",
              "  <tbody>\n",
              "    <tr>\n",
              "      <th>GRE</th>\n",
              "      <td>4.464249</td>\n",
              "      <td>-1.919309</td>\n",
              "      <td>-0.167441</td>\n",
              "      <td>0.115539</td>\n",
              "      <td>0.163716</td>\n",
              "      <td>-1.829666</td>\n",
              "      <td>-0.738214</td>\n",
              "    </tr>\n",
              "    <tr>\n",
              "      <th>TOEFL</th>\n",
              "      <td>-1.919309</td>\n",
              "      <td>3.904213</td>\n",
              "      <td>-0.280590</td>\n",
              "      <td>-0.320530</td>\n",
              "      <td>0.008925</td>\n",
              "      <td>-1.216918</td>\n",
              "      <td>0.115389</td>\n",
              "    </tr>\n",
              "    <tr>\n",
              "      <th>uni_rating</th>\n",
              "      <td>-0.167441</td>\n",
              "      <td>-0.280590</td>\n",
              "      <td>2.621036</td>\n",
              "      <td>-1.003439</td>\n",
              "      <td>-0.326820</td>\n",
              "      <td>-0.504916</td>\n",
              "      <td>-0.109544</td>\n",
              "    </tr>\n",
              "    <tr>\n",
              "      <th>SOP</th>\n",
              "      <td>0.115539</td>\n",
              "      <td>-0.320530</td>\n",
              "      <td>-1.003439</td>\n",
              "      <td>2.835210</td>\n",
              "      <td>-0.715324</td>\n",
              "      <td>-0.670228</td>\n",
              "      <td>-0.041512</td>\n",
              "    </tr>\n",
              "    <tr>\n",
              "      <th>LOR</th>\n",
              "      <td>0.163716</td>\n",
              "      <td>0.008925</td>\n",
              "      <td>-0.326820</td>\n",
              "      <td>-0.715324</td>\n",
              "      <td>2.033555</td>\n",
              "      <td>-0.650578</td>\n",
              "      <td>-0.096312</td>\n",
              "    </tr>\n",
              "    <tr>\n",
              "      <th>CGPA</th>\n",
              "      <td>-1.829666</td>\n",
              "      <td>-1.216918</td>\n",
              "      <td>-0.504916</td>\n",
              "      <td>-0.670228</td>\n",
              "      <td>-0.650578</td>\n",
              "      <td>4.777992</td>\n",
              "      <td>-0.064604</td>\n",
              "    </tr>\n",
              "    <tr>\n",
              "      <th>publications</th>\n",
              "      <td>-0.738214</td>\n",
              "      <td>0.115389</td>\n",
              "      <td>-0.109544</td>\n",
              "      <td>-0.041512</td>\n",
              "      <td>-0.096312</td>\n",
              "      <td>-0.064604</td>\n",
              "      <td>1.494008</td>\n",
              "    </tr>\n",
              "  </tbody>\n",
              "</table>\n",
              "</div>"
            ],
            "text/plain": [
              "                   GRE     TOEFL  uni_rating       SOP       LOR      CGPA  \\\n",
              "GRE           4.464249 -1.919309   -0.167441  0.115539  0.163716 -1.829666   \n",
              "TOEFL        -1.919309  3.904213   -0.280590 -0.320530  0.008925 -1.216918   \n",
              "uni_rating   -0.167441 -0.280590    2.621036 -1.003439 -0.326820 -0.504916   \n",
              "SOP           0.115539 -0.320530   -1.003439  2.835210 -0.715324 -0.670228   \n",
              "LOR           0.163716  0.008925   -0.326820 -0.715324  2.033555 -0.650578   \n",
              "CGPA         -1.829666 -1.216918   -0.504916 -0.670228 -0.650578  4.777992   \n",
              "publications -0.738214  0.115389   -0.109544 -0.041512 -0.096312 -0.064604   \n",
              "\n",
              "              publications  \n",
              "GRE              -0.738214  \n",
              "TOEFL             0.115389  \n",
              "uni_rating       -0.109544  \n",
              "SOP              -0.041512  \n",
              "LOR              -0.096312  \n",
              "CGPA             -0.064604  \n",
              "publications      1.494008  "
            ]
          },
          "metadata": {},
          "execution_count": 2
        }
      ],
      "metadata": {
        "id": "Q_L2Glx4UJjW",
        "colab": {
          "base_uri": "https://localhost:8080/",
          "height": 254
        },
        "outputId": "d10406df-158c-485c-bec7-3e20b4f9724f"
      }
    },
    {
      "cell_type": "markdown",
      "source": [
        "Interpreting the table is straightforward: The VIF score for each variable is found alongside the downwards sloping diagonal. GRE has a score of 4.46, TOEFL has a score of 3.9, uni_rating a score of 2.62, etc.\n",
        "\n",
        "CGPA has a value nearing 5, let's see how the VIF scores improve if we remove it from our dataset"
      ],
      "metadata": {
        "id": "jTBZHScKc5yh"
      }
    },
    {
      "cell_type": "code",
      "execution_count": 9,
      "source": [
        "revised = independent_only.drop(columns=['CGPA','TOEFL'])\r\n",
        "\r\n",
        "correlations = revised.corr()\r\n",
        "pd.DataFrame(np.linalg.inv(correlations.values), index = correlations.index, columns=correlations.columns)\r\n",
        "\r\n"
      ],
      "outputs": [
        {
          "output_type": "execute_result",
          "data": {
            "text/html": [
              "<div>\n",
              "<style scoped>\n",
              "    .dataframe tbody tr th:only-of-type {\n",
              "        vertical-align: middle;\n",
              "    }\n",
              "\n",
              "    .dataframe tbody tr th {\n",
              "        vertical-align: top;\n",
              "    }\n",
              "\n",
              "    .dataframe thead th {\n",
              "        text-align: right;\n",
              "    }\n",
              "</style>\n",
              "<table border=\"1\" class=\"dataframe\">\n",
              "  <thead>\n",
              "    <tr style=\"text-align: right;\">\n",
              "      <th></th>\n",
              "      <th>GRE</th>\n",
              "      <th>uni_rating</th>\n",
              "      <th>SOP</th>\n",
              "      <th>LOR</th>\n",
              "      <th>publications</th>\n",
              "    </tr>\n",
              "  </thead>\n",
              "  <tbody>\n",
              "    <tr>\n",
              "      <th>GRE</th>\n",
              "      <td>2.180611</td>\n",
              "      <td>-0.632346</td>\n",
              "      <td>-0.467117</td>\n",
              "      <td>-0.189454</td>\n",
              "      <td>-0.697296</td>\n",
              "    </tr>\n",
              "    <tr>\n",
              "      <th>uni_rating</th>\n",
              "      <td>-0.632346</td>\n",
              "      <td>2.521095</td>\n",
              "      <td>-1.130190</td>\n",
              "      <td>-0.413417</td>\n",
              "      <td>-0.105108</td>\n",
              "    </tr>\n",
              "    <tr>\n",
              "      <th>SOP</th>\n",
              "      <td>-0.467117</td>\n",
              "      <td>-1.130190</td>\n",
              "      <td>2.674058</td>\n",
              "      <td>-0.828010</td>\n",
              "      <td>-0.037053</td>\n",
              "    </tr>\n",
              "    <tr>\n",
              "      <th>LOR</th>\n",
              "      <td>-0.189454</td>\n",
              "      <td>-0.413417</td>\n",
              "      <td>-0.828010</td>\n",
              "      <td>1.938133</td>\n",
              "      <td>-0.100793</td>\n",
              "    </tr>\n",
              "    <tr>\n",
              "      <th>publications</th>\n",
              "      <td>-0.697296</td>\n",
              "      <td>-0.105108</td>\n",
              "      <td>-0.037053</td>\n",
              "      <td>-0.100793</td>\n",
              "      <td>1.490411</td>\n",
              "    </tr>\n",
              "  </tbody>\n",
              "</table>\n",
              "</div>"
            ],
            "text/plain": [
              "                   GRE  uni_rating       SOP       LOR  publications\n",
              "GRE           2.180611   -0.632346 -0.467117 -0.189454     -0.697296\n",
              "uni_rating   -0.632346    2.521095 -1.130190 -0.413417     -0.105108\n",
              "SOP          -0.467117   -1.130190  2.674058 -0.828010     -0.037053\n",
              "LOR          -0.189454   -0.413417 -0.828010  1.938133     -0.100793\n",
              "publications -0.697296   -0.105108 -0.037053 -0.100793      1.490411"
            ]
          },
          "metadata": {},
          "execution_count": 9
        }
      ],
      "metadata": {
        "id": "8ODEkFCQaG94",
        "colab": {
          "base_uri": "https://localhost:8080/",
          "height": 225
        },
        "outputId": "f466f621-3d40-45cc-f2d5-4a7711251640"
      }
    },
    {
      "cell_type": "markdown",
      "source": [
        "## Using VIF in other ways to determin weight of variables "
      ],
      "metadata": {}
    },
    {
      "cell_type": "code",
      "execution_count": 27,
      "source": [
        "#Let me do it using the VIF function\r\n",
        "from statsmodels.stats.outliers_influence import variance_inflation_factor\r\n",
        "X=data.drop(columns=['Serial No.', 'admit_chance'])\r\n",
        "vif = pd.DataFrame()\r\n",
        "vif[\"features\"] = X.columns\r\n",
        "vif[\"vif_Factor\"] = [variance_inflation_factor(X.values, i) for i in range(X.shape[1])]\r\n",
        "print(vif)"
      ],
      "outputs": [
        {
          "output_type": "stream",
          "name": "stdout",
          "text": [
            "       features   vif_Factor\n",
            "0           GRE  1308.061089\n",
            "1         TOEFL  1215.951898\n",
            "2    uni_rating    20.933361\n",
            "3           SOP    35.265006\n",
            "4           LOR    30.911476\n",
            "5          CGPA   950.817985\n",
            "6  publications     2.869493\n"
          ]
        }
      ],
      "metadata": {}
    },
    {
      "cell_type": "code",
      "execution_count": 28,
      "source": [
        "cols = list(vif['features'])\r\n",
        "cols"
      ],
      "outputs": [
        {
          "output_type": "execute_result",
          "data": {
            "text/plain": [
              "['GRE', 'TOEFL', 'uni_rating', 'SOP', 'LOR', 'CGPA', 'publications']"
            ]
          },
          "metadata": {},
          "execution_count": 28
        }
      ],
      "metadata": {}
    },
    {
      "cell_type": "code",
      "execution_count": 34,
      "source": [
        "data.head()"
      ],
      "outputs": [
        {
          "output_type": "execute_result",
          "data": {
            "text/html": [
              "<div>\n",
              "<style scoped>\n",
              "    .dataframe tbody tr th:only-of-type {\n",
              "        vertical-align: middle;\n",
              "    }\n",
              "\n",
              "    .dataframe tbody tr th {\n",
              "        vertical-align: top;\n",
              "    }\n",
              "\n",
              "    .dataframe thead th {\n",
              "        text-align: right;\n",
              "    }\n",
              "</style>\n",
              "<table border=\"1\" class=\"dataframe\">\n",
              "  <thead>\n",
              "    <tr style=\"text-align: right;\">\n",
              "      <th></th>\n",
              "      <th>Serial No.</th>\n",
              "      <th>GRE</th>\n",
              "      <th>TOEFL</th>\n",
              "      <th>uni_rating</th>\n",
              "      <th>SOP</th>\n",
              "      <th>LOR</th>\n",
              "      <th>CGPA</th>\n",
              "      <th>publications</th>\n",
              "      <th>admit_chance</th>\n",
              "    </tr>\n",
              "  </thead>\n",
              "  <tbody>\n",
              "    <tr>\n",
              "      <th>0</th>\n",
              "      <td>1</td>\n",
              "      <td>337</td>\n",
              "      <td>118</td>\n",
              "      <td>4</td>\n",
              "      <td>4.5</td>\n",
              "      <td>4.5</td>\n",
              "      <td>9.65</td>\n",
              "      <td>1</td>\n",
              "      <td>0.92</td>\n",
              "    </tr>\n",
              "    <tr>\n",
              "      <th>1</th>\n",
              "      <td>2</td>\n",
              "      <td>324</td>\n",
              "      <td>107</td>\n",
              "      <td>4</td>\n",
              "      <td>4.0</td>\n",
              "      <td>4.5</td>\n",
              "      <td>8.87</td>\n",
              "      <td>1</td>\n",
              "      <td>0.76</td>\n",
              "    </tr>\n",
              "    <tr>\n",
              "      <th>2</th>\n",
              "      <td>3</td>\n",
              "      <td>316</td>\n",
              "      <td>104</td>\n",
              "      <td>3</td>\n",
              "      <td>3.0</td>\n",
              "      <td>3.5</td>\n",
              "      <td>8.00</td>\n",
              "      <td>1</td>\n",
              "      <td>0.72</td>\n",
              "    </tr>\n",
              "    <tr>\n",
              "      <th>3</th>\n",
              "      <td>4</td>\n",
              "      <td>322</td>\n",
              "      <td>110</td>\n",
              "      <td>3</td>\n",
              "      <td>3.5</td>\n",
              "      <td>2.5</td>\n",
              "      <td>8.67</td>\n",
              "      <td>1</td>\n",
              "      <td>0.80</td>\n",
              "    </tr>\n",
              "    <tr>\n",
              "      <th>4</th>\n",
              "      <td>5</td>\n",
              "      <td>314</td>\n",
              "      <td>103</td>\n",
              "      <td>2</td>\n",
              "      <td>2.0</td>\n",
              "      <td>3.0</td>\n",
              "      <td>8.21</td>\n",
              "      <td>0</td>\n",
              "      <td>0.65</td>\n",
              "    </tr>\n",
              "  </tbody>\n",
              "</table>\n",
              "</div>"
            ],
            "text/plain": [
              "   Serial No.  GRE  TOEFL  uni_rating  SOP  LOR  CGPA  publications  \\\n",
              "0           1  337    118           4  4.5  4.5  9.65             1   \n",
              "1           2  324    107           4  4.0  4.5  8.87             1   \n",
              "2           3  316    104           3  3.0  3.5  8.00             1   \n",
              "3           4  322    110           3  3.5  2.5  8.67             1   \n",
              "4           5  314    103           2  2.0  3.0  8.21             0   \n",
              "\n",
              "   admit_chance  \n",
              "0          0.92  \n",
              "1          0.76  \n",
              "2          0.72  \n",
              "3          0.80  \n",
              "4          0.65  "
            ]
          },
          "metadata": {},
          "execution_count": 34
        }
      ],
      "metadata": {}
    },
    {
      "cell_type": "code",
      "execution_count": 29,
      "source": [
        "X = data[cols]\r\n",
        "y = data['admit_chance']\r\n",
        "y"
      ],
      "outputs": [
        {
          "output_type": "execute_result",
          "data": {
            "text/plain": [
              "0      0.92\n",
              "1      0.76\n",
              "2      0.72\n",
              "3      0.80\n",
              "4      0.65\n",
              "       ... \n",
              "495    0.87\n",
              "496    0.96\n",
              "497    0.93\n",
              "498    0.73\n",
              "499    0.84\n",
              "Name: admit_chance, Length: 500, dtype: float64"
            ]
          },
          "metadata": {},
          "execution_count": 29
        }
      ],
      "metadata": {}
    },
    {
      "cell_type": "code",
      "execution_count": 30,
      "source": [
        "# Train using 80% of the data.\r\n",
        "from sklearn.model_selection import train_test_split\r\n",
        "from sklearn.linear_model import LinearRegression\r\n",
        "X_train, X_test, y_train, y_test = train_test_split(X, y, test_size=0.2, random_state=0)\r\n",
        "\r\n",
        "# find optimal coefficients and intercept\r\n",
        "regressor = LinearRegression()  \r\n",
        "regressor.fit(X_train, y_train)\r\n"
      ],
      "outputs": [
        {
          "output_type": "execute_result",
          "data": {
            "text/plain": [
              "LinearRegression()"
            ]
          },
          "metadata": {},
          "execution_count": 30
        }
      ],
      "metadata": {}
    },
    {
      "cell_type": "code",
      "execution_count": 31,
      "source": [
        "from sklearn import metrics\r\n",
        "\r\n",
        "y_pred = regressor.predict(X_test)\r\n",
        "\r\n",
        "print('Mean Absolute Error:', metrics.mean_absolute_error(y_test, y_pred))  \r\n",
        "print('Mean Squared Error:', metrics.mean_squared_error(y_test, y_pred))  \r\n",
        "print('Root Mean Squared Error:', np.sqrt(metrics.mean_squared_error(y_test, y_pred)))\r\n",
        "\r\n",
        "#  Gives a better RMSSE even when you dont do away with the values that have high VIF \r\n"
      ],
      "outputs": [
        {
          "output_type": "stream",
          "name": "stdout",
          "text": [
            "Mean Absolute Error: 0.048253893748654714\n",
            "Mean Squared Error: 0.004079680034602104\n",
            "Root Mean Squared Error: 0.06387237301527245\n"
          ]
        }
      ],
      "metadata": {}
    },
    {
      "cell_type": "markdown",
      "source": [
        "All scores dropped, but the GRE's in particular did quite a bit, indicating that GRE and CGPA were colinear. "
      ],
      "metadata": {
        "id": "Z95zlmBidiF5"
      }
    },
    {
      "cell_type": "markdown",
      "source": [
        "# Example 2: Residual plots and heteroskedasticity testing\r\n",
        "\r\n",
        "Let's start by creating a model based on our revised set of independent variables above, then displaying the residual plot for it."
      ],
      "metadata": {
        "id": "7DRwrZjZduD7"
      }
    },
    {
      "cell_type": "code",
      "execution_count": 39,
      "source": [
        "from sklearn import metrics\r\n",
        "from sklearn.model_selection import train_test_split\r\n",
        "from sklearn.linear_model import LinearRegression\r\n",
        "\r\n",
        "X = revised.values\r\n",
        "y = data['admit_chance'].values\r\n",
        "#print(X)\r\n",
        "\r\n",
        "X_train, X_test, admit_train, admit_test = train_test_split(X, y, test_size=0.2, random_state=0)\r\n",
        "\r\n",
        "regressor = LinearRegression()\r\n",
        "regressor.fit(X_train, admit_train)\r\n",
        "\r\n",
        "# This is our prediction for admission based on our model\r\n",
        "admit_predict = regressor.predict(X_test)\r\n",
        "#print(admit_predict)\r\n",
        "\r\n",
        "# We now create the residual by substracting the test value from the predicted \r\n",
        "# value for each row in our dataset\r\n",
        "\r\n",
        "residuals = np.subtract(admit_predict, admit_test)\r\n",
        "\r\n",
        "# Let's describe our residual:\r\n",
        "pd.DataFrame(residuals).describe()\r\n",
        "\r\n",
        "residuals.mean()\r\n",
        "#print(residuals)\r\n",
        "print(residuals.mean())\r\n"
      ],
      "outputs": [
        {
          "output_type": "stream",
          "name": "stdout",
          "text": [
            "-0.004327928908138407\n"
          ]
        }
      ],
      "metadata": {
        "id": "IHQOLs1Nh2bx",
        "colab": {
          "base_uri": "https://localhost:8080/",
          "height": 34
        },
        "outputId": "45772409-dfe6-43f8-d545-04500fb8d13a"
      }
    },
    {
      "cell_type": "markdown",
      "source": [
        "Before we interpret the description above, let's recall what we are trying to predict: The percentage chance of admission to university. This means values between 0 and 1. \n",
        "\n",
        "Our min and max for the residual are fairly high: they suggest we've been up to 26% off target. It's important for us to plot this first: Is this a common occurence, or a few outliers?\n",
        "\n",
        "Our mean on the other hand is close to 0, indicating that we tend to be fairly correct, although slightly over estimating chances by, on average, 0.17%\n",
        "\n",
        "Let's show the residual plot"
      ],
      "metadata": {
        "id": "wevY_SU-j7gH"
      }
    },
    {
      "cell_type": "code",
      "execution_count": 40,
      "source": [
        "import matplotlib.pyplot as plt\r\n",
        "\r\n",
        "plt.scatter(admit_predict, residuals, color='black')\r\n",
        "plt.ylabel('residual')\r\n",
        "plt.xlabel('fitted values')\r\n",
        "plt.axhline(y= residuals.mean(), color='red', linewidth=1)\r\n",
        "plt.show()"
      ],
      "outputs": [
        {
          "output_type": "display_data",
          "data": {
            "image/png": "[encoded data removed]",
            "text/plain": [
              "<Figure size 432x288 with 1 Axes>"
            ]
          },
          "metadata": {
            "needs_background": "light"
          }
        }
      ],
      "metadata": {
        "id": "sn8crVSAlPIw",
        "colab": {
          "base_uri": "https://localhost:8080/",
          "height": 283
        },
        "outputId": "d81c4196-3cf4-476d-c403-7cdeabdf975d"
      }
    },
    {
      "cell_type": "markdown",
      "source": [
        "This does not look too bad: our residuals are centered around a mean that is very close to 0, and there are no glaringly obvious patterns. Let's be thorough though, and perform a heteroskedasticity test.\n",
        "\n",
        "For this we will use [bartlett's test](https://www.itl.nist.gov/div898/handbook/eda/section3/eda357.htm). The test establishes as a null hypothesis that the variance is equal for all our datapoints,and the new hypothesis that the variance is different for at least one pair of datapoints.\n"
      ],
      "metadata": {
        "id": "oIT6DpvlmqaD"
      }
    },
    {
      "cell_type": "code",
      "execution_count": 42,
      "source": [
        "import scipy as sp\r\n",
        "\r\n",
        "test_result, p_value = sp.stats.bartlett(admit_predict, residuals)\r\n",
        "\r\n",
        "# To interpret the results we must also compute a critical value of the chi squared distribution\r\n",
        "degree_of_freedom = len(admit_predict)-1\r\n",
        "probability = 1 - p_value\r\n",
        "\r\n",
        "critical_value = sp.stats.chi2.ppf(probability, degree_of_freedom)\r\n",
        "print(critical_value )\r\n",
        "\r\n",
        "# If the test_result is greater than the critical value, then we reject our null\r\n",
        "# hypothesis. This would mean that there are patterns to the variance of the data\r\n",
        "\r\n",
        "# Otherwise, we can identify no patterns, and we accept the null hypothesis that \r\n",
        "# the variance is homogeneous across our data\r\n",
        "\r\n",
        "if (test_result > critical_value):\r\n",
        "  print('the variances are unequal, and the model should be reassessed')\r\n",
        "else:\r\n",
        "  print('the variances are homogeneous!')\r\n",
        "\r\n"
      ],
      "outputs": [
        {
          "output_type": "stream",
          "name": "stdout",
          "text": [
            "179.79090295708536\n",
            "the variances are homogeneous!\n"
          ]
        }
      ],
      "metadata": {
        "id": "LlvHQ6Ivm5j5",
        "colab": {
          "base_uri": "https://localhost:8080/",
          "height": 50
        },
        "outputId": "ac5d7635-1ab7-43d9-a0ae-093fdb218019"
      }
    },
    {
      "cell_type": "markdown",
      "source": [
        "# Challenge\n",
        "\n",
        "We will bring this all together by adapting a challenge from data.world. In the code section below you have access to a large dataset with demographic and medical data for cancer occurances in regions in the US. Your aim is to build a model that predicts the **target_deathrate** variable. You can find descriptions of all the columns [here](https://data.world/exercises/linear-regression-exercise-1)\n",
        "\n",
        "This is a holistic challenge:\n",
        "\n",
        "\n",
        "*   Make sure to clean up your data first, there are some missing elements.\n",
        "*   Some data should be changed: Add a **state** column which indicates the state a person lives in(you can modify the geography column). Perform a multicollinearity test: Should **state** be included in your model or not?\n",
        "* If it should be, make sure to transform it since we want to be dealing with numerical data.\n",
        "* Build a model, then display the residual plot for it. Perform a Bartlett test to determine if your model is acceptable or not.\n",
        "\n",
        "\n",
        "\n"
      ],
      "metadata": {
        "id": "W27Z9P7Jx1yK"
      }
    },
    {
      "cell_type": "code",
      "execution_count": 103,
      "source": [
        "# Your code goes here!\r\n",
        "df = pd.read_csv('https://query.data.world/s/4n3rdrpeu6qrfo63yacah7v3ofoaag')\r\n",
        "df.info()"
      ],
      "outputs": [
        {
          "output_type": "stream",
          "name": "stdout",
          "text": [
            "<class 'pandas.core.frame.DataFrame'>\n",
            "RangeIndex: 3047 entries, 0 to 3046\n",
            "Data columns (total 33 columns):\n",
            " #   Column                   Non-Null Count  Dtype  \n",
            "---  ------                   --------------  -----  \n",
            " 0   avganncount              3047 non-null   float64\n",
            " 1   avgdeathsperyear         3047 non-null   int64  \n",
            " 2   target_deathrate         3047 non-null   float64\n",
            " 3   incidencerate            3047 non-null   float64\n",
            " 4   medincome                3047 non-null   int64  \n",
            " 5   popest2015               3047 non-null   int64  \n",
            " 6   povertypercent           3047 non-null   float64\n",
            " 7   studypercap              3047 non-null   float64\n",
            " 8   binnedinc                3047 non-null   object \n",
            " 9   medianage                3047 non-null   float64\n",
            " 10  medianagemale            3047 non-null   float64\n",
            " 11  medianagefemale          3047 non-null   float64\n",
            " 12  geography                3047 non-null   object \n",
            " 13  percentmarried           3047 non-null   float64\n",
            " 14  pctnohs18_24             3047 non-null   float64\n",
            " 15  pcths18_24               3047 non-null   float64\n",
            " 16  pctsomecol18_24          762 non-null    float64\n",
            " 17  pctbachdeg18_24          3047 non-null   float64\n",
            " 18  pcths25_over             3047 non-null   float64\n",
            " 19  pctbachdeg25_over        3047 non-null   float64\n",
            " 20  pctemployed16_over       2895 non-null   float64\n",
            " 21  pctunemployed16_over     3047 non-null   float64\n",
            " 22  pctprivatecoverage       3047 non-null   float64\n",
            " 23  pctprivatecoveragealone  2438 non-null   float64\n",
            " 24  pctempprivcoverage       3047 non-null   float64\n",
            " 25  pctpubliccoverage        3047 non-null   float64\n",
            " 26  pctpubliccoveragealone   3047 non-null   float64\n",
            " 27  pctwhite                 3047 non-null   float64\n",
            " 28  pctblack                 3047 non-null   float64\n",
            " 29  pctasian                 3047 non-null   float64\n",
            " 30  pctotherrace             3047 non-null   float64\n",
            " 31  pctmarriedhouseholds     3047 non-null   float64\n",
            " 32  birthrate                3047 non-null   float64\n",
            "dtypes: float64(28), int64(3), object(2)\n",
            "memory usage: 785.7+ KB\n"
          ]
        }
      ],
      "metadata": {
        "id": "jPivvZE_zCzY"
      }
    },
    {
      "cell_type": "code",
      "execution_count": 104,
      "source": [
        "import seaborn as sns\r\n",
        "sns.heatmap(df.isnull(), yticklabels=False,cbar=False, cmap='viridis')"
      ],
      "outputs": [
        {
          "output_type": "execute_result",
          "data": {
            "text/plain": [
              "<AxesSubplot:>"
            ]
          },
          "metadata": {},
          "execution_count": 104
        },
        {
          "output_type": "display_data",
          "data": {
            "image/png": "[encoded data removed]",
            "text/plain": [
              "<Figure size 432x288 with 1 Axes>"
            ]
          },
          "metadata": {
            "needs_background": "light"
          }
        }
      ],
      "metadata": {}
    },
    {
      "cell_type": "code",
      "execution_count": 81,
      "source": [
        "df.describe()"
      ],
      "outputs": [
        {
          "output_type": "execute_result",
          "data": {
            "text/html": [
              "<div>\n",
              "<style scoped>\n",
              "    .dataframe tbody tr th:only-of-type {\n",
              "        vertical-align: middle;\n",
              "    }\n",
              "\n",
              "    .dataframe tbody tr th {\n",
              "        vertical-align: top;\n",
              "    }\n",
              "\n",
              "    .dataframe thead th {\n",
              "        text-align: right;\n",
              "    }\n",
              "</style>\n",
              "<table border=\"1\" class=\"dataframe\">\n",
              "  <thead>\n",
              "    <tr style=\"text-align: right;\">\n",
              "      <th></th>\n",
              "      <th>avganncount</th>\n",
              "      <th>avgdeathsperyear</th>\n",
              "      <th>target_deathrate</th>\n",
              "      <th>incidencerate</th>\n",
              "      <th>medincome</th>\n",
              "      <th>popest2015</th>\n",
              "      <th>povertypercent</th>\n",
              "      <th>studypercap</th>\n",
              "      <th>medianage</th>\n",
              "      <th>medianagemale</th>\n",
              "      <th>...</th>\n",
              "      <th>pctprivatecoveragealone</th>\n",
              "      <th>pctempprivcoverage</th>\n",
              "      <th>pctpubliccoverage</th>\n",
              "      <th>pctpubliccoveragealone</th>\n",
              "      <th>pctwhite</th>\n",
              "      <th>pctblack</th>\n",
              "      <th>pctasian</th>\n",
              "      <th>pctotherrace</th>\n",
              "      <th>pctmarriedhouseholds</th>\n",
              "      <th>birthrate</th>\n",
              "    </tr>\n",
              "  </thead>\n",
              "  <tbody>\n",
              "    <tr>\n",
              "      <th>count</th>\n",
              "      <td>3047.000000</td>\n",
              "      <td>3047.000000</td>\n",
              "      <td>3047.000000</td>\n",
              "      <td>3047.000000</td>\n",
              "      <td>3047.000000</td>\n",
              "      <td>3.047000e+03</td>\n",
              "      <td>3047.000000</td>\n",
              "      <td>3047.000000</td>\n",
              "      <td>3047.000000</td>\n",
              "      <td>3047.000000</td>\n",
              "      <td>...</td>\n",
              "      <td>3047.000000</td>\n",
              "      <td>3047.000000</td>\n",
              "      <td>3047.000000</td>\n",
              "      <td>3047.000000</td>\n",
              "      <td>3047.000000</td>\n",
              "      <td>3047.000000</td>\n",
              "      <td>3047.000000</td>\n",
              "      <td>3047.000000</td>\n",
              "      <td>3047.000000</td>\n",
              "      <td>3047.000000</td>\n",
              "    </tr>\n",
              "    <tr>\n",
              "      <th>mean</th>\n",
              "      <td>606.338544</td>\n",
              "      <td>185.965868</td>\n",
              "      <td>178.664063</td>\n",
              "      <td>448.268586</td>\n",
              "      <td>47063.281917</td>\n",
              "      <td>1.026374e+05</td>\n",
              "      <td>16.878175</td>\n",
              "      <td>155.399415</td>\n",
              "      <td>45.272333</td>\n",
              "      <td>39.570725</td>\n",
              "      <td>...</td>\n",
              "      <td>48.453774</td>\n",
              "      <td>41.196324</td>\n",
              "      <td>36.252642</td>\n",
              "      <td>19.240072</td>\n",
              "      <td>83.645286</td>\n",
              "      <td>9.107978</td>\n",
              "      <td>1.253965</td>\n",
              "      <td>1.983523</td>\n",
              "      <td>51.243872</td>\n",
              "      <td>5.640306</td>\n",
              "    </tr>\n",
              "    <tr>\n",
              "      <th>std</th>\n",
              "      <td>1416.356223</td>\n",
              "      <td>504.134286</td>\n",
              "      <td>27.751511</td>\n",
              "      <td>54.560733</td>\n",
              "      <td>12040.090836</td>\n",
              "      <td>3.290592e+05</td>\n",
              "      <td>6.409087</td>\n",
              "      <td>529.628366</td>\n",
              "      <td>45.304480</td>\n",
              "      <td>5.226017</td>\n",
              "      <td>...</td>\n",
              "      <td>9.018885</td>\n",
              "      <td>9.447687</td>\n",
              "      <td>7.841741</td>\n",
              "      <td>6.113041</td>\n",
              "      <td>16.380025</td>\n",
              "      <td>14.534538</td>\n",
              "      <td>2.610276</td>\n",
              "      <td>3.517710</td>\n",
              "      <td>6.572814</td>\n",
              "      <td>1.985816</td>\n",
              "    </tr>\n",
              "    <tr>\n",
              "      <th>min</th>\n",
              "      <td>6.000000</td>\n",
              "      <td>3.000000</td>\n",
              "      <td>59.700000</td>\n",
              "      <td>201.300000</td>\n",
              "      <td>22640.000000</td>\n",
              "      <td>8.270000e+02</td>\n",
              "      <td>3.200000</td>\n",
              "      <td>0.000000</td>\n",
              "      <td>22.300000</td>\n",
              "      <td>22.400000</td>\n",
              "      <td>...</td>\n",
              "      <td>15.700000</td>\n",
              "      <td>13.500000</td>\n",
              "      <td>11.200000</td>\n",
              "      <td>2.600000</td>\n",
              "      <td>10.199155</td>\n",
              "      <td>0.000000</td>\n",
              "      <td>0.000000</td>\n",
              "      <td>0.000000</td>\n",
              "      <td>22.992490</td>\n",
              "      <td>0.000000</td>\n",
              "    </tr>\n",
              "    <tr>\n",
              "      <th>25%</th>\n",
              "      <td>76.000000</td>\n",
              "      <td>28.000000</td>\n",
              "      <td>161.200000</td>\n",
              "      <td>420.300000</td>\n",
              "      <td>38882.500000</td>\n",
              "      <td>1.168400e+04</td>\n",
              "      <td>12.150000</td>\n",
              "      <td>0.000000</td>\n",
              "      <td>37.700000</td>\n",
              "      <td>36.350000</td>\n",
              "      <td>...</td>\n",
              "      <td>43.100000</td>\n",
              "      <td>34.500000</td>\n",
              "      <td>30.900000</td>\n",
              "      <td>14.850000</td>\n",
              "      <td>77.296180</td>\n",
              "      <td>0.620675</td>\n",
              "      <td>0.254199</td>\n",
              "      <td>0.295172</td>\n",
              "      <td>47.763063</td>\n",
              "      <td>4.521419</td>\n",
              "    </tr>\n",
              "    <tr>\n",
              "      <th>50%</th>\n",
              "      <td>171.000000</td>\n",
              "      <td>61.000000</td>\n",
              "      <td>178.100000</td>\n",
              "      <td>453.549422</td>\n",
              "      <td>45207.000000</td>\n",
              "      <td>2.664300e+04</td>\n",
              "      <td>15.900000</td>\n",
              "      <td>0.000000</td>\n",
              "      <td>41.000000</td>\n",
              "      <td>39.600000</td>\n",
              "      <td>...</td>\n",
              "      <td>48.453774</td>\n",
              "      <td>41.100000</td>\n",
              "      <td>36.300000</td>\n",
              "      <td>18.800000</td>\n",
              "      <td>90.059774</td>\n",
              "      <td>2.247576</td>\n",
              "      <td>0.549812</td>\n",
              "      <td>0.826185</td>\n",
              "      <td>51.669941</td>\n",
              "      <td>5.381478</td>\n",
              "    </tr>\n",
              "    <tr>\n",
              "      <th>75%</th>\n",
              "      <td>518.000000</td>\n",
              "      <td>149.000000</td>\n",
              "      <td>195.200000</td>\n",
              "      <td>480.850000</td>\n",
              "      <td>52492.000000</td>\n",
              "      <td>6.867100e+04</td>\n",
              "      <td>20.400000</td>\n",
              "      <td>83.650776</td>\n",
              "      <td>44.000000</td>\n",
              "      <td>42.500000</td>\n",
              "      <td>...</td>\n",
              "      <td>53.800000</td>\n",
              "      <td>47.700000</td>\n",
              "      <td>41.550000</td>\n",
              "      <td>23.100000</td>\n",
              "      <td>95.451693</td>\n",
              "      <td>10.509732</td>\n",
              "      <td>1.221037</td>\n",
              "      <td>2.177960</td>\n",
              "      <td>55.395132</td>\n",
              "      <td>6.493677</td>\n",
              "    </tr>\n",
              "    <tr>\n",
              "      <th>max</th>\n",
              "      <td>38150.000000</td>\n",
              "      <td>14010.000000</td>\n",
              "      <td>362.800000</td>\n",
              "      <td>1206.900000</td>\n",
              "      <td>125635.000000</td>\n",
              "      <td>1.017029e+07</td>\n",
              "      <td>47.400000</td>\n",
              "      <td>9762.308998</td>\n",
              "      <td>624.000000</td>\n",
              "      <td>64.700000</td>\n",
              "      <td>...</td>\n",
              "      <td>78.900000</td>\n",
              "      <td>70.700000</td>\n",
              "      <td>65.100000</td>\n",
              "      <td>46.600000</td>\n",
              "      <td>100.000000</td>\n",
              "      <td>85.947799</td>\n",
              "      <td>42.619425</td>\n",
              "      <td>41.930251</td>\n",
              "      <td>78.075397</td>\n",
              "      <td>21.326165</td>\n",
              "    </tr>\n",
              "  </tbody>\n",
              "</table>\n",
              "<p>8 rows × 30 columns</p>\n",
              "</div>"
            ],
            "text/plain": [
              "        avganncount  avgdeathsperyear  target_deathrate  incidencerate  \\\n",
              "count   3047.000000       3047.000000       3047.000000    3047.000000   \n",
              "mean     606.338544        185.965868        178.664063     448.268586   \n",
              "std     1416.356223        504.134286         27.751511      54.560733   \n",
              "min        6.000000          3.000000         59.700000     201.300000   \n",
              "25%       76.000000         28.000000        161.200000     420.300000   \n",
              "50%      171.000000         61.000000        178.100000     453.549422   \n",
              "75%      518.000000        149.000000        195.200000     480.850000   \n",
              "max    38150.000000      14010.000000        362.800000    1206.900000   \n",
              "\n",
              "           medincome    popest2015  povertypercent  studypercap    medianage  \\\n",
              "count    3047.000000  3.047000e+03     3047.000000  3047.000000  3047.000000   \n",
              "mean    47063.281917  1.026374e+05       16.878175   155.399415    45.272333   \n",
              "std     12040.090836  3.290592e+05        6.409087   529.628366    45.304480   \n",
              "min     22640.000000  8.270000e+02        3.200000     0.000000    22.300000   \n",
              "25%     38882.500000  1.168400e+04       12.150000     0.000000    37.700000   \n",
              "50%     45207.000000  2.664300e+04       15.900000     0.000000    41.000000   \n",
              "75%     52492.000000  6.867100e+04       20.400000    83.650776    44.000000   \n",
              "max    125635.000000  1.017029e+07       47.400000  9762.308998   624.000000   \n",
              "\n",
              "       medianagemale  ...  pctprivatecoveragealone  pctempprivcoverage  \\\n",
              "count    3047.000000  ...              3047.000000         3047.000000   \n",
              "mean       39.570725  ...                48.453774           41.196324   \n",
              "std         5.226017  ...                 9.018885            9.447687   \n",
              "min        22.400000  ...                15.700000           13.500000   \n",
              "25%        36.350000  ...                43.100000           34.500000   \n",
              "50%        39.600000  ...                48.453774           41.100000   \n",
              "75%        42.500000  ...                53.800000           47.700000   \n",
              "max        64.700000  ...                78.900000           70.700000   \n",
              "\n",
              "       pctpubliccoverage  pctpubliccoveragealone     pctwhite     pctblack  \\\n",
              "count        3047.000000             3047.000000  3047.000000  3047.000000   \n",
              "mean           36.252642               19.240072    83.645286     9.107978   \n",
              "std             7.841741                6.113041    16.380025    14.534538   \n",
              "min            11.200000                2.600000    10.199155     0.000000   \n",
              "25%            30.900000               14.850000    77.296180     0.620675   \n",
              "50%            36.300000               18.800000    90.059774     2.247576   \n",
              "75%            41.550000               23.100000    95.451693    10.509732   \n",
              "max            65.100000               46.600000   100.000000    85.947799   \n",
              "\n",
              "          pctasian  pctotherrace  pctmarriedhouseholds    birthrate  \n",
              "count  3047.000000   3047.000000           3047.000000  3047.000000  \n",
              "mean      1.253965      1.983523             51.243872     5.640306  \n",
              "std       2.610276      3.517710              6.572814     1.985816  \n",
              "min       0.000000      0.000000             22.992490     0.000000  \n",
              "25%       0.254199      0.295172             47.763063     4.521419  \n",
              "50%       0.549812      0.826185             51.669941     5.381478  \n",
              "75%       1.221037      2.177960             55.395132     6.493677  \n",
              "max      42.619425     41.930251             78.075397    21.326165  \n",
              "\n",
              "[8 rows x 30 columns]"
            ]
          },
          "metadata": {},
          "execution_count": 81
        }
      ],
      "metadata": {}
    },
    {
      "cell_type": "code",
      "execution_count": 68,
      "source": [
        "df=df.drop(columns='pctsomecol18_24')\r\n",
        "df['pctprivatecoveragealone'].fillna((df['pctprivatecoveragealone'].mean()), inplace=True)\r\n",
        "df['pctemployed16_over'].fillna((df['pctemployed16_over'].mean()), inplace=True)"
      ],
      "outputs": [],
      "metadata": {}
    },
    {
      "cell_type": "code",
      "execution_count": 69,
      "source": [
        "df.isna().any().sum()"
      ],
      "outputs": [
        {
          "output_type": "execute_result",
          "data": {
            "text/plain": [
              "0"
            ]
          },
          "metadata": {},
          "execution_count": 69
        }
      ],
      "metadata": {}
    },
    {
      "cell_type": "code",
      "execution_count": 94,
      "source": [
        "#Let me do it using the VIF function\r\n",
        "from statsmodels.stats.outliers_influence import variance_inflation_factor\r\n",
        "X=df.drop(columns=['target_deathrate', 'binnedinc','geography','pctmarriedhouseholds','medianagefemale','percentmarried'], axis=1)\r\n",
        "vif = pd.DataFrame()\r\n",
        "vif[\"features\"] = X.columns\r\n",
        "vif[\"vif_Factor\"] = [variance_inflation_factor(X.values, i) for i in range(X.shape[1])]\r\n",
        "print(vif)"
      ],
      "outputs": [
        {
          "output_type": "stream",
          "name": "stdout",
          "text": [
            "                   features  vif_Factor\n",
            "0               avganncount   11.436189\n",
            "1          avgdeathsperyear   34.919935\n",
            "2             incidencerate   84.723027\n",
            "3                 medincome   99.683053\n",
            "4                popest2015   28.440313\n",
            "5            povertypercent   41.971202\n",
            "6               studypercap    1.134506\n",
            "7                 medianage    2.045323\n",
            "8             medianagemale  225.605578\n",
            "9              pctnohs18_24    9.284972\n",
            "10               pcths18_24   24.934868\n",
            "11          pctbachdeg18_24    5.386668\n",
            "12             pcths25_over   90.901776\n",
            "13        pctbachdeg25_over   37.470593\n",
            "14       pctemployed16_over  134.101416\n",
            "15     pctunemployed16_over   15.132445\n",
            "16       pctprivatecoverage  566.374755\n",
            "17  pctprivatecoveragealone  141.173399\n",
            "18       pctempprivcoverage  148.766122\n",
            "19        pctpubliccoverage  512.197091\n",
            "20   pctpubliccoveragealone  242.629236\n",
            "21                 pctwhite  156.546088\n",
            "22                 pctblack    6.648520\n",
            "23                 pctasian    2.405121\n",
            "24             pctotherrace    1.844506\n",
            "25                birthrate   10.483545\n"
          ]
        }
      ],
      "metadata": {}
    },
    {
      "cell_type": "code",
      "execution_count": 95,
      "source": [
        "cols = list(vif['features'])\r\n",
        "cols"
      ],
      "outputs": [
        {
          "output_type": "execute_result",
          "data": {
            "text/plain": [
              "['avganncount',\n",
              " 'avgdeathsperyear',\n",
              " 'incidencerate',\n",
              " 'medincome',\n",
              " 'popest2015',\n",
              " 'povertypercent',\n",
              " 'studypercap',\n",
              " 'medianage',\n",
              " 'medianagemale',\n",
              " 'pctnohs18_24',\n",
              " 'pcths18_24',\n",
              " 'pctbachdeg18_24',\n",
              " 'pcths25_over',\n",
              " 'pctbachdeg25_over',\n",
              " 'pctemployed16_over',\n",
              " 'pctunemployed16_over',\n",
              " 'pctprivatecoverage',\n",
              " 'pctprivatecoveragealone',\n",
              " 'pctempprivcoverage',\n",
              " 'pctpubliccoverage',\n",
              " 'pctpubliccoveragealone',\n",
              " 'pctwhite',\n",
              " 'pctblack',\n",
              " 'pctasian',\n",
              " 'pctotherrace',\n",
              " 'birthrate']"
            ]
          },
          "metadata": {},
          "execution_count": 95
        }
      ],
      "metadata": {}
    },
    {
      "cell_type": "code",
      "execution_count": 96,
      "source": [
        "X = df[cols]\r\n",
        "y = df['target_deathrate']\r\n",
        "y"
      ],
      "outputs": [
        {
          "output_type": "execute_result",
          "data": {
            "text/plain": [
              "0       164.9\n",
              "1       161.3\n",
              "2       174.7\n",
              "3       194.8\n",
              "4       144.4\n",
              "        ...  \n",
              "3042    149.6\n",
              "3043    150.1\n",
              "3044    153.9\n",
              "3045    175.0\n",
              "3046    213.6\n",
              "Name: target_deathrate, Length: 3047, dtype: float64"
            ]
          },
          "metadata": {},
          "execution_count": 96
        }
      ],
      "metadata": {}
    },
    {
      "cell_type": "code",
      "execution_count": 97,
      "source": [
        "# Train using 80% of the data.\r\n",
        "X_train, X_test, y_train, y_test = train_test_split(X, y, test_size=0.2, random_state=0)\r\n",
        "\r\n",
        "# find optimal coefficients and intercept\r\n",
        "regressor = LinearRegression()  \r\n",
        "regressor.fit(X_train, y_train)\r\n"
      ],
      "outputs": [
        {
          "output_type": "execute_result",
          "data": {
            "text/plain": [
              "LinearRegression()"
            ]
          },
          "metadata": {},
          "execution_count": 97
        }
      ],
      "metadata": {}
    },
    {
      "cell_type": "code",
      "execution_count": 98,
      "source": [
        "y_pred = regressor.predict(X_test)\r\n",
        "\r\n",
        "print('Mean Absolute Error:', metrics.mean_absolute_error(y_test, y_pred))  \r\n",
        "print('Mean Squared Error:', metrics.mean_squared_error(y_test, y_pred))  \r\n",
        "print('Root Mean Squared Error:', np.sqrt(metrics.mean_squared_error(y_test, y_pred)))\r\n"
      ],
      "outputs": [
        {
          "output_type": "stream",
          "name": "stdout",
          "text": [
            "Mean Absolute Error: 14.228185045844759\n",
            "Mean Squared Error: 350.79775416590314\n",
            "Root Mean Squared Error: 18.72959567545181\n"
          ]
        }
      ],
      "metadata": {}
    }
  ]
}