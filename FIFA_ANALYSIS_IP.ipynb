{
  "nbformat": 4,
  "nbformat_minor": 2,
  "metadata": {
    "colab": {
      "name": "Supervised Learning with Exploratory Data Analysis - Exercise 1",
      "provenance": [],
      "collapsed_sections": [
        "kLG2VTrnTvYL",
        "XecOwPNorl2W",
        "J4wfHZwQrs-t",
        "a9BPYqunry97",
        "7KMRBJ7zr9HD",
        "zSGyg6kWsBUl",
        "iUNbvIvnT7ep",
        "OI3P3YnHUEBk",
        "ckfufNrcUHeH",
        "6XC_g-zKxe-r",
        "FlBMxEDBUc9B",
        "rF2ABPsHUtbZ",
        "vTbdjSrhVIiT",
        "lQ2G4ZPDVOXE",
        "xrmHVMVsVS--",
        "HPQviDmNtta8",
        "qjFHK1CKty7o",
        "HSsicSdvt4Zs"
      ],
      "toc_visible": true
    },
    "kernelspec": {
      "name": "python3",
      "display_name": "Python 3.8.5 64-bit ('base': conda)"
    },
    "language_info": {
      "name": "python",
      "version": "3.8.5",
      "mimetype": "text/x-python",
      "codemirror_mode": {
        "name": "ipython",
        "version": 3
      },
      "pygments_lexer": "ipython3",
      "nbconvert_exporter": "python",
      "file_extension": ".py"
    },
    "interpreter": {
      "hash": "8e24f623c9d976e65e43b538ecbbc4d478524c94015e92b14b460358aba5245a"
    }
  },
  "cells": [
    {
      "cell_type": "markdown",
      "source": [
        "# Mchezopesa LTD FIFA ANALYSYS: \r\n",
        "## A prediction result of a game between team 1 and team 2, based on who's home and who's away, and on whether or not the game is friendly "
      ],
      "metadata": {
        "id": "xMxtPsqcTsSH"
      }
    },
    {
      "cell_type": "markdown",
      "source": [
        "## 1. Defining the Question"
      ],
      "metadata": {
        "id": "kLG2VTrnTvYL"
      }
    },
    {
      "cell_type": "markdown",
      "source": [
        "### a) Specifying the Question"
      ],
      "metadata": {
        "id": "XecOwPNorl2W"
      }
    },
    {
      "cell_type": "markdown",
      "source": [
        "\r\n",
        "> You have been recruited as a football analyst in a company - Mchezopesa Ltd and tasked to accomplish the task below.\r\n",
        "\r\n",
        "A prediction result of a game between team 1 and team 2, based on who's home and who's away, and on whether or not the game is friendly (include rank in your training).\r\n",
        "\r\n"
      ],
      "metadata": {
        "id": "8l3-hBO6bODP"
      }
    },
    {
      "cell_type": "markdown",
      "source": [
        "### b) Defining the Metric for Success\r\n",
        "<p> Rank of home team\r\n",
        "<p> Rank of away team\r\n",
        "<p> Tournament type"
      ],
      "metadata": {
        "id": "J4wfHZwQrs-t"
      }
    },
    {
      "cell_type": "markdown",
      "source": [
        "### c) Understanding the context \r\n",
        "<p> FIFA introduced football ranking in 1993 to display teams ranking as per the games played, wins, loses, drawa and previous points. The rank is done by accumulative points. Every time a team plays, its ranking changes. Ranking is done periodilcally. \r\n",
        "<p> In many cases, a team that plays another team that has higher rank is likely to win the match"
      ],
      "metadata": {
        "id": "a9BPYqunry97"
      }
    },
    {
      "cell_type": "markdown",
      "source": [
        "### d) Recording the Experimental Design\r\n",
        "<p> This project will be understake by doing a logistic regresions. I will train a model using tournament type, home team, away teamand Fifa ranking on the results which is win, draw or lose. Fifa ranking changes per year hence when feeding the model for prediting will have the year which will determin the team's ranking that year. "
      ],
      "metadata": {
        "id": "7KMRBJ7zr9HD"
      }
    },
    {
      "cell_type": "markdown",
      "source": [
        "### e) Data Relevance\r\n",
        "<p> We have two data sets to work with\r\n",
        "<p> 1. The Fifa ranking dataset which shows ranking for each team periodically. We will comeupe with a new dataset from this that displays the ranking per team per year\r\n",
        "<p> 2.,. Fifa resuls: This shows each game results whenever the teams play. It has the date, teams, tournament type, and score. With this we will append results(W,D,L) and official Fifa ranking that year depending on the year they have played. "
      ],
      "metadata": {
        "id": "zSGyg6kWsBUl"
      }
    },
    {
      "cell_type": "markdown",
      "source": [
        "## 2. Reading the Data"
      ],
      "metadata": {
        "id": "iUNbvIvnT7ep"
      }
    },
    {
      "cell_type": "code",
      "execution_count": 158,
      "source": [
        "# Loading the Dataset\r\n",
        "# Dataset url = http://bit.ly/EcommerceDataset \r\n",
        "#"
      ],
      "outputs": [],
      "metadata": {
        "id": "XJn2KjW-WMlG"
      }
    },
    {
      "cell_type": "markdown",
      "source": [
        "## 3. Checking the Data"
      ],
      "metadata": {
        "id": "OI3P3YnHUEBk"
      }
    },
    {
      "cell_type": "markdown",
      "source": [
        "### Importing required libraries "
      ],
      "metadata": {}
    },
    {
      "cell_type": "code",
      "execution_count": 159,
      "source": [
        "import pandas as pd \r\n",
        "import seaborn as sns\r\n",
        "from sklearn.model_selection import train_test_split\r\n",
        "from sklearn.linear_model import LogisticRegression\r\n",
        "from sklearn.metrics import confusion_matrix, classification_report, accuracy_score\r\n",
        "import matplotlib.pyplot as plt\r\n"
      ],
      "outputs": [],
      "metadata": {}
    },
    {
      "cell_type": "markdown",
      "source": [
        "### Load data"
      ],
      "metadata": {}
    },
    {
      "cell_type": "code",
      "execution_count": 160,
      "source": [
        "fifa_ranking = pd.read_csv('data/fifa_ranking.csv')\r\n",
        "fifa_results=pd.read_csv('data/results.csv')\r\n"
      ],
      "outputs": [],
      "metadata": {}
    },
    {
      "cell_type": "code",
      "execution_count": 161,
      "source": [
        "# Determining the no. of records in our dataset\r\n",
        "fifa_ranking.shape"
      ],
      "outputs": [
        {
          "output_type": "execute_result",
          "data": {
            "text/plain": [
              "(57793, 16)"
            ]
          },
          "metadata": {},
          "execution_count": 161
        }
      ],
      "metadata": {
        "id": "YjSVNwgptHxY"
      }
    },
    {
      "cell_type": "code",
      "execution_count": 162,
      "source": [
        "fifa_results.shape"
      ],
      "outputs": [
        {
          "output_type": "execute_result",
          "data": {
            "text/plain": [
              "(40839, 9)"
            ]
          },
          "metadata": {},
          "execution_count": 162
        }
      ],
      "metadata": {}
    },
    {
      "cell_type": "code",
      "execution_count": 163,
      "source": [
        "# Previewing the top of our dataset\r\n",
        "fifa_ranking.head()"
      ],
      "outputs": [
        {
          "output_type": "execute_result",
          "data": {
            "text/html": [
              "<div>\n",
              "<style scoped>\n",
              "    .dataframe tbody tr th:only-of-type {\n",
              "        vertical-align: middle;\n",
              "    }\n",
              "\n",
              "    .dataframe tbody tr th {\n",
              "        vertical-align: top;\n",
              "    }\n",
              "\n",
              "    .dataframe thead th {\n",
              "        text-align: right;\n",
              "    }\n",
              "</style>\n",
              "<table border=\"1\" class=\"dataframe\">\n",
              "  <thead>\n",
              "    <tr style=\"text-align: right;\">\n",
              "      <th></th>\n",
              "      <th>rank</th>\n",
              "      <th>country_full</th>\n",
              "      <th>country_abrv</th>\n",
              "      <th>total_points</th>\n",
              "      <th>previous_points</th>\n",
              "      <th>rank_change</th>\n",
              "      <th>cur_year_avg</th>\n",
              "      <th>cur_year_avg_weighted</th>\n",
              "      <th>last_year_avg</th>\n",
              "      <th>last_year_avg_weighted</th>\n",
              "      <th>two_year_ago_avg</th>\n",
              "      <th>two_year_ago_weighted</th>\n",
              "      <th>three_year_ago_avg</th>\n",
              "      <th>three_year_ago_weighted</th>\n",
              "      <th>confederation</th>\n",
              "      <th>rank_date</th>\n",
              "    </tr>\n",
              "  </thead>\n",
              "  <tbody>\n",
              "    <tr>\n",
              "      <th>0</th>\n",
              "      <td>1</td>\n",
              "      <td>Germany</td>\n",
              "      <td>GER</td>\n",
              "      <td>0.0</td>\n",
              "      <td>57</td>\n",
              "      <td>0</td>\n",
              "      <td>0.0</td>\n",
              "      <td>0.0</td>\n",
              "      <td>0.0</td>\n",
              "      <td>0.0</td>\n",
              "      <td>0.0</td>\n",
              "      <td>0.0</td>\n",
              "      <td>0.0</td>\n",
              "      <td>0.0</td>\n",
              "      <td>UEFA</td>\n",
              "      <td>1993-08-08</td>\n",
              "    </tr>\n",
              "    <tr>\n",
              "      <th>1</th>\n",
              "      <td>2</td>\n",
              "      <td>Italy</td>\n",
              "      <td>ITA</td>\n",
              "      <td>0.0</td>\n",
              "      <td>57</td>\n",
              "      <td>0</td>\n",
              "      <td>0.0</td>\n",
              "      <td>0.0</td>\n",
              "      <td>0.0</td>\n",
              "      <td>0.0</td>\n",
              "      <td>0.0</td>\n",
              "      <td>0.0</td>\n",
              "      <td>0.0</td>\n",
              "      <td>0.0</td>\n",
              "      <td>UEFA</td>\n",
              "      <td>1993-08-08</td>\n",
              "    </tr>\n",
              "    <tr>\n",
              "      <th>2</th>\n",
              "      <td>3</td>\n",
              "      <td>Switzerland</td>\n",
              "      <td>SUI</td>\n",
              "      <td>0.0</td>\n",
              "      <td>50</td>\n",
              "      <td>9</td>\n",
              "      <td>0.0</td>\n",
              "      <td>0.0</td>\n",
              "      <td>0.0</td>\n",
              "      <td>0.0</td>\n",
              "      <td>0.0</td>\n",
              "      <td>0.0</td>\n",
              "      <td>0.0</td>\n",
              "      <td>0.0</td>\n",
              "      <td>UEFA</td>\n",
              "      <td>1993-08-08</td>\n",
              "    </tr>\n",
              "    <tr>\n",
              "      <th>3</th>\n",
              "      <td>4</td>\n",
              "      <td>Sweden</td>\n",
              "      <td>SWE</td>\n",
              "      <td>0.0</td>\n",
              "      <td>55</td>\n",
              "      <td>0</td>\n",
              "      <td>0.0</td>\n",
              "      <td>0.0</td>\n",
              "      <td>0.0</td>\n",
              "      <td>0.0</td>\n",
              "      <td>0.0</td>\n",
              "      <td>0.0</td>\n",
              "      <td>0.0</td>\n",
              "      <td>0.0</td>\n",
              "      <td>UEFA</td>\n",
              "      <td>1993-08-08</td>\n",
              "    </tr>\n",
              "    <tr>\n",
              "      <th>4</th>\n",
              "      <td>5</td>\n",
              "      <td>Argentina</td>\n",
              "      <td>ARG</td>\n",
              "      <td>0.0</td>\n",
              "      <td>51</td>\n",
              "      <td>5</td>\n",
              "      <td>0.0</td>\n",
              "      <td>0.0</td>\n",
              "      <td>0.0</td>\n",
              "      <td>0.0</td>\n",
              "      <td>0.0</td>\n",
              "      <td>0.0</td>\n",
              "      <td>0.0</td>\n",
              "      <td>0.0</td>\n",
              "      <td>CONMEBOL</td>\n",
              "      <td>1993-08-08</td>\n",
              "    </tr>\n",
              "  </tbody>\n",
              "</table>\n",
              "</div>"
            ],
            "text/plain": [
              "   rank country_full country_abrv  total_points  previous_points  rank_change  \\\n",
              "0     1      Germany          GER           0.0               57            0   \n",
              "1     2        Italy          ITA           0.0               57            0   \n",
              "2     3  Switzerland          SUI           0.0               50            9   \n",
              "3     4       Sweden          SWE           0.0               55            0   \n",
              "4     5    Argentina          ARG           0.0               51            5   \n",
              "\n",
              "   cur_year_avg  cur_year_avg_weighted  last_year_avg  last_year_avg_weighted  \\\n",
              "0           0.0                    0.0            0.0                     0.0   \n",
              "1           0.0                    0.0            0.0                     0.0   \n",
              "2           0.0                    0.0            0.0                     0.0   \n",
              "3           0.0                    0.0            0.0                     0.0   \n",
              "4           0.0                    0.0            0.0                     0.0   \n",
              "\n",
              "   two_year_ago_avg  two_year_ago_weighted  three_year_ago_avg  \\\n",
              "0               0.0                    0.0                 0.0   \n",
              "1               0.0                    0.0                 0.0   \n",
              "2               0.0                    0.0                 0.0   \n",
              "3               0.0                    0.0                 0.0   \n",
              "4               0.0                    0.0                 0.0   \n",
              "\n",
              "   three_year_ago_weighted confederation   rank_date  \n",
              "0                      0.0          UEFA  1993-08-08  \n",
              "1                      0.0          UEFA  1993-08-08  \n",
              "2                      0.0          UEFA  1993-08-08  \n",
              "3                      0.0          UEFA  1993-08-08  \n",
              "4                      0.0      CONMEBOL  1993-08-08  "
            ]
          },
          "metadata": {},
          "execution_count": 163
        }
      ],
      "metadata": {
        "id": "xHhTw5eKWr0n"
      }
    },
    {
      "cell_type": "code",
      "execution_count": 164,
      "source": [
        "# Previewing the bottom of our dataset\r\n",
        "fifa_results.tail()"
      ],
      "outputs": [
        {
          "output_type": "execute_result",
          "data": {
            "text/html": [
              "<div>\n",
              "<style scoped>\n",
              "    .dataframe tbody tr th:only-of-type {\n",
              "        vertical-align: middle;\n",
              "    }\n",
              "\n",
              "    .dataframe tbody tr th {\n",
              "        vertical-align: top;\n",
              "    }\n",
              "\n",
              "    .dataframe thead th {\n",
              "        text-align: right;\n",
              "    }\n",
              "</style>\n",
              "<table border=\"1\" class=\"dataframe\">\n",
              "  <thead>\n",
              "    <tr style=\"text-align: right;\">\n",
              "      <th></th>\n",
              "      <th>date</th>\n",
              "      <th>home_team</th>\n",
              "      <th>away_team</th>\n",
              "      <th>home_score</th>\n",
              "      <th>away_score</th>\n",
              "      <th>tournament</th>\n",
              "      <th>city</th>\n",
              "      <th>country</th>\n",
              "      <th>neutral</th>\n",
              "    </tr>\n",
              "  </thead>\n",
              "  <tbody>\n",
              "    <tr>\n",
              "      <th>40834</th>\n",
              "      <td>2019-07-18</td>\n",
              "      <td>American Samoa</td>\n",
              "      <td>Tahiti</td>\n",
              "      <td>8</td>\n",
              "      <td>1</td>\n",
              "      <td>Pacific Games</td>\n",
              "      <td>Apia</td>\n",
              "      <td>Samoa</td>\n",
              "      <td>True</td>\n",
              "    </tr>\n",
              "    <tr>\n",
              "      <th>40835</th>\n",
              "      <td>2019-07-18</td>\n",
              "      <td>Fiji</td>\n",
              "      <td>Solomon Islands</td>\n",
              "      <td>4</td>\n",
              "      <td>4</td>\n",
              "      <td>Pacific Games</td>\n",
              "      <td>Apia</td>\n",
              "      <td>Samoa</td>\n",
              "      <td>True</td>\n",
              "    </tr>\n",
              "    <tr>\n",
              "      <th>40836</th>\n",
              "      <td>2019-07-19</td>\n",
              "      <td>Senegal</td>\n",
              "      <td>Algeria</td>\n",
              "      <td>0</td>\n",
              "      <td>1</td>\n",
              "      <td>African Cup of Nations</td>\n",
              "      <td>Cairo</td>\n",
              "      <td>Egypt</td>\n",
              "      <td>True</td>\n",
              "    </tr>\n",
              "    <tr>\n",
              "      <th>40837</th>\n",
              "      <td>2019-07-19</td>\n",
              "      <td>Tajikistan</td>\n",
              "      <td>North Korea</td>\n",
              "      <td>0</td>\n",
              "      <td>1</td>\n",
              "      <td>Intercontinental Cup</td>\n",
              "      <td>Ahmedabad</td>\n",
              "      <td>India</td>\n",
              "      <td>True</td>\n",
              "    </tr>\n",
              "    <tr>\n",
              "      <th>40838</th>\n",
              "      <td>2019-07-20</td>\n",
              "      <td>Papua New Guinea</td>\n",
              "      <td>Fiji</td>\n",
              "      <td>1</td>\n",
              "      <td>1</td>\n",
              "      <td>Pacific Games</td>\n",
              "      <td>Apia</td>\n",
              "      <td>Samoa</td>\n",
              "      <td>True</td>\n",
              "    </tr>\n",
              "  </tbody>\n",
              "</table>\n",
              "</div>"
            ],
            "text/plain": [
              "             date         home_team        away_team  home_score  away_score  \\\n",
              "40834  2019-07-18    American Samoa           Tahiti           8           1   \n",
              "40835  2019-07-18              Fiji  Solomon Islands           4           4   \n",
              "40836  2019-07-19           Senegal          Algeria           0           1   \n",
              "40837  2019-07-19        Tajikistan      North Korea           0           1   \n",
              "40838  2019-07-20  Papua New Guinea             Fiji           1           1   \n",
              "\n",
              "                   tournament       city country  neutral  \n",
              "40834           Pacific Games       Apia   Samoa     True  \n",
              "40835           Pacific Games       Apia   Samoa     True  \n",
              "40836  African Cup of Nations      Cairo   Egypt     True  \n",
              "40837    Intercontinental Cup  Ahmedabad   India     True  \n",
              "40838           Pacific Games       Apia   Samoa     True  "
            ]
          },
          "metadata": {},
          "execution_count": 164
        }
      ],
      "metadata": {
        "id": "e9AzGcZFrIIr"
      }
    },
    {
      "cell_type": "markdown",
      "source": [
        "### checking and making sure each colum has appropriate data types "
      ],
      "metadata": {}
    },
    {
      "cell_type": "code",
      "execution_count": 165,
      "source": [
        "# Checking whether Fifa ranking has an appropriate datatype\r\n",
        "#\r\n",
        "fifa_ranking.info()\r\n",
        "#Date  need to be converted\r\n"
      ],
      "outputs": [
        {
          "output_type": "stream",
          "name": "stdout",
          "text": [
            "<class 'pandas.core.frame.DataFrame'>\n",
            "RangeIndex: 57793 entries, 0 to 57792\n",
            "Data columns (total 16 columns):\n",
            " #   Column                   Non-Null Count  Dtype  \n",
            "---  ------                   --------------  -----  \n",
            " 0   rank                     57793 non-null  int64  \n",
            " 1   country_full             57793 non-null  object \n",
            " 2   country_abrv             57793 non-null  object \n",
            " 3   total_points             57793 non-null  float64\n",
            " 4   previous_points          57793 non-null  int64  \n",
            " 5   rank_change              57793 non-null  int64  \n",
            " 6   cur_year_avg             57793 non-null  float64\n",
            " 7   cur_year_avg_weighted    57793 non-null  float64\n",
            " 8   last_year_avg            57793 non-null  float64\n",
            " 9   last_year_avg_weighted   57793 non-null  float64\n",
            " 10  two_year_ago_avg         57793 non-null  float64\n",
            " 11  two_year_ago_weighted    57793 non-null  float64\n",
            " 12  three_year_ago_avg       57793 non-null  float64\n",
            " 13  three_year_ago_weighted  57793 non-null  float64\n",
            " 14  confederation            57793 non-null  object \n",
            " 15  rank_date                57793 non-null  object \n",
            "dtypes: float64(9), int64(3), object(4)\n",
            "memory usage: 7.1+ MB\n"
          ]
        }
      ],
      "metadata": {
        "id": "n8-dW4sQWzbc"
      }
    },
    {
      "cell_type": "code",
      "execution_count": 166,
      "source": [
        "# convert date colukns to date type\r\n",
        "fifa_ranking['rank_date']=pd.to_datetime(fifa_ranking['rank_date'])\r\n"
      ],
      "outputs": [],
      "metadata": {}
    },
    {
      "cell_type": "code",
      "execution_count": 167,
      "source": [
        "#Fifa results data types\r\n",
        "#convert date to date type\r\n",
        "fifa_results['date']=pd.to_datetime(fifa_results['date'])\r\n",
        "fifa_results.info()"
      ],
      "outputs": [
        {
          "output_type": "stream",
          "name": "stdout",
          "text": [
            "<class 'pandas.core.frame.DataFrame'>\n",
            "RangeIndex: 40839 entries, 0 to 40838\n",
            "Data columns (total 9 columns):\n",
            " #   Column      Non-Null Count  Dtype         \n",
            "---  ------      --------------  -----         \n",
            " 0   date        40839 non-null  datetime64[ns]\n",
            " 1   home_team   40839 non-null  object        \n",
            " 2   away_team   40839 non-null  object        \n",
            " 3   home_score  40839 non-null  int64         \n",
            " 4   away_score  40839 non-null  int64         \n",
            " 5   tournament  40839 non-null  object        \n",
            " 6   city        40839 non-null  object        \n",
            " 7   country     40839 non-null  object        \n",
            " 8   neutral     40839 non-null  bool          \n",
            "dtypes: bool(1), datetime64[ns](1), int64(2), object(5)\n",
            "memory usage: 2.5+ MB\n"
          ]
        }
      ],
      "metadata": {}
    },
    {
      "cell_type": "markdown",
      "source": [
        "## 4. External Data Source Validation"
      ],
      "metadata": {
        "id": "ckfufNrcUHeH"
      }
    },
    {
      "cell_type": "markdown",
      "source": [
        "Making sure your data matches something outside of the dataset is very important. It allows you to ensure that the measurements are roughly in line with what they should be and it serves as a check on what other things might be wrong in your dataset. External validation can often be as simple as checking your data against a single number, as we will do here."
      ],
      "metadata": {
        "id": "6L4sl_0WXlbg"
      }
    },
    {
      "cell_type": "markdown",
      "source": [
        "### a.Validation\r\n",
        "\r\n",
        "<p> We took some records of fifa ranking and checked against official fifa ranking. Its correct. We also checked games played over time and realized the data given is correct representation of FIFA football match played. "
      ],
      "metadata": {
        "id": "6XC_g-zKxe-r"
      }
    },
    {
      "cell_type": "markdown",
      "source": [
        "## 5. Tidying the Dataset"
      ],
      "metadata": {
        "id": "FlBMxEDBUc9B"
      }
    },
    {
      "cell_type": "code",
      "execution_count": 168,
      "source": [
        "# Checking for Outliers\r\n",
        "#"
      ],
      "outputs": [],
      "metadata": {
        "id": "5o_bQcT5W3Wz"
      }
    },
    {
      "cell_type": "code",
      "execution_count": 169,
      "source": [
        "# Checking for Anomalies\r\n",
        "#"
      ],
      "outputs": [],
      "metadata": {
        "id": "PWlukLKUvFQN"
      }
    },
    {
      "cell_type": "code",
      "execution_count": 170,
      "source": [
        "# Identifying the Missing Data\r\n",
        "sns.heatmap(fifa_results.isnull(), yticklabels=False,cbar=False, cmap='viridis')\r\n"
      ],
      "outputs": [
        {
          "output_type": "execute_result",
          "data": {
            "text/plain": [
              "<AxesSubplot:>"
            ]
          },
          "metadata": {},
          "execution_count": 170
        },
        {
          "output_type": "display_data",
          "data": {
            "image/png": "[encoded data removed]",
            "text/plain": [
              "<Figure size 432x288 with 1 Axes>"
            ]
          },
          "metadata": {
            "needs_background": "light"
          }
        }
      ],
      "metadata": {
        "id": "PvCYb6dgW4yh"
      }
    },
    {
      "cell_type": "code",
      "execution_count": 171,
      "source": [
        "# missing data in the fifa ranking \r\n",
        "\r\n",
        "sns.heatmap(fifa_ranking.isnull(), yticklabels=False,cbar=False, cmap='viridis')\r\n",
        "fifa_ranking.isnull().sum()"
      ],
      "outputs": [
        {
          "output_type": "execute_result",
          "data": {
            "text/plain": [
              "rank                       0\n",
              "country_full               0\n",
              "country_abrv               0\n",
              "total_points               0\n",
              "previous_points            0\n",
              "rank_change                0\n",
              "cur_year_avg               0\n",
              "cur_year_avg_weighted      0\n",
              "last_year_avg              0\n",
              "last_year_avg_weighted     0\n",
              "two_year_ago_avg           0\n",
              "two_year_ago_weighted      0\n",
              "three_year_ago_avg         0\n",
              "three_year_ago_weighted    0\n",
              "confederation              0\n",
              "rank_date                  0\n",
              "dtype: int64"
            ]
          },
          "metadata": {},
          "execution_count": 171
        },
        {
          "output_type": "display_data",
          "data": {
            "image/png": "[encoded data removed]",
            "text/plain": [
              "<Figure size 432x288 with 1 Axes>"
            ]
          },
          "metadata": {
            "needs_background": "light"
          }
        }
      ],
      "metadata": {}
    },
    {
      "cell_type": "markdown",
      "source": [
        "### Seems there are no missing values. However, when we merge the dataset or assign the values of ranking to fifa results table we are likely to get missing values "
      ],
      "metadata": {}
    },
    {
      "cell_type": "code",
      "execution_count": 172,
      "source": [
        "# Dealing with the Missing Data\r\n",
        "#"
      ],
      "outputs": [],
      "metadata": {
        "id": "MpsDGKZHsf_W"
      }
    },
    {
      "cell_type": "markdown",
      "source": [
        "###  More data cleaning procedures"
      ],
      "metadata": {}
    },
    {
      "cell_type": "code",
      "execution_count": 173,
      "source": [
        "#Add year to the two datasets using dt.year method \r\n",
        "fifa_results['Year']= fifa_results['date'].dt.year\r\n",
        "fifa_ranking['Year']=fifa_ranking['rank_date'].dt.year"
      ],
      "outputs": [],
      "metadata": {}
    },
    {
      "cell_type": "code",
      "execution_count": 174,
      "source": [
        "# Creating a dataset of fifa results to incorporat only years that are in fifa ranking\r\n",
        "Years = list(fifa_ranking['Year'].unique())\r\n",
        "#get those games from 1993 when fifa started ranking teams\r\n",
        "fifa_results = fifa_results[fifa_results['Year'].isin(Years)]\r\n",
        "fifa_results\r\n",
        "\r\n",
        "#"
      ],
      "outputs": [
        {
          "output_type": "execute_result",
          "data": {
            "text/html": [
              "<div>\n",
              "<style scoped>\n",
              "    .dataframe tbody tr th:only-of-type {\n",
              "        vertical-align: middle;\n",
              "    }\n",
              "\n",
              "    .dataframe tbody tr th {\n",
              "        vertical-align: top;\n",
              "    }\n",
              "\n",
              "    .dataframe thead th {\n",
              "        text-align: right;\n",
              "    }\n",
              "</style>\n",
              "<table border=\"1\" class=\"dataframe\">\n",
              "  <thead>\n",
              "    <tr style=\"text-align: right;\">\n",
              "      <th></th>\n",
              "      <th>date</th>\n",
              "      <th>home_team</th>\n",
              "      <th>away_team</th>\n",
              "      <th>home_score</th>\n",
              "      <th>away_score</th>\n",
              "      <th>tournament</th>\n",
              "      <th>city</th>\n",
              "      <th>country</th>\n",
              "      <th>neutral</th>\n",
              "      <th>Year</th>\n",
              "    </tr>\n",
              "  </thead>\n",
              "  <tbody>\n",
              "    <tr>\n",
              "      <th>17361</th>\n",
              "      <td>1993-01-01</td>\n",
              "      <td>Ghana</td>\n",
              "      <td>Mali</td>\n",
              "      <td>1</td>\n",
              "      <td>1</td>\n",
              "      <td>Friendly</td>\n",
              "      <td>Libreville</td>\n",
              "      <td>Gabon</td>\n",
              "      <td>True</td>\n",
              "      <td>1993</td>\n",
              "    </tr>\n",
              "    <tr>\n",
              "      <th>17362</th>\n",
              "      <td>1993-01-02</td>\n",
              "      <td>Gabon</td>\n",
              "      <td>Burkina Faso</td>\n",
              "      <td>1</td>\n",
              "      <td>1</td>\n",
              "      <td>Friendly</td>\n",
              "      <td>Libreville</td>\n",
              "      <td>Gabon</td>\n",
              "      <td>False</td>\n",
              "      <td>1993</td>\n",
              "    </tr>\n",
              "    <tr>\n",
              "      <th>17363</th>\n",
              "      <td>1993-01-02</td>\n",
              "      <td>Kuwait</td>\n",
              "      <td>Lebanon</td>\n",
              "      <td>2</td>\n",
              "      <td>0</td>\n",
              "      <td>Friendly</td>\n",
              "      <td>Kuwait City</td>\n",
              "      <td>Kuwait</td>\n",
              "      <td>False</td>\n",
              "      <td>1993</td>\n",
              "    </tr>\n",
              "    <tr>\n",
              "      <th>17364</th>\n",
              "      <td>1993-01-03</td>\n",
              "      <td>Burkina Faso</td>\n",
              "      <td>Mali</td>\n",
              "      <td>1</td>\n",
              "      <td>0</td>\n",
              "      <td>Friendly</td>\n",
              "      <td>Libreville</td>\n",
              "      <td>Gabon</td>\n",
              "      <td>True</td>\n",
              "      <td>1993</td>\n",
              "    </tr>\n",
              "    <tr>\n",
              "      <th>17365</th>\n",
              "      <td>1993-01-03</td>\n",
              "      <td>Gabon</td>\n",
              "      <td>Ghana</td>\n",
              "      <td>2</td>\n",
              "      <td>3</td>\n",
              "      <td>Friendly</td>\n",
              "      <td>Libreville</td>\n",
              "      <td>Gabon</td>\n",
              "      <td>False</td>\n",
              "      <td>1993</td>\n",
              "    </tr>\n",
              "    <tr>\n",
              "      <th>...</th>\n",
              "      <td>...</td>\n",
              "      <td>...</td>\n",
              "      <td>...</td>\n",
              "      <td>...</td>\n",
              "      <td>...</td>\n",
              "      <td>...</td>\n",
              "      <td>...</td>\n",
              "      <td>...</td>\n",
              "      <td>...</td>\n",
              "      <td>...</td>\n",
              "    </tr>\n",
              "    <tr>\n",
              "      <th>40346</th>\n",
              "      <td>2018-12-30</td>\n",
              "      <td>Yemen</td>\n",
              "      <td>Syria</td>\n",
              "      <td>0</td>\n",
              "      <td>1</td>\n",
              "      <td>Friendly</td>\n",
              "      <td>Abu Dhabi</td>\n",
              "      <td>United Arab Emirates</td>\n",
              "      <td>True</td>\n",
              "      <td>2018</td>\n",
              "    </tr>\n",
              "    <tr>\n",
              "      <th>40347</th>\n",
              "      <td>2018-12-31</td>\n",
              "      <td>South Korea</td>\n",
              "      <td>Saudi Arabia</td>\n",
              "      <td>0</td>\n",
              "      <td>0</td>\n",
              "      <td>Friendly</td>\n",
              "      <td>Abu Dhabi</td>\n",
              "      <td>United Arab Emirates</td>\n",
              "      <td>True</td>\n",
              "      <td>2018</td>\n",
              "    </tr>\n",
              "    <tr>\n",
              "      <th>40348</th>\n",
              "      <td>2018-12-31</td>\n",
              "      <td>Kyrgyzstan</td>\n",
              "      <td>Palestine</td>\n",
              "      <td>2</td>\n",
              "      <td>1</td>\n",
              "      <td>Friendly</td>\n",
              "      <td>Doha</td>\n",
              "      <td>Qatar</td>\n",
              "      <td>True</td>\n",
              "      <td>2018</td>\n",
              "    </tr>\n",
              "    <tr>\n",
              "      <th>40349</th>\n",
              "      <td>2018-12-31</td>\n",
              "      <td>Philippines</td>\n",
              "      <td>Vietnam</td>\n",
              "      <td>2</td>\n",
              "      <td>4</td>\n",
              "      <td>Friendly</td>\n",
              "      <td>Doha</td>\n",
              "      <td>Qatar</td>\n",
              "      <td>True</td>\n",
              "      <td>2018</td>\n",
              "    </tr>\n",
              "    <tr>\n",
              "      <th>40350</th>\n",
              "      <td>2018-12-31</td>\n",
              "      <td>Qatar</td>\n",
              "      <td>Iran</td>\n",
              "      <td>1</td>\n",
              "      <td>2</td>\n",
              "      <td>Friendly</td>\n",
              "      <td>Doha</td>\n",
              "      <td>Qatar</td>\n",
              "      <td>False</td>\n",
              "      <td>2018</td>\n",
              "    </tr>\n",
              "  </tbody>\n",
              "</table>\n",
              "<p>22990 rows × 10 columns</p>\n",
              "</div>"
            ],
            "text/plain": [
              "            date     home_team     away_team  home_score  away_score  \\\n",
              "17361 1993-01-01         Ghana          Mali           1           1   \n",
              "17362 1993-01-02         Gabon  Burkina Faso           1           1   \n",
              "17363 1993-01-02        Kuwait       Lebanon           2           0   \n",
              "17364 1993-01-03  Burkina Faso          Mali           1           0   \n",
              "17365 1993-01-03         Gabon         Ghana           2           3   \n",
              "...          ...           ...           ...         ...         ...   \n",
              "40346 2018-12-30         Yemen         Syria           0           1   \n",
              "40347 2018-12-31   South Korea  Saudi Arabia           0           0   \n",
              "40348 2018-12-31    Kyrgyzstan     Palestine           2           1   \n",
              "40349 2018-12-31   Philippines       Vietnam           2           4   \n",
              "40350 2018-12-31         Qatar          Iran           1           2   \n",
              "\n",
              "      tournament         city               country  neutral  Year  \n",
              "17361   Friendly   Libreville                 Gabon     True  1993  \n",
              "17362   Friendly   Libreville                 Gabon    False  1993  \n",
              "17363   Friendly  Kuwait City                Kuwait    False  1993  \n",
              "17364   Friendly   Libreville                 Gabon     True  1993  \n",
              "17365   Friendly   Libreville                 Gabon    False  1993  \n",
              "...          ...          ...                   ...      ...   ...  \n",
              "40346   Friendly    Abu Dhabi  United Arab Emirates     True  2018  \n",
              "40347   Friendly    Abu Dhabi  United Arab Emirates     True  2018  \n",
              "40348   Friendly         Doha                 Qatar     True  2018  \n",
              "40349   Friendly         Doha                 Qatar     True  2018  \n",
              "40350   Friendly         Doha                 Qatar    False  2018  \n",
              "\n",
              "[22990 rows x 10 columns]"
            ]
          },
          "metadata": {},
          "execution_count": 174
        }
      ],
      "metadata": {
        "id": "D-4I__6Os4C5"
      }
    },
    {
      "cell_type": "code",
      "execution_count": 175,
      "source": [
        "# create a new dataframe for fifa ranking that wwill show teams and ranks per year\r\n",
        "new_ranks=fifa_ranking.set_index('country_full')[['rank','Year']].drop_duplicates().reset_index()\r\n",
        "new_ranks.head()"
      ],
      "outputs": [
        {
          "output_type": "execute_result",
          "data": {
            "text/html": [
              "<div>\n",
              "<style scoped>\n",
              "    .dataframe tbody tr th:only-of-type {\n",
              "        vertical-align: middle;\n",
              "    }\n",
              "\n",
              "    .dataframe tbody tr th {\n",
              "        vertical-align: top;\n",
              "    }\n",
              "\n",
              "    .dataframe thead th {\n",
              "        text-align: right;\n",
              "    }\n",
              "</style>\n",
              "<table border=\"1\" class=\"dataframe\">\n",
              "  <thead>\n",
              "    <tr style=\"text-align: right;\">\n",
              "      <th></th>\n",
              "      <th>country_full</th>\n",
              "      <th>rank</th>\n",
              "      <th>Year</th>\n",
              "    </tr>\n",
              "  </thead>\n",
              "  <tbody>\n",
              "    <tr>\n",
              "      <th>0</th>\n",
              "      <td>Germany</td>\n",
              "      <td>1</td>\n",
              "      <td>1993</td>\n",
              "    </tr>\n",
              "    <tr>\n",
              "      <th>1</th>\n",
              "      <td>Italy</td>\n",
              "      <td>2</td>\n",
              "      <td>1993</td>\n",
              "    </tr>\n",
              "    <tr>\n",
              "      <th>2</th>\n",
              "      <td>Switzerland</td>\n",
              "      <td>3</td>\n",
              "      <td>1993</td>\n",
              "    </tr>\n",
              "    <tr>\n",
              "      <th>3</th>\n",
              "      <td>Sweden</td>\n",
              "      <td>4</td>\n",
              "      <td>1993</td>\n",
              "    </tr>\n",
              "    <tr>\n",
              "      <th>4</th>\n",
              "      <td>Argentina</td>\n",
              "      <td>5</td>\n",
              "      <td>1993</td>\n",
              "    </tr>\n",
              "  </tbody>\n",
              "</table>\n",
              "</div>"
            ],
            "text/plain": [
              "  country_full  rank  Year\n",
              "0      Germany     1  1993\n",
              "1        Italy     2  1993\n",
              "2  Switzerland     3  1993\n",
              "3       Sweden     4  1993\n",
              "4    Argentina     5  1993"
            ]
          },
          "metadata": {},
          "execution_count": 175
        }
      ],
      "metadata": {}
    },
    {
      "cell_type": "markdown",
      "source": [
        "### append ranks and results to fifa results table"
      ],
      "metadata": {}
    },
    {
      "cell_type": "code",
      "execution_count": 176,
      "source": [
        "# Function to append home and away rank\r\n",
        "def update_rank(country, year):\r\n",
        "    home_rank= new_ranks[(new_ranks['country_full']==country) & (new_ranks['Year']==year)]['rank'].values#.reshape([1])\r\n",
        "    return home_rank"
      ],
      "outputs": [],
      "metadata": {}
    },
    {
      "cell_type": "code",
      "execution_count": 177,
      "source": [
        "#Append home rank using the function by creating  a new column \r\n",
        "fifa_results['Home_rank'] = fifa_results.apply(lambda x: update_rank(x['home_team'], x['Year']), axis=1)\r\n"
      ],
      "outputs": [],
      "metadata": {}
    },
    {
      "cell_type": "code",
      "execution_count": 178,
      "source": [
        "#Append home rank using the function by creating  a new column \r\n",
        "fifa_results['Away_rank'] = fifa_results.apply(lambda x: update_rank(x['away_team'], x['Year']), axis=1)"
      ],
      "outputs": [],
      "metadata": {}
    },
    {
      "cell_type": "code",
      "execution_count": 179,
      "source": [
        "#Outpu the file \r\n",
        "#fifa_results.to_csv('data/fifa_results.csv')"
      ],
      "outputs": [],
      "metadata": {}
    },
    {
      "cell_type": "code",
      "execution_count": 180,
      "source": [
        "# Read the new cleaned dataset \r\n",
        "fifa_df = pd.read_csv('fifa_results_ranks.csv')\r\n",
        "fifa_df['Home_rank']=fifa_df['Home_rank'].str.split(' ').str[0]\r\n",
        "fifa_df['Away_rank']=fifa_df['Away_rank'].str.split(' ').str[0]\r\n",
        "fifa_df['Home_rank']=fifa_df['Home_rank'].apply(pd.to_numeric)\r\n",
        "fifa_df['Away_rank']=fifa_df['Away_rank'].apply(pd.to_numeric)\r\n",
        "fifa_df.dropna(inplace=True)"
      ],
      "outputs": [],
      "metadata": {}
    },
    {
      "cell_type": "code",
      "execution_count": 181,
      "source": [
        "# Convert home rand and away rank to integer for use in the machine learning\r\n",
        "fifa_df['Home_rank']=fifa_df['Home_rank'].astype(int)\r\n",
        "fifa_df['Away_rank']=fifa_df['Away_rank'].astype(int)\r\n",
        "\r\n"
      ],
      "outputs": [],
      "metadata": {}
    },
    {
      "cell_type": "code",
      "execution_count": 182,
      "source": [
        "# add results D,W,L as per the match results\r\n",
        "#create status column for home perspective \r\n",
        "def status_col(home_score,away_score):\r\n",
        "    if home_score>away_score:\r\n",
        "        results = 'W'\r\n",
        "    elif home_score<away_score:\r\n",
        "        results = 'L'\r\n",
        "    else:\r\n",
        "        results = 'D'\r\n",
        "    return results\r\n",
        "fifa_df['Results'] = fifa_df.apply(lambda x: status_col(x['home_score'], x['away_score']), axis=1)"
      ],
      "outputs": [],
      "metadata": {}
    },
    {
      "cell_type": "code",
      "execution_count": 183,
      "source": [
        "#convert tournaments to categorial \r\n",
        "def convert_categorical_cols(data,col):\r\n",
        "    colum_values = list(data[col].unique())\r\n",
        "    dicts = {}\r\n",
        "    values = range(len(colum_values))\r\n",
        "    for i in range(len(colum_values)):\r\n",
        "        dicts[colum_values[i]] = values[i]\r\n",
        "        values = range(len(colum_values))\r\n",
        "    print(dicts)\r\n",
        "    data[col]=data[col].map(dicts)\r\n",
        "#The function takes the dataset and the column and create a dictionary that maps all unique \r\n",
        "# column values to numerical values for machine learning \r\n",
        "convert_categorical_cols(fifa_df,'tournament')"
      ],
      "outputs": [
        {
          "output_type": "stream",
          "name": "stdout",
          "text": [
            "{'Friendly': 0, 'African Cup of Nations qualification': 1, 'FIFA World Cup qualification': 2, 'Nehru Cup': 3, 'Merdeka Tournament': 4, \"King's Cup\": 5, 'UNCAF Cup': 6, 'Copa Paz del Chaco': 7, 'Kirin Cup': 8, 'CFU Caribbean Cup qualification': 9, 'CFU Caribbean Cup': 10, 'USA Cup': 11, 'Copa América': 12, 'Korea Cup': 13, 'Baltic Cup': 14, 'Gold Cup': 15, 'Amílcar Cabral Cup': 16, 'United Arab Emirates Friendship Tournament': 17, 'Malta International Tournament': 18, 'African Cup of Nations': 19, 'FIFA World Cup': 20, 'Oceania Nations Cup qualification': 21, 'UEFA Euro qualification': 22, 'Gulf Cup': 23, 'Simba Tournament': 24, 'CECAFA Cup': 25, 'Confederations Cup': 26, 'Dynasty Cup': 27, 'SAFF Cup': 28, 'South Pacific Games': 29, 'Oceania Nations Cup': 30, 'Windward Islands Tournament': 31, 'AFC Asian Cup qualification': 32, 'Lunar New Year Cup': 33, 'UEFA Euro': 34, 'AFF Championship': 35, 'AFC Asian Cup': 36, 'King Hassan II Tournament': 37, 'Cyprus International Tournament': 38, 'Dunhill Cup': 39, 'COSAFA Cup': 40, 'Tournoi de France': 41, 'UAFA Cup': 42, 'Gold Cup qualification': 43, 'UNIFFAC Cup': 44, 'Nordic Championship': 45, 'WAFF Championship': 46, 'Millennium Cup': 47, \"Prime Minister's Cup\": 48, 'SKN Football Festival': 49, 'EAFF Championship': 50, 'AFC Challenge Cup': 51, 'UAFA Cup qualification': 52, 'AFC Challenge Cup qualification': 53, 'African Nations Championship': 54, 'VFF Cup': 55, 'Dragon Cup': 56, 'Nile Basin Tournament': 57, 'Nations Cup': 58, 'Pacific Games': 59, 'ABCS Tournament': 60, 'Copa del Pacífico': 61, 'OSN Cup': 62, 'Copa América qualification': 63, 'Intercontinental Cup': 64, 'UEFA Nations League': 65}\n"
          ]
        }
      ],
      "metadata": {}
    },
    {
      "cell_type": "code",
      "execution_count": 184,
      "source": [
        "fifa_df.head()"
      ],
      "outputs": [
        {
          "output_type": "execute_result",
          "data": {
            "text/html": [
              "<div>\n",
              "<style scoped>\n",
              "    .dataframe tbody tr th:only-of-type {\n",
              "        vertical-align: middle;\n",
              "    }\n",
              "\n",
              "    .dataframe tbody tr th {\n",
              "        vertical-align: top;\n",
              "    }\n",
              "\n",
              "    .dataframe thead th {\n",
              "        text-align: right;\n",
              "    }\n",
              "</style>\n",
              "<table border=\"1\" class=\"dataframe\">\n",
              "  <thead>\n",
              "    <tr style=\"text-align: right;\">\n",
              "      <th></th>\n",
              "      <th>Unnamed: 0</th>\n",
              "      <th>date</th>\n",
              "      <th>home_team</th>\n",
              "      <th>away_team</th>\n",
              "      <th>home_score</th>\n",
              "      <th>away_score</th>\n",
              "      <th>tournament</th>\n",
              "      <th>city</th>\n",
              "      <th>country</th>\n",
              "      <th>neutral</th>\n",
              "      <th>Year</th>\n",
              "      <th>Home_rank</th>\n",
              "      <th>Away_rank</th>\n",
              "      <th>Results</th>\n",
              "    </tr>\n",
              "  </thead>\n",
              "  <tbody>\n",
              "    <tr>\n",
              "      <th>0</th>\n",
              "      <td>17361</td>\n",
              "      <td>1/1/1993</td>\n",
              "      <td>Ghana</td>\n",
              "      <td>Mali</td>\n",
              "      <td>1</td>\n",
              "      <td>1</td>\n",
              "      <td>0</td>\n",
              "      <td>Libreville</td>\n",
              "      <td>Gabon</td>\n",
              "      <td>True</td>\n",
              "      <td>1993</td>\n",
              "      <td>48</td>\n",
              "      <td>74</td>\n",
              "      <td>D</td>\n",
              "    </tr>\n",
              "    <tr>\n",
              "      <th>1</th>\n",
              "      <td>17362</td>\n",
              "      <td>1/2/1993</td>\n",
              "      <td>Gabon</td>\n",
              "      <td>Burkina Faso</td>\n",
              "      <td>1</td>\n",
              "      <td>1</td>\n",
              "      <td>0</td>\n",
              "      <td>Libreville</td>\n",
              "      <td>Gabon</td>\n",
              "      <td>False</td>\n",
              "      <td>1993</td>\n",
              "      <td>64</td>\n",
              "      <td>113</td>\n",
              "      <td>D</td>\n",
              "    </tr>\n",
              "    <tr>\n",
              "      <th>2</th>\n",
              "      <td>17363</td>\n",
              "      <td>1/2/1993</td>\n",
              "      <td>Kuwait</td>\n",
              "      <td>Lebanon</td>\n",
              "      <td>2</td>\n",
              "      <td>0</td>\n",
              "      <td>0</td>\n",
              "      <td>Kuwait City</td>\n",
              "      <td>Kuwait</td>\n",
              "      <td>False</td>\n",
              "      <td>1993</td>\n",
              "      <td>60</td>\n",
              "      <td>108</td>\n",
              "      <td>W</td>\n",
              "    </tr>\n",
              "    <tr>\n",
              "      <th>3</th>\n",
              "      <td>17364</td>\n",
              "      <td>1/3/1993</td>\n",
              "      <td>Burkina Faso</td>\n",
              "      <td>Mali</td>\n",
              "      <td>1</td>\n",
              "      <td>0</td>\n",
              "      <td>0</td>\n",
              "      <td>Libreville</td>\n",
              "      <td>Gabon</td>\n",
              "      <td>True</td>\n",
              "      <td>1993</td>\n",
              "      <td>113</td>\n",
              "      <td>74</td>\n",
              "      <td>W</td>\n",
              "    </tr>\n",
              "    <tr>\n",
              "      <th>4</th>\n",
              "      <td>17365</td>\n",
              "      <td>1/3/1993</td>\n",
              "      <td>Gabon</td>\n",
              "      <td>Ghana</td>\n",
              "      <td>2</td>\n",
              "      <td>3</td>\n",
              "      <td>0</td>\n",
              "      <td>Libreville</td>\n",
              "      <td>Gabon</td>\n",
              "      <td>False</td>\n",
              "      <td>1993</td>\n",
              "      <td>64</td>\n",
              "      <td>48</td>\n",
              "      <td>L</td>\n",
              "    </tr>\n",
              "  </tbody>\n",
              "</table>\n",
              "</div>"
            ],
            "text/plain": [
              "   Unnamed: 0      date     home_team     away_team  home_score  away_score  \\\n",
              "0       17361  1/1/1993         Ghana          Mali           1           1   \n",
              "1       17362  1/2/1993         Gabon  Burkina Faso           1           1   \n",
              "2       17363  1/2/1993        Kuwait       Lebanon           2           0   \n",
              "3       17364  1/3/1993  Burkina Faso          Mali           1           0   \n",
              "4       17365  1/3/1993         Gabon         Ghana           2           3   \n",
              "\n",
              "   tournament         city country  neutral  Year  Home_rank  Away_rank  \\\n",
              "0           0   Libreville   Gabon     True  1993         48         74   \n",
              "1           0   Libreville   Gabon    False  1993         64        113   \n",
              "2           0  Kuwait City  Kuwait    False  1993         60        108   \n",
              "3           0   Libreville   Gabon     True  1993        113         74   \n",
              "4           0   Libreville   Gabon    False  1993         64         48   \n",
              "\n",
              "  Results  \n",
              "0       D  \n",
              "1       D  \n",
              "2       W  \n",
              "3       W  \n",
              "4       L  "
            ]
          },
          "metadata": {},
          "execution_count": 184
        }
      ],
      "metadata": {}
    },
    {
      "cell_type": "markdown",
      "source": [
        "## 6. Exploratory Analysis"
      ],
      "metadata": {
        "id": "rF2ABPsHUtbZ"
      }
    },
    {
      "cell_type": "code",
      "execution_count": 185,
      "source": [
        "# Chcck the correlations between numeric variables \r\n",
        "fifa_df.corr()\r\n",
        "\r\n",
        "#It shows that home score is negatively correlated to home rank. \r\n",
        "# This is because when a rank is high, the team perfemace is not good\r\n",
        "#same case for away rank and score. \r\n"
      ],
      "outputs": [
        {
          "output_type": "execute_result",
          "data": {
            "text/html": [
              "<div>\n",
              "<style scoped>\n",
              "    .dataframe tbody tr th:only-of-type {\n",
              "        vertical-align: middle;\n",
              "    }\n",
              "\n",
              "    .dataframe tbody tr th {\n",
              "        vertical-align: top;\n",
              "    }\n",
              "\n",
              "    .dataframe thead th {\n",
              "        text-align: right;\n",
              "    }\n",
              "</style>\n",
              "<table border=\"1\" class=\"dataframe\">\n",
              "  <thead>\n",
              "    <tr style=\"text-align: right;\">\n",
              "      <th></th>\n",
              "      <th>Unnamed: 0</th>\n",
              "      <th>home_score</th>\n",
              "      <th>away_score</th>\n",
              "      <th>tournament</th>\n",
              "      <th>neutral</th>\n",
              "      <th>Year</th>\n",
              "      <th>Home_rank</th>\n",
              "      <th>Away_rank</th>\n",
              "    </tr>\n",
              "  </thead>\n",
              "  <tbody>\n",
              "    <tr>\n",
              "      <th>Unnamed: 0</th>\n",
              "      <td>1.000000</td>\n",
              "      <td>-0.040761</td>\n",
              "      <td>-0.008504</td>\n",
              "      <td>0.101147</td>\n",
              "      <td>0.023187</td>\n",
              "      <td>0.998416</td>\n",
              "      <td>0.087538</td>\n",
              "      <td>0.089003</td>\n",
              "    </tr>\n",
              "    <tr>\n",
              "      <th>home_score</th>\n",
              "      <td>-0.040761</td>\n",
              "      <td>1.000000</td>\n",
              "      <td>-0.162024</td>\n",
              "      <td>0.003977</td>\n",
              "      <td>-0.050210</td>\n",
              "      <td>-0.040476</td>\n",
              "      <td>-0.128491</td>\n",
              "      <td>0.303097</td>\n",
              "    </tr>\n",
              "    <tr>\n",
              "      <th>away_score</th>\n",
              "      <td>-0.008504</td>\n",
              "      <td>-0.162024</td>\n",
              "      <td>1.000000</td>\n",
              "      <td>0.039056</td>\n",
              "      <td>0.094757</td>\n",
              "      <td>-0.009207</td>\n",
              "      <td>0.203457</td>\n",
              "      <td>-0.167258</td>\n",
              "    </tr>\n",
              "    <tr>\n",
              "      <th>tournament</th>\n",
              "      <td>0.101147</td>\n",
              "      <td>0.003977</td>\n",
              "      <td>0.039056</td>\n",
              "      <td>1.000000</td>\n",
              "      <td>0.293839</td>\n",
              "      <td>0.100909</td>\n",
              "      <td>0.120080</td>\n",
              "      <td>0.122690</td>\n",
              "    </tr>\n",
              "    <tr>\n",
              "      <th>neutral</th>\n",
              "      <td>0.023187</td>\n",
              "      <td>-0.050210</td>\n",
              "      <td>0.094757</td>\n",
              "      <td>0.293839</td>\n",
              "      <td>1.000000</td>\n",
              "      <td>0.026886</td>\n",
              "      <td>0.003402</td>\n",
              "      <td>0.018748</td>\n",
              "    </tr>\n",
              "    <tr>\n",
              "      <th>Year</th>\n",
              "      <td>0.998416</td>\n",
              "      <td>-0.040476</td>\n",
              "      <td>-0.009207</td>\n",
              "      <td>0.100909</td>\n",
              "      <td>0.026886</td>\n",
              "      <td>1.000000</td>\n",
              "      <td>0.089285</td>\n",
              "      <td>0.090771</td>\n",
              "    </tr>\n",
              "    <tr>\n",
              "      <th>Home_rank</th>\n",
              "      <td>0.087538</td>\n",
              "      <td>-0.128491</td>\n",
              "      <td>0.203457</td>\n",
              "      <td>0.120080</td>\n",
              "      <td>0.003402</td>\n",
              "      <td>0.089285</td>\n",
              "      <td>1.000000</td>\n",
              "      <td>0.472720</td>\n",
              "    </tr>\n",
              "    <tr>\n",
              "      <th>Away_rank</th>\n",
              "      <td>0.089003</td>\n",
              "      <td>0.303097</td>\n",
              "      <td>-0.167258</td>\n",
              "      <td>0.122690</td>\n",
              "      <td>0.018748</td>\n",
              "      <td>0.090771</td>\n",
              "      <td>0.472720</td>\n",
              "      <td>1.000000</td>\n",
              "    </tr>\n",
              "  </tbody>\n",
              "</table>\n",
              "</div>"
            ],
            "text/plain": [
              "            Unnamed: 0  home_score  away_score  tournament   neutral  \\\n",
              "Unnamed: 0    1.000000   -0.040761   -0.008504    0.101147  0.023187   \n",
              "home_score   -0.040761    1.000000   -0.162024    0.003977 -0.050210   \n",
              "away_score   -0.008504   -0.162024    1.000000    0.039056  0.094757   \n",
              "tournament    0.101147    0.003977    0.039056    1.000000  0.293839   \n",
              "neutral       0.023187   -0.050210    0.094757    0.293839  1.000000   \n",
              "Year          0.998416   -0.040476   -0.009207    0.100909  0.026886   \n",
              "Home_rank     0.087538   -0.128491    0.203457    0.120080  0.003402   \n",
              "Away_rank     0.089003    0.303097   -0.167258    0.122690  0.018748   \n",
              "\n",
              "                Year  Home_rank  Away_rank  \n",
              "Unnamed: 0  0.998416   0.087538   0.089003  \n",
              "home_score -0.040476  -0.128491   0.303097  \n",
              "away_score -0.009207   0.203457  -0.167258  \n",
              "tournament  0.100909   0.120080   0.122690  \n",
              "neutral     0.026886   0.003402   0.018748  \n",
              "Year        1.000000   0.089285   0.090771  \n",
              "Home_rank   0.089285   1.000000   0.472720  \n",
              "Away_rank   0.090771   0.472720   1.000000  "
            ]
          },
          "metadata": {},
          "execution_count": 185
        }
      ],
      "metadata": {
        "id": "5nnRToniXGDK"
      }
    },
    {
      "cell_type": "code",
      "execution_count": 186,
      "source": [
        "#Plot a graph on the for wins losses and draws for home team\r\n",
        "#This shows that home teams win more than away team. Draws and losses seems to be balanced. \r\n",
        "fifa_df['Results'].value_counts().plot(kind='bar')\r\n",
        "plt.title(\"Wins, losses and draws for home team\")\r\n",
        "plt.xlabel(\"Home outcomes\",fontsize=15)\r\n",
        "plt.ylabel(\"COUNT\",fontsize=15)\r\n",
        "\r\n"
      ],
      "outputs": [
        {
          "output_type": "execute_result",
          "data": {
            "text/plain": [
              "Text(0, 0.5, 'COUNT')"
            ]
          },
          "metadata": {},
          "execution_count": 186
        },
        {
          "output_type": "display_data",
          "data": {
            "image/png": "[encoded data removed]",
            "text/plain": [
              "<Figure size 432x288 with 1 Axes>"
            ]
          },
          "metadata": {
            "needs_background": "light"
          }
        }
      ],
      "metadata": {}
    },
    {
      "cell_type": "code",
      "execution_count": null,
      "source": [],
      "outputs": [],
      "metadata": {}
    },
    {
      "cell_type": "markdown",
      "source": [
        "## 7. Implementing the Solution"
      ],
      "metadata": {
        "id": "vTbdjSrhVIiT"
      }
    },
    {
      "cell_type": "markdown",
      "source": [
        "### Using logistics regression "
      ],
      "metadata": {}
    },
    {
      "cell_type": "code",
      "execution_count": 187,
      "source": [
        "#Logistic regression model \r\n",
        "X = fifa_df[['tournament','Home_rank','Away_rank']]\r\n",
        "y = fifa_df['Results']\r\n",
        "\r\n",
        "\r\n",
        "X_train, X_test, y_train, y_test = train_test_split(X, y, test_size=0.2, random_state=0)\r\n",
        "logmodel=LogisticRegression()\r\n",
        "logmodel.fit(X_train,y_train)"
      ],
      "outputs": [
        {
          "output_type": "execute_result",
          "data": {
            "text/plain": [
              "LogisticRegression()"
            ]
          },
          "metadata": {},
          "execution_count": 187
        }
      ],
      "metadata": {}
    },
    {
      "cell_type": "code",
      "execution_count": null,
      "source": [],
      "outputs": [],
      "metadata": {}
    },
    {
      "cell_type": "code",
      "execution_count": 188,
      "source": [
        "#making predictions \r\n",
        "predictions = logmodel.predict(X_test)\r\n"
      ],
      "outputs": [],
      "metadata": {}
    },
    {
      "cell_type": "code",
      "execution_count": 189,
      "source": [
        "#check perfomance \r\n",
        "print(classification_report(y_test, predictions))\r\n",
        "print(confusion_matrix(y_test,predictions))\r\n",
        "print('XXXXXXXXXXXXXXXXXXXXXXXXXXXXXXXXXXXXXXXXXXXXXXX')\r\n",
        "print(print('Accuracy' , accuracy_score(y_test, predictions)))\r\n",
        "#The model has performed averagely 55% which is not soo good to help in predicting\r\n",
        "#For draws, the models was unable to predict any. Its mostly able to predict win or loss\r\n"
      ],
      "outputs": [
        {
          "output_type": "stream",
          "name": "stdout",
          "text": [
            "              precision    recall  f1-score   support\n",
            "\n",
            "           D       0.00      0.00      0.00       777\n",
            "           L       0.48      0.52      0.50       937\n",
            "           W       0.58      0.84      0.69      1586\n",
            "\n",
            "    accuracy                           0.55      3300\n",
            "   macro avg       0.36      0.45      0.40      3300\n",
            "weighted avg       0.42      0.55      0.47      3300\n",
            "\n",
            "[[   0  264  513]\n",
            " [   0  489  448]\n",
            " [   0  256 1330]]\n",
            "XXXXXXXXXXXXXXXXXXXXXXXXXXXXXXXXXXXXXXXXXXXXXXX\n",
            "Accuracy 0.5512121212121213\n",
            "None\n"
          ]
        },
        {
          "output_type": "stream",
          "name": "stderr",
          "text": [
            "C:\\Users\\ronal\\anaconda3\\lib\\site-packages\\sklearn\\metrics\\_classification.py:1221: UndefinedMetricWarning: Precision and F-score are ill-defined and being set to 0.0 in labels with no predicted samples. Use `zero_division` parameter to control this behavior.\n",
            "  _warn_prf(average, modifier, msg_start, len(result))\n"
          ]
        }
      ],
      "metadata": {}
    },
    {
      "cell_type": "markdown",
      "source": [
        "## 8. Challenging the solution"
      ],
      "metadata": {
        "id": "lQ2G4ZPDVOXE"
      }
    },
    {
      "cell_type": "markdown",
      "source": [
        "> Our model might not be able to give correct predition given the surprising perfomance of footbal teams. Some teams that are highly ranked are beaten hence a winn turns to be a loss\r\n",
        "\r\n",
        "\r\n",
        "\r\n",
        "\r\n",
        "\r\n"
      ],
      "metadata": {
        "id": "jWVGKGuiYMWg"
      }
    },
    {
      "cell_type": "code",
      "execution_count": 190,
      "source": [
        "# Reviewing the Solution \r\n",
        "#"
      ],
      "outputs": [],
      "metadata": {
        "id": "j3x3SXZ4XT_L"
      }
    },
    {
      "cell_type": "markdown",
      "source": [
        "## 9. Follow up questions"
      ],
      "metadata": {
        "id": "xrmHVMVsVS--"
      }
    },
    {
      "cell_type": "markdown",
      "source": [
        "> At this point, we can refine our question or collect new data, all in an iterative process to get at the truth.\n",
        "\n"
      ],
      "metadata": {
        "id": "pth2qSWhuBIy"
      }
    },
    {
      "cell_type": "markdown",
      "source": [
        "### a). Did we have the right data?\r\n",
        "Yes. Data given was well and enough to create  a model "
      ],
      "metadata": {
        "id": "HPQviDmNtta8"
      }
    },
    {
      "cell_type": "markdown",
      "source": [
        "### b). Do we need other data to answer our question?\r\n",
        "\r\n",
        "No"
      ],
      "metadata": {
        "id": "qjFHK1CKty7o"
      }
    },
    {
      "cell_type": "markdown",
      "source": [
        "### c). Did we have the right question?\r\n",
        "\r\n",
        "The question is well framed. Many companies need such questiona nd models to help gamblers predict the outcomes of games. Betting companies also need such models to know the odds to place on their games to avoid losses in betting."
      ],
      "metadata": {
        "id": "HSsicSdvt4Zs"
      }
    },
    {
      "cell_type": "markdown",
      "source": [],
      "metadata": {}
    }
  ]
}