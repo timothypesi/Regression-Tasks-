{
  "nbformat": 4,
  "nbformat_minor": 2,
  "metadata": {
    "colab": {
      "name": " Cross Validation.ipynb",
      "provenance": [],
      "collapsed_sections": []
    },
    "kernelspec": {
      "name": "python3",
      "display_name": "Python 3.8.5 64-bit ('base': conda)"
    },
    "language_info": {
      "name": "python",
      "version": "3.8.5",
      "mimetype": "text/x-python",
      "codemirror_mode": {
        "name": "ipython",
        "version": 3
      },
      "pygments_lexer": "ipython3",
      "nbconvert_exporter": "python",
      "file_extension": ".py"
    },
    "interpreter": {
      "hash": "8e24f623c9d976e65e43b538ecbbc4d478524c94015e92b14b460358aba5245a"
    }
  },
  "cells": [
    {
      "cell_type": "markdown",
      "source": [
        "# Examples\n",
        "\n",
        "Let's figure out how to perform k-fold cross validation. For this, we will use the university acceptance dataset from Monday again. If you need to download it again, do so at this [link](https://drive.google.com/open?id=13HPgfc4HP9UP-gHM2lutJ7MXSt-dAL1d)\n",
        "\n",
        "We will first start by creating a multivariate model, and assessing it's accuracy."
      ],
      "metadata": {
        "id": "K0O3yu-gZ7Pf"
      }
    },
    {
      "cell_type": "code",
      "execution_count": 8,
      "source": [
        "import numpy as np\r\n",
        "import pandas as pd\r\n",
        "from sklearn.model_selection import train_test_split\r\n",
        "from sklearn.linear_model import LinearRegression\r\n",
        "from sklearn import metrics\r\n",
        "\r\n",
        "#load the data\r\n",
        "data = pd.read_csv('data/uni_admission.csv')\r\n",
        "\r\n",
        "# We will use 4 independent variables for this\r\n",
        "X = data[['GRE', 'TOEFL', 'SOP', 'LOR']].values\r\n",
        "y = data['admit_chance'].values\r\n",
        "\r\n",
        "# Train using 80% of the data.\r\n",
        "X_train, X_test, y_train, y_test = train_test_split(X, y, test_size=0.2, random_state=0)\r\n",
        "\r\n",
        "# find optimal coefficients and intercept\r\n",
        "regressor = LinearRegression()  \r\n",
        "regressor.fit(X_train, y_train)\r\n",
        "\r\n",
        "# assess the accuraccy of the model\r\n",
        "y_pred = regressor.predict(X_test)\r\n",
        "\r\n",
        "print('Mean Absolute Error:', metrics.mean_absolute_error(y_test, y_pred))  \r\n",
        "print('Mean Squared Error:', metrics.mean_squared_error(y_test, y_pred))  \r\n",
        "print('Root Mean Squared Error:', np.sqrt(metrics.mean_squared_error(y_test, y_pred)))"
      ],
      "outputs": [
        {
          "output_type": "stream",
          "name": "stdout",
          "text": [
            "Mean Absolute Error: 0.056914722197851236\n",
            "Mean Squared Error: 0.005725926473228667\n",
            "Root Mean Squared Error: 0.07566985181185878\n"
          ]
        }
      ],
      "metadata": {
        "id": "dqlTEur4ZqR3",
        "colab": {
          "base_uri": "https://localhost:8080/",
          "height": 84
        },
        "outputId": "92482dae-1793-4435-9435-d7e644fe3ab3"
      }
    },
    {
      "cell_type": "markdown",
      "source": [
        "Running the code above should yield an RMSE of ~ 0.0756. Let's now cross validate our model by using k-fold cross validation. We will use 5 folds for this example, and follow the documentation from [sklearn](https://https://scikit-learn.org/stable/modules/generated/sklearn.model_selection.KFold.html)"
      ],
      "metadata": {
        "id": "ESw9pMSei0zc"
      }
    },
    {
      "cell_type": "code",
      "execution_count": 9,
      "source": [
        "from sklearn.model_selection import KFold\r\n",
        "\r\n",
        "# We will use the same 4 independent variables for this\r\n",
        "X = data[['GRE', 'TOEFL', 'SOP', 'LOR']].values\r\n",
        "y = data['admit_chance'].values\r\n",
        "\r\n",
        "folds = KFold(n_splits=5)\r\n",
        "\r\n",
        "# note that if you have a KFold object, you can figure out how many folds you set up \r\n",
        "# for it using get_n_splits\r\n",
        "print('we are using ' +str(folds.get_n_splits(X)) + ' folds')\r\n",
        "\r\n",
        "# We now create and assess 5 models based on the folds we created.\r\n",
        "RMSES = [] # We will use this array to keep track of the RSME of each model\r\n",
        "count = 1 # This will just help \r\n",
        "for train_index, test_index in folds.split(X):\r\n",
        "  print('\\nTraining model ' + str(count))\r\n",
        "  \r\n",
        "  # set up the train and test based on the split determined by KFold\r\n",
        "  # With 5 folds, we will end up with 80% of our data in the training set, and 20% in the test set, just as above\r\n",
        "  X_train, X_test = X[train_index], X[test_index]\r\n",
        "  y_train, y_test = y[train_index], y[test_index]\r\n",
        "  \r\n",
        "  # fit a model accordingly\r\n",
        "  regressor = LinearRegression()  \r\n",
        "  regressor.fit(X_train, y_train)\r\n",
        "  \r\n",
        "  # assess the accuraccy of the model\r\n",
        "  y_pred = regressor.predict(X_test)\r\n",
        "  \r\n",
        "  rmse_value =  np.sqrt(metrics.mean_squared_error(y_test, y_pred))\r\n",
        "  RMSES.append(rmse_value)\r\n",
        "  \r\n",
        "  print('Model ' + str(count) + ' Root Mean Squared Error:',rmse_value)\r\n",
        "  count = count + 1"
      ],
      "outputs": [
        {
          "output_type": "stream",
          "name": "stdout",
          "text": [
            "we are using 5 folds\n",
            "\n",
            "Training model 1\n",
            "Model 1 Root Mean Squared Error: 0.11384971151782929\n",
            "\n",
            "Training model 2\n",
            "Model 2 Root Mean Squared Error: 0.06279391885787529\n",
            "\n",
            "Training model 3\n",
            "Model 3 Root Mean Squared Error: 0.05049941911260589\n",
            "\n",
            "Training model 4\n",
            "Model 4 Root Mean Squared Error: 0.06680059377472877\n",
            "\n",
            "Training model 5\n",
            "Model 5 Root Mean Squared Error: 0.059951106068342676\n"
          ]
        }
      ],
      "metadata": {
        "id": "0sNT9ZX1jEEg",
        "colab": {
          "base_uri": "https://localhost:8080/",
          "height": 302
        },
        "outputId": "76ce54c6-9fb4-4007-bc83-6bc5702d233d"
      }
    },
    {
      "cell_type": "code",
      "execution_count": 17,
      "source": [
        "folds.split(X)"
      ],
      "outputs": [
        {
          "output_type": "execute_result",
          "data": {
            "text/plain": [
              "<generator object _BaseKFold.split at 0x00000173A26C19E0>"
            ]
          },
          "metadata": {},
          "execution_count": 17
        }
      ],
      "metadata": {}
    },
    {
      "cell_type": "markdown",
      "source": [
        "As you can tell from running the code, the RMSE value for our first model is fairly larger than the RMSE we found initially, and that of the other models. This would beg for an analysis of the specific indeces used. Perhaps most of the dataset's outliers were in the test set of model 1? as a challenge, perform a comparative analysis of the subset of the data used to test model 1 in comparison with the dataset as a whole.\n",
        "\n",
        "Another useful observation is comparing the average RMSE value of all these models to the one we obtain in our initial approache. We created the array RMSES to gather all the RMSE values, we can compute the average simply as follows"
      ],
      "metadata": {
        "id": "9Knvg9a4oAYy"
      }
    },
    {
      "cell_type": "code",
      "execution_count": 3,
      "source": [
        "np.mean(RMSES)"
      ],
      "outputs": [
        {
          "output_type": "execute_result",
          "data": {
            "text/plain": [
              "0.07077894986627639"
            ]
          },
          "metadata": {},
          "execution_count": 3
        }
      ],
      "metadata": {
        "id": "S5-JhbCFqHjx",
        "colab": {
          "base_uri": "https://localhost:8080/",
          "height": 34
        },
        "outputId": "dd29bacc-c4f7-4319-f403-9b10f294364c"
      }
    },
    {
      "cell_type": "markdown",
      "source": [
        "As you can see, the average is fairly close to our initial value. However in this case, it might be worthwile to pick model 3 instead. \n",
        "\n",
        "Let's now highlight some variants of k-folds. A popular variant is called the leave one out cross validation, where the test data is just a single observation from your set. For a dataset of size **n**, this is the same as using kfold to create **n** folds. \n"
      ],
      "metadata": {
        "id": "CrNsYyAMqLy8"
      }
    },
    {
      "cell_type": "code",
      "execution_count": 4,
      "source": [
        "from sklearn.model_selection import LeaveOneOut\r\n",
        "\r\n",
        "# We will use the same 4 independent variables for this\r\n",
        "X = data[['GRE', 'TOEFL', 'SOP', 'LOR']].values\r\n",
        "y = data['admit_chance'].values\r\n",
        "\r\n",
        "folds = LeaveOneOut()\r\n",
        "\r\n",
        "# note that if you have a KFold object, you can figure out how many folds you set up \r\n",
        "# for it using get_n_splits\r\n",
        "print('we are using ' +str(folds.get_n_splits(X)) + ' folds')\r\n",
        "\r\n",
        "# We now create and assess 5 models based on the folds we created.\r\n",
        "RMSES = [] # We will use this array to keep track of the RSME of each model\r\n",
        "count = 0 # This will just help \r\n",
        "for train_index, test_index in folds.split(X):\r\n",
        "  \r\n",
        "  # set up the train and test based on the split determined by KFold\r\n",
        "  # With 5 folds, we will end up with 80% of our data in the training set, and 20% in the test set, just as above\r\n",
        "  X_train, X_test = X[train_index], X[test_index]\r\n",
        "  y_train, y_test = y[train_index], y[test_index]\r\n",
        "  \r\n",
        "  # fit a model accordingly\r\n",
        "  regressor = LinearRegression()  \r\n",
        "  regressor.fit(X_train, y_train)\r\n",
        "  \r\n",
        "  # assess the accuraccy of the model\r\n",
        "  y_pred = regressor.predict(X_test)\r\n",
        "  \r\n",
        "  rmse_value =  np.sqrt(metrics.mean_squared_error(y_test, y_pred))\r\n",
        "  RMSES.append(rmse_value)\r\n",
        "  \r\n",
        "  count = count + 1\r\n",
        "print('trained ' + str(count) + ' models' )\r\n",
        "np.mean(RMSES)"
      ],
      "outputs": [
        {
          "output_type": "stream",
          "name": "stdout",
          "text": [
            "we are using 500 folds\n",
            "trained 500 models\n"
          ]
        },
        {
          "output_type": "execute_result",
          "data": {
            "text/plain": [
              "0.05209496129447928"
            ]
          },
          "metadata": {},
          "execution_count": 4
        }
      ],
      "metadata": {
        "id": "_LKjU1x7sOK_",
        "colab": {
          "base_uri": "https://localhost:8080/",
          "height": 67
        },
        "outputId": "e8b1f8cd-2099-45fe-dcab-aba2798b4262"
      }
    },
    {
      "cell_type": "markdown",
      "source": [
        "In this scenario it is also helpful to plot out the RMSE values across all models:"
      ],
      "metadata": {
        "id": "E8HOD6gpuVyA"
      }
    },
    {
      "cell_type": "code",
      "execution_count": 5,
      "source": [
        "import matplotlib.pyplot as plt\r\n",
        "\r\n",
        "plt.plot(RMSES)\r\n",
        "plt.ylabel('RMSE value')\r\n",
        "plt.xlabel('model ID')\r\n",
        "plt.show()"
      ],
      "outputs": [
        {
          "output_type": "display_data",
          "data": {
            "image/png": "[encoded data removed]",
            "text/plain": [
              "<Figure size 432x288 with 1 Axes>"
            ]
          },
          "metadata": {
            "needs_background": "light"
          }
        }
      ],
      "metadata": {
        "id": "sGe1ELsCuf3B",
        "colab": {
          "base_uri": "https://localhost:8080/",
          "height": 283
        },
        "outputId": "7237858a-0929-4cb5-f3f9-86e116160de0"
      }
    },
    {
      "cell_type": "markdown",
      "source": [
        "All in all, this indicates to us that it would be challenging to create a model that beats the ~0.05 average RMSE using this dataset. This is the benefit of using Leave One Out Cross validation: It gives us a sense of how best we can expect a given model to be using our dataset. Note however that this can be an extremely time consuming process for large datasets."
      ],
      "metadata": {
        "id": "GqXlrIdrwBWY"
      }
    },
    {
      "cell_type": "markdown",
      "source": [
        "# Challenge 1\n",
        "\n",
        "Revisit yesterday's challenge on wine quality, and use k-folds cross validation with 10 folds. Was your model good enough? Could you find a better performing model?\n",
        "\n",
        "([Dataset link here](https://colab.research.google.com/drive/1IKt0hW3aWrKNwB0xxOQGjjWC8h3t_G8Q?authuser=1#scrollTo=-erZrimA8qNm))"
      ],
      "metadata": {
        "id": "rnkGt08gwal2"
      }
    },
    {
      "cell_type": "code",
      "execution_count": 22,
      "source": [
        "wine = pd.read_csv('data/winequality-red.csv')\r\n",
        "X=wine.drop(['quality','density','alcohol','fixed acidity','pH','sulphates','free sulfur dioxide','volatile acidity'],axis=1)\r\n",
        "vif = pd.DataFrame()\r\n",
        "vif[\"features\"] = X.columns\r\n",
        "vif[\"vif_Factor\"] = [variance_inflation_factor(X.values, i) for i in range(X.shape[1])]\r\n",
        "#print(vif)\r\n",
        "\r\n",
        "cols = list(vif['features'])\r\n",
        "\r\n",
        "X = wine[cols]\r\n",
        "y = wine['quality']\r\n",
        "cols"
      ],
      "outputs": [
        {
          "output_type": "execute_result",
          "data": {
            "text/plain": [
              "['citric acid', 'residual sugar', 'chlorides', 'total sulfur dioxide']"
            ]
          },
          "metadata": {},
          "execution_count": 22
        }
      ],
      "metadata": {
        "id": "FpArGGFMwuxP"
      }
    },
    {
      "cell_type": "code",
      "execution_count": 20,
      "source": [
        "from statsmodels.stats.outliers_influence import variance_inflation_factor\r\n",
        "X=data.drop(columns=['Serial No.', 'admit_chance'])\r\n",
        "vif = pd.DataFrame()\r\n",
        "vif[\"features\"] = X.columns\r\n",
        "vif[\"vif_Factor\"] = [variance_inflation_factor(X.values, i) for i in range(X.shape[1])]\r\n",
        "print(vif)\r\n",
        "cols = list(vif['features'])\r\n",
        "X = data[cols]\r\n",
        "y = data['admit_chance']\r\n",
        "y"
      ],
      "outputs": [
        {
          "output_type": "stream",
          "name": "stdout",
          "text": [
            "       features   vif_Factor\n",
            "0           GRE  1308.061089\n",
            "1         TOEFL  1215.951898\n",
            "2    uni_rating    20.933361\n",
            "3           SOP    35.265006\n",
            "4           LOR    30.911476\n",
            "5          CGPA   950.817985\n",
            "6  publications     2.869493\n"
          ]
        },
        {
          "output_type": "execute_result",
          "data": {
            "text/plain": [
              "0      0.92\n",
              "1      0.76\n",
              "2      0.72\n",
              "3      0.80\n",
              "4      0.65\n",
              "       ... \n",
              "495    0.87\n",
              "496    0.96\n",
              "497    0.93\n",
              "498    0.73\n",
              "499    0.84\n",
              "Name: admit_chance, Length: 500, dtype: float64"
            ]
          },
          "metadata": {},
          "execution_count": 20
        }
      ],
      "metadata": {}
    },
    {
      "cell_type": "code",
      "execution_count": 23,
      "source": [
        "from sklearn.model_selection import KFold\r\n",
        "folds = KFold(n_splits=5)\r\n",
        "\r\n",
        "# note that if you have a KFold object, you can figure out how many folds you set up \r\n",
        "# for it using get_n_splits\r\n",
        "print('we are using ' +str(folds.get_n_splits(X)) + ' folds')\r\n",
        "\r\n",
        "# We now create and assess 5 models based on the folds we created.\r\n",
        "RMSES = [] # We will use this array to keep track of the RSME of each model\r\n",
        "count = 1 # This will just help \r\n",
        "for train_index, test_index in folds.split(X):\r\n",
        "  print('\\nTraining model ' + str(count))\r\n",
        "  \r\n",
        "  # set up the train and test based on the split determined by KFold\r\n",
        "  # With 5 folds, we will end up with 80% of our data in the training set, and 20% in the test set, just as above\r\n",
        "  X_train, X_test = X[train_index], X[test_index]\r\n",
        "  y_train, y_test = y[train_index], y[test_index]\r\n",
        "  \r\n",
        "  # fit a model accordingly\r\n",
        "  regressor = LinearRegression()  \r\n",
        "  regressor.fit(X_train, y_train)\r\n",
        "  \r\n",
        "  # assess the accuraccy of the model\r\n",
        "  y_pred = regressor.predict(X_test)\r\n",
        "\r\n",
        "  rmse_value =  np.sqrt(metrics.mean_squared_error(y_test, y_pred))\r\n",
        "  RMSES.append(rmse_value)\r\n",
        "  \r\n",
        "  print('Model ' + str(count) + ' Root Mean Squared Error:',rmse_value)\r\n",
        "  count = count + 1"
      ],
      "outputs": [
        {
          "output_type": "stream",
          "name": "stdout",
          "text": [
            "we are using 5 folds\n",
            "\n",
            "Training model 1\n"
          ]
        },
        {
          "output_type": "error",
          "ename": "KeyError",
          "evalue": "\"None of [Int64Index([ 320,  321,  322,  323,  324,  325,  326,  327,  328,  329,\\n            ...\\n            1589, 1590, 1591, 1592, 1593, 1594, 1595, 1596, 1597, 1598],\\n           dtype='int64', length=1279)] are in the [columns]\"",
          "traceback": [
            "\u001b[1;31m---------------------------------------------------------------------------\u001b[0m",
            "\u001b[1;31mKeyError\u001b[0m                                  Traceback (most recent call last)",
            "\u001b[1;32m<ipython-input-23-f040facaeb7a>\u001b[0m in \u001b[0;36m<module>\u001b[1;34m\u001b[0m\n\u001b[0;32m     14\u001b[0m   \u001b[1;31m# set up the train and test based on the split determined by KFold\u001b[0m\u001b[1;33m\u001b[0m\u001b[1;33m\u001b[0m\u001b[1;33m\u001b[0m\u001b[0m\n\u001b[0;32m     15\u001b[0m   \u001b[1;31m# With 5 folds, we will end up with 80% of our data in the training set, and 20% in the test set, just as above\u001b[0m\u001b[1;33m\u001b[0m\u001b[1;33m\u001b[0m\u001b[1;33m\u001b[0m\u001b[0m\n\u001b[1;32m---> 16\u001b[1;33m   \u001b[0mX_train\u001b[0m\u001b[1;33m,\u001b[0m \u001b[0mX_test\u001b[0m \u001b[1;33m=\u001b[0m \u001b[0mX\u001b[0m\u001b[1;33m[\u001b[0m\u001b[0mtrain_index\u001b[0m\u001b[1;33m]\u001b[0m\u001b[1;33m,\u001b[0m \u001b[0mX\u001b[0m\u001b[1;33m[\u001b[0m\u001b[0mtest_index\u001b[0m\u001b[1;33m]\u001b[0m\u001b[1;33m\u001b[0m\u001b[1;33m\u001b[0m\u001b[0m\n\u001b[0m\u001b[0;32m     17\u001b[0m   \u001b[0my_train\u001b[0m\u001b[1;33m,\u001b[0m \u001b[0my_test\u001b[0m \u001b[1;33m=\u001b[0m \u001b[0my\u001b[0m\u001b[1;33m[\u001b[0m\u001b[0mtrain_index\u001b[0m\u001b[1;33m]\u001b[0m\u001b[1;33m,\u001b[0m \u001b[0my\u001b[0m\u001b[1;33m[\u001b[0m\u001b[0mtest_index\u001b[0m\u001b[1;33m]\u001b[0m\u001b[1;33m\u001b[0m\u001b[1;33m\u001b[0m\u001b[0m\n\u001b[0;32m     18\u001b[0m \u001b[1;33m\u001b[0m\u001b[0m\n",
            "\u001b[1;32m~\\anaconda3\\lib\\site-packages\\pandas\\core\\frame.py\u001b[0m in \u001b[0;36m__getitem__\u001b[1;34m(self, key)\u001b[0m\n\u001b[0;32m   3459\u001b[0m             \u001b[1;32mif\u001b[0m \u001b[0mis_iterator\u001b[0m\u001b[1;33m(\u001b[0m\u001b[0mkey\u001b[0m\u001b[1;33m)\u001b[0m\u001b[1;33m:\u001b[0m\u001b[1;33m\u001b[0m\u001b[1;33m\u001b[0m\u001b[0m\n\u001b[0;32m   3460\u001b[0m                 \u001b[0mkey\u001b[0m \u001b[1;33m=\u001b[0m \u001b[0mlist\u001b[0m\u001b[1;33m(\u001b[0m\u001b[0mkey\u001b[0m\u001b[1;33m)\u001b[0m\u001b[1;33m\u001b[0m\u001b[1;33m\u001b[0m\u001b[0m\n\u001b[1;32m-> 3461\u001b[1;33m             \u001b[0mindexer\u001b[0m \u001b[1;33m=\u001b[0m \u001b[0mself\u001b[0m\u001b[1;33m.\u001b[0m\u001b[0mloc\u001b[0m\u001b[1;33m.\u001b[0m\u001b[0m_get_listlike_indexer\u001b[0m\u001b[1;33m(\u001b[0m\u001b[0mkey\u001b[0m\u001b[1;33m,\u001b[0m \u001b[0maxis\u001b[0m\u001b[1;33m=\u001b[0m\u001b[1;36m1\u001b[0m\u001b[1;33m)\u001b[0m\u001b[1;33m[\u001b[0m\u001b[1;36m1\u001b[0m\u001b[1;33m]\u001b[0m\u001b[1;33m\u001b[0m\u001b[1;33m\u001b[0m\u001b[0m\n\u001b[0m\u001b[0;32m   3462\u001b[0m \u001b[1;33m\u001b[0m\u001b[0m\n\u001b[0;32m   3463\u001b[0m         \u001b[1;31m# take() does not accept boolean indexers\u001b[0m\u001b[1;33m\u001b[0m\u001b[1;33m\u001b[0m\u001b[1;33m\u001b[0m\u001b[0m\n",
            "\u001b[1;32m~\\anaconda3\\lib\\site-packages\\pandas\\core\\indexing.py\u001b[0m in \u001b[0;36m_get_listlike_indexer\u001b[1;34m(self, key, axis)\u001b[0m\n\u001b[0;32m   1312\u001b[0m             \u001b[0mkeyarr\u001b[0m\u001b[1;33m,\u001b[0m \u001b[0mindexer\u001b[0m\u001b[1;33m,\u001b[0m \u001b[0mnew_indexer\u001b[0m \u001b[1;33m=\u001b[0m \u001b[0max\u001b[0m\u001b[1;33m.\u001b[0m\u001b[0m_reindex_non_unique\u001b[0m\u001b[1;33m(\u001b[0m\u001b[0mkeyarr\u001b[0m\u001b[1;33m)\u001b[0m\u001b[1;33m\u001b[0m\u001b[1;33m\u001b[0m\u001b[0m\n\u001b[0;32m   1313\u001b[0m \u001b[1;33m\u001b[0m\u001b[0m\n\u001b[1;32m-> 1314\u001b[1;33m         \u001b[0mself\u001b[0m\u001b[1;33m.\u001b[0m\u001b[0m_validate_read_indexer\u001b[0m\u001b[1;33m(\u001b[0m\u001b[0mkeyarr\u001b[0m\u001b[1;33m,\u001b[0m \u001b[0mindexer\u001b[0m\u001b[1;33m,\u001b[0m \u001b[0maxis\u001b[0m\u001b[1;33m)\u001b[0m\u001b[1;33m\u001b[0m\u001b[1;33m\u001b[0m\u001b[0m\n\u001b[0m\u001b[0;32m   1315\u001b[0m \u001b[1;33m\u001b[0m\u001b[0m\n\u001b[0;32m   1316\u001b[0m         if needs_i8_conversion(ax.dtype) or isinstance(\n",
            "\u001b[1;32m~\\anaconda3\\lib\\site-packages\\pandas\\core\\indexing.py\u001b[0m in \u001b[0;36m_validate_read_indexer\u001b[1;34m(self, key, indexer, axis)\u001b[0m\n\u001b[0;32m   1372\u001b[0m                 \u001b[1;32mif\u001b[0m \u001b[0muse_interval_msg\u001b[0m\u001b[1;33m:\u001b[0m\u001b[1;33m\u001b[0m\u001b[1;33m\u001b[0m\u001b[0m\n\u001b[0;32m   1373\u001b[0m                     \u001b[0mkey\u001b[0m \u001b[1;33m=\u001b[0m \u001b[0mlist\u001b[0m\u001b[1;33m(\u001b[0m\u001b[0mkey\u001b[0m\u001b[1;33m)\u001b[0m\u001b[1;33m\u001b[0m\u001b[1;33m\u001b[0m\u001b[0m\n\u001b[1;32m-> 1374\u001b[1;33m                 \u001b[1;32mraise\u001b[0m \u001b[0mKeyError\u001b[0m\u001b[1;33m(\u001b[0m\u001b[1;34mf\"None of [{key}] are in the [{axis_name}]\"\u001b[0m\u001b[1;33m)\u001b[0m\u001b[1;33m\u001b[0m\u001b[1;33m\u001b[0m\u001b[0m\n\u001b[0m\u001b[0;32m   1375\u001b[0m \u001b[1;33m\u001b[0m\u001b[0m\n\u001b[0;32m   1376\u001b[0m             \u001b[0mnot_found\u001b[0m \u001b[1;33m=\u001b[0m \u001b[0mlist\u001b[0m\u001b[1;33m(\u001b[0m\u001b[0mensure_index\u001b[0m\u001b[1;33m(\u001b[0m\u001b[0mkey\u001b[0m\u001b[1;33m)\u001b[0m\u001b[1;33m[\u001b[0m\u001b[0mmissing_mask\u001b[0m\u001b[1;33m.\u001b[0m\u001b[0mnonzero\u001b[0m\u001b[1;33m(\u001b[0m\u001b[1;33m)\u001b[0m\u001b[1;33m[\u001b[0m\u001b[1;36m0\u001b[0m\u001b[1;33m]\u001b[0m\u001b[1;33m]\u001b[0m\u001b[1;33m.\u001b[0m\u001b[0munique\u001b[0m\u001b[1;33m(\u001b[0m\u001b[1;33m)\u001b[0m\u001b[1;33m)\u001b[0m\u001b[1;33m\u001b[0m\u001b[1;33m\u001b[0m\u001b[0m\n",
            "\u001b[1;31mKeyError\u001b[0m: \"None of [Int64Index([ 320,  321,  322,  323,  324,  325,  326,  327,  328,  329,\\n            ...\\n            1589, 1590, 1591, 1592, 1593, 1594, 1595, 1596, 1597, 1598],\\n           dtype='int64', length=1279)] are in the [columns]\""
          ]
        }
      ],
      "metadata": {}
    },
    {
      "cell_type": "markdown",
      "source": [
        "# Challenge 2\n",
        "Another common variant of kfold is repeated kfold cross validation. This means that the folding and training processes get repeated several times, shuffling the dataset at each instance.\n",
        "\n",
        "Read up n how to perform repeated kfold [here](https://scikit-learn.org/stable/modules/generated/sklearn.model_selection.RepeatedKFold.html#sklearn.model_selection.RepeatedKFold) \n",
        " \n",
        "Then, create a model to predict university admission again, this time using all independent varible, and krepeated kfold of your choice. Can you improve on the results without cross validation? Can you improve on the results from the Leave One Out cross validation?\n",
        "\n"
      ],
      "metadata": {
        "id": "CzunZqz8wvnh"
      }
    },
    {
      "cell_type": "code",
      "execution_count": 7,
      "source": [
        "# YOUR CODE GOES HERE\r\n"
      ],
      "outputs": [],
      "metadata": {
        "id": "hI2yCfnpEcQG"
      }
    }
  ]
}